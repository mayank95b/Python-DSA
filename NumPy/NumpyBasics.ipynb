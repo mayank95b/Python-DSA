{
 "cells": [
  {
   "cell_type": "markdown",
   "metadata": {},
   "source": [
    "<img src=\"numpy.png\"\n",
    "     align=\"right\"\n",
    "     width=\"30%\"\n",
    "     alt=\"Python logo\\\">\n",
    "\n",
    "# NumPy Package in Python\n",
    "\n",
    "NumPy is an open source library available in Python that aids in mathematical, scientific, engineering, and data science programming. NumPy is an incredible library to perform mathematical and statistical operations. It works perfectly well for multi-dimensional arrays and matrices multiplication\n",
    "\n",
    "- Fundamental package for scientific computing with Python\n",
    "- It has a powerful N-dimensional Array Object called as ndarray and routine to manipulate it\n",
    "- It also has other derived objects like masked arrays ans matrices\n",
    "- NumPy is used by other libraries like Scipy, matplotlib, OpenCV, Scikit-image,Scikit learn, pandas to store the multi-dimensional data.\n",
    "\n",
    "**For Example** -: numpy provides ndarray to store image and that can be manipulate accordingly\n"
   ]
  },
  {
   "cell_type": "markdown",
   "metadata": {},
   "source": [
    "## Why use NumPy?\n",
    "\n",
    "- NumPy is memory efficiency, meaning it can handle the vast amount of data more accessible than any other library.\n",
    "- Besides, NumPy is very convenient to work with, especially for matrix multiplication and reshaping.On top of that, NumPy is fast. \n",
    "- In fact, TensorFlow and Scikit learn to use NumPy array to compute the matrix multiplication in the back end."
   ]
  },
  {
   "cell_type": "markdown",
   "metadata": {},
   "source": [
    "#### N-Dimensional array(ndarray) in Numpy\n",
    "\n",
    "Array in Numpy is a table of elements (usually numbers), all of the same type, indexed by a tuple of positive integers. In Numpy, number of dimensions of the array is called rank of the array.A tuple of integers giving the size of the array along each dimension is known as shape of the array. An array class in Numpy is called as ndarray. Elements in Numpy arrays are accessed by using square brackets and can be initialized by using nested Python Lists."
   ]
  },
  {
   "cell_type": "code",
   "execution_count": 2,
   "metadata": {},
   "outputs": [
    {
     "name": "stdout",
     "output_type": "stream",
     "text": [
      "Array is of type:  <class 'numpy.ndarray'>\n",
      "No. of dimensions:  2\n",
      "Shape of array:  (2, 3)\n",
      "Size of array:  6\n",
      "Array stores elements of type:  int32\n"
     ]
    }
   ],
   "source": [
    "# Python program to demonstrate \n",
    "# basic array characteristics\n",
    "import numpy as np\n",
    " \n",
    "# Creating array object\n",
    "arr = np.array( [[ 1, 2, 3],\n",
    "                 [ 4, 2, 5]] )\n",
    " \n",
    "# Printing type of arr object\n",
    "print(\"Array is of type: \", type(arr))\n",
    " \n",
    "# Printing array dimensions (axes)\n",
    "print(\"No. of dimensions: \", arr.ndim)\n",
    " \n",
    "# Printing shape of array\n",
    "print(\"Shape of array: \", arr.shape)\n",
    " \n",
    "# Printing size (total number of elements) of array\n",
    "print(\"Size of array: \", arr.size)\n",
    " \n",
    "# Printing type of elements in array\n",
    "print(\"Array stores elements of type: \", arr.dtype)"
   ]
  },
  {
   "cell_type": "markdown",
   "metadata": {},
   "source": [
    "### Array Creation\n",
    "\n",
    "There are various ways to create arrays in NumPy.\n",
    "\n",
    "- For example, you can create an array from a regular Python **list** or **tuple** using the array function. The type of the resulting array is deduced from the type of the elements in the sequences.\n",
    "- Often, the elements of an array are originally unknown, but its size is known. Hence, NumPy offers several functions to create arrays with initial placeholder content. These minimize the necessity of growing arrays, an expensive operation.\n",
    "  For example: np.zeros, np.ones, np.full, np.empty, etc.\n",
    "- **arange:** returns evenly spaced values within a given interval. step size is specified.\n",
    "- **linspace:** returns evenly spaced values within a given interval. num no. of elements are returned.\n",
    "- **Reshaping array:** We can use reshape method to reshape an array. Consider an array with shape (a1, a2, a3, …, aN). We can reshape and convert it into another array with shape (b1, b2, b3, …, bM). The only required condition is: \n",
    "  a1 x a2 x a3 … x aN = b1 x b2 x b3 … x bM . (i.e original size of array remains unchanged.)\n",
    "- **Flatten array:** We can use flatten method to get a copy of array collapsed into one dimension. It accepts order argument. Default value is ‘C’ (for row-major order). Use ‘F’ for column major order."
   ]
  },
  {
   "cell_type": "code",
   "execution_count": 2,
   "metadata": {},
   "outputs": [
    {
     "name": "stdout",
     "output_type": "stream",
     "text": [
      "Array created using passed list:\n",
      " [[1. 2. 4.]\n",
      " [5. 8. 7.]]\n",
      "\n",
      "Array created using passed tuple:\n",
      " [1 3 2]\n",
      "\n",
      "An array initialized with all zeros:\n",
      " [[0. 0. 0. 0.]\n",
      " [0. 0. 0. 0.]\n",
      " [0. 0. 0. 0.]]\n",
      "\n",
      "An array initialized with all 6s.Array type is complex:\n",
      " [[6.+0.j 6.+0.j 6.+0.j]\n",
      " [6.+0.j 6.+0.j 6.+0.j]\n",
      " [6.+0.j 6.+0.j 6.+0.j]]\n"
     ]
    }
   ],
   "source": [
    "# Python program to demonstrate\n",
    "# array creation techniques\n",
    "import numpy as np\n",
    " \n",
    "# Creating array from list with type float\n",
    "a = np.array([[1, 2, 4], [5, 8, 7]], dtype = 'float')\n",
    "print (\"Array created using passed list:\\n\", a)\n",
    " \n",
    "# Creating array from tuple\n",
    "b = np.array((1 , 3, 2))\n",
    "print (\"\\nArray created using passed tuple:\\n\", b)\n",
    " \n",
    "# Creating a 3X4 array with all zeros\n",
    "c = np.zeros((3, 4))\n",
    "print (\"\\nAn array initialized with all zeros:\\n\", c)\n",
    " \n",
    "# Create a constant value array of complex type\n",
    "d = np.full((3, 3), 6, dtype = 'complex')\n",
    "print (\"\\nAn array initialized with all 6s.\"\n",
    "            \"Array type is complex:\\n\", d)"
   ]
  },
  {
   "cell_type": "markdown",
   "metadata": {},
   "source": [
    "### Array Indexing\n",
    "\n",
    "Knowing the basics of array indexing is important for analysing and manipulating the array object. NumPy offers many ways to do array indexing.\n",
    "\n",
    "- **Slicing:** Just like lists in python, NumPy arrays can be sliced. As arrays can be multidimensional, you need to specify a slice for each dimension of the array.\n",
    "- **Integer array indexing:** In this method, lists are passed for indexing for each dimension. One to one mapping of corresponding elements is done to construct a new arbitrary array.\n",
    "- **Boolean array indexing:** This method is used when we want to pick elements from array which satisfy some condition."
   ]
  },
  {
   "cell_type": "code",
   "execution_count": 12,
   "metadata": {},
   "outputs": [
    {
     "name": "stdout",
     "output_type": "stream",
     "text": [
      "Array with first column:\n",
      " [-1.   4.   2.6  3. ]\n",
      "Array with first row:\n",
      " [-1.  2.  0.  4.]\n",
      "Array with first 2 rows and alternatecolumns(0 and 2):\n",
      " [[-1.  0.]\n",
      " [ 4.  6.]]\n",
      "\n",
      "Elements at indices (0, 3), (1, 2), (2, 1),(3, 0):\n",
      " [4. 6. 0. 3.]\n",
      "\n",
      "Elements greater than 0:\n",
      " [2.  4.  4.  6.  2.6 7.  8.  3.  4.  2. ]\n"
     ]
    }
   ],
   "source": [
    "# Python program to demonstrate\n",
    "# indexing in numpy\n",
    "import numpy as np\n",
    " \n",
    "# An exemplar array\n",
    "arr = np.array([[-1, 2, 0, 4],\n",
    "                [4, -0.5, 6, 0],\n",
    "                [2.6, 0, 7, 8],\n",
    "                [3, -7, 4, 2.0]])\n",
    " \n",
    "# Slicing array\n",
    "\n",
    "temp = arr[:,0]\n",
    "print(\"Array with first column:\\n\",temp)\n",
    "\n",
    "temp = arr[0, :]\n",
    "print(\"Array with first row:\\n\",temp)\n",
    "\n",
    "temp = arr[:2, ::2]\n",
    "print (\"Array with first 2 rows and alternate\"\n",
    "                    \"columns(0 and 2):\\n\", temp)\n",
    " \n",
    "# Integer array indexing example\n",
    "temp = arr[[0, 1, 2, 3], [3, 2, 1, 0]]\n",
    "print (\"\\nElements at indices (0, 3), (1, 2), (2, 1),\"\n",
    "                                    \"(3, 0):\\n\", temp)\n",
    " \n",
    "# boolean array indexing example\n",
    "cond = arr > 0 # cond is a boolean array\n",
    "temp = arr[cond]\n",
    "print (\"\\nElements greater than 0:\\n\", temp)"
   ]
  },
  {
   "cell_type": "markdown",
   "metadata": {},
   "source": [
    "## Numpy ndarray properties"
   ]
  },
  {
   "cell_type": "code",
   "execution_count": 13,
   "metadata": {},
   "outputs": [],
   "source": [
    "#A 3-dimensional array of size 3 x 3 x 3, composed of 2-byte integer elements:\n",
    "\n",
    "x = np.array([[[1, 2, 3], [4, 5, 6], [7, 8, 9]], [[10, 11, 12], [13, 14, 15], [16, 17, 18]],\n",
    "                  [[10, 11, 12], [13, 14, 15], [16, 17, 18]]])"
   ]
  },
  {
   "cell_type": "code",
   "execution_count": 22,
   "metadata": {},
   "outputs": [
    {
     "name": "stdout",
     "output_type": "stream",
     "text": [
      "Shape of array : (3, 3, 3)\n",
      "No. of Dimensions : 3\n",
      "Array type : <class 'numpy.ndarray'>\n",
      "data type : int32\n",
      "size : 27\n",
      "bytes consumed : 108\n"
     ]
    }
   ],
   "source": [
    "print(\"Shape of array :\",x.shape)\n",
    "print(\"No. of Dimensions :\",x.ndim)\n",
    "print(\"Array type :\",type(x))\n",
    "print(\"data type :\",x.dtype)\n",
    "print(\"size :\",x.size)\n",
    "print(\"bytes consumed :\",x.nbytes)"
   ]
  },
  {
   "cell_type": "code",
   "execution_count": 23,
   "metadata": {},
   "outputs": [
    {
     "name": "stdout",
     "output_type": "stream",
     "text": [
      "Transpose of Array : [[[ 1 10 10]\n",
      "  [ 4 13 13]\n",
      "  [ 7 16 16]]\n",
      "\n",
      " [[ 2 11 11]\n",
      "  [ 5 14 14]\n",
      "  [ 8 17 17]]\n",
      "\n",
      " [[ 3 12 12]\n",
      "  [ 6 15 15]\n",
      "  [ 9 18 18]]]\n"
     ]
    }
   ],
   "source": [
    "print(\"Transpose of Array :\",x.T)"
   ]
  },
  {
   "cell_type": "markdown",
   "metadata": {},
   "source": [
    "## Scientific Constants"
   ]
  },
  {
   "cell_type": "code",
   "execution_count": 26,
   "metadata": {},
   "outputs": [
    {
     "name": "stdout",
     "output_type": "stream",
     "text": [
      "inf\n",
      "nan\n",
      "-inf\n",
      "-0.0\n",
      "0.0\n",
      "2.718281828459045\n",
      "0.5772156649015329\n",
      "3.141592653589793\n"
     ]
    }
   ],
   "source": [
    "print(np.inf)\n",
    "print(np.NAN)\n",
    "print(np.NINF)\n",
    "print(np.NZERO)\n",
    "print(np.PZERO)\n",
    "print(np.e)\n",
    "print(np.euler_gamma)\n",
    "print(np.pi)"
   ]
  },
  {
   "cell_type": "markdown",
   "metadata": {},
   "source": [
    "## Ones and Zeros"
   ]
  },
  {
   "cell_type": "code",
   "execution_count": 2,
   "metadata": {},
   "outputs": [
    {
     "name": "stdout",
     "output_type": "stream",
     "text": [
      "[[0 0 0]\n",
      " [0 0 0]\n",
      " [0 0 0]]\n"
     ]
    }
   ],
   "source": [
    "import numpy as np\n",
    "\n",
    "x = np.empty([3,3], np.uint8)\n",
    "print(x)"
   ]
  },
  {
   "cell_type": "code",
   "execution_count": 3,
   "metadata": {},
   "outputs": [
    {
     "name": "stdout",
     "output_type": "stream",
     "text": [
      "[[1 0 0]\n",
      " [0 1 0]\n",
      " [0 0 1]]\n"
     ]
    }
   ],
   "source": [
    "#creates an array with diagonal elements are 1\n",
    "y = np.eye(3, dtype=np.uint8)\n",
    "print(y)"
   ]
  },
  {
   "cell_type": "code",
   "execution_count": 8,
   "metadata": {},
   "outputs": [
    {
     "name": "stdout",
     "output_type": "stream",
     "text": [
      "[[0 1 0 0 0]\n",
      " [0 0 1 0 0]\n",
      " [0 0 0 1 0]\n",
      " [0 0 0 0 1]\n",
      " [0 0 0 0 0]] \n",
      "\n",
      "[[0 0 0 0 0]\n",
      " [1 0 0 0 0]\n",
      " [0 1 0 0 0]\n",
      " [0 0 1 0 0]\n",
      " [0 0 0 1 0]]\n"
     ]
    }
   ],
   "source": [
    "y1 = np.eye(5, dtype=np.uint8, k=1) # position of 1 shift upward\n",
    "y2 = np.eye(5, dtype=np.uint8, k=-1) # position of 1 shift downward\n",
    "print(y1,\"\\n\")\n",
    "print(y2)"
   ]
  },
  {
   "cell_type": "code",
   "execution_count": 10,
   "metadata": {},
   "outputs": [
    {
     "name": "stdout",
     "output_type": "stream",
     "text": [
      "[[[1 1 1 1 1]\n",
      "  [1 1 1 1 1]\n",
      "  [1 1 1 1 1]\n",
      "  [1 1 1 1 1]\n",
      "  [1 1 1 1 1]]\n",
      "\n",
      " [[1 1 1 1 1]\n",
      "  [1 1 1 1 1]\n",
      "  [1 1 1 1 1]\n",
      "  [1 1 1 1 1]\n",
      "  [1 1 1 1 1]]]\n"
     ]
    }
   ],
   "source": [
    "# creates matrices of all ones\n",
    "x = np.ones((2,5,5), dtype=np.int16)\n",
    "print(x)"
   ]
  },
  {
   "cell_type": "code",
   "execution_count": 13,
   "metadata": {},
   "outputs": [
    {
     "name": "stdout",
     "output_type": "stream",
     "text": [
      "[[[3 3 3]\n",
      "  [3 3 3]\n",
      "  [3 3 3]]\n",
      "\n",
      " [[3 3 3]\n",
      "  [3 3 3]\n",
      "  [3 3 3]]\n",
      "\n",
      " [[3 3 3]\n",
      "  [3 3 3]\n",
      "  [3 3 3]]]\n"
     ]
    }
   ],
   "source": [
    "# create matrx of specific dimension filled with user define number.\n",
    "x = np.full((3,3,3),dtype=np.int16, fill_value =3)\n",
    "print(x)"
   ]
  },
  {
   "cell_type": "markdown",
   "metadata": {},
   "source": [
    "## Matrix creation routines"
   ]
  },
  {
   "cell_type": "code",
   "execution_count": 15,
   "metadata": {},
   "outputs": [
    {
     "name": "stdout",
     "output_type": "stream",
     "text": [
      "[[0 0 0 0 0]\n",
      " [1 0 0 0 0]\n",
      " [1 1 0 0 0]\n",
      " [1 1 1 0 0]\n",
      " [1 1 1 1 0]]\n"
     ]
    }
   ],
   "source": [
    "x = np.tri(5,5, k=-1,dtype=np.uint16)\n",
    "print(x)"
   ]
  },
  {
   "cell_type": "code",
   "execution_count": 16,
   "metadata": {},
   "outputs": [
    {
     "name": "stdout",
     "output_type": "stream",
     "text": [
      "[[1 1 0 0 0]\n",
      " [1 1 1 0 0]\n",
      " [1 1 1 1 0]\n",
      " [1 1 1 1 1]\n",
      " [1 1 1 1 1]]\n"
     ]
    }
   ],
   "source": [
    "x = np.tri(5,5, k=1,dtype=np.uint16)\n",
    "print(x)"
   ]
  },
  {
   "cell_type": "code",
   "execution_count": 19,
   "metadata": {},
   "outputs": [
    {
     "name": "stdout",
     "output_type": "stream",
     "text": [
      "[[1 0 0 0 0]\n",
      " [1 1 0 0 0]\n",
      " [1 1 1 0 0]\n",
      " [1 1 1 1 0]\n",
      " [1 1 1 1 1]]\n"
     ]
    }
   ],
   "source": [
    "x= np.ones((5,5), dtype=np.uint8)\n",
    "y= np.tril(x, k=0)\n",
    "print(y)"
   ]
  },
  {
   "cell_type": "markdown",
   "metadata": {},
   "source": [
    "## Creating Random Arrays"
   ]
  },
  {
   "cell_type": "code",
   "execution_count": 20,
   "metadata": {},
   "outputs": [],
   "source": [
    "import numpy as np\n"
   ]
  },
  {
   "cell_type": "code",
   "execution_count": 21,
   "metadata": {},
   "outputs": [
    {
     "name": "stdout",
     "output_type": "stream",
     "text": [
      "[7 7 3 5 8 4 7 0 8 8]\n"
     ]
    }
   ],
   "source": [
    "# single dimensional ndarray of random integers in random order\n",
    "x = np.random.randint( low = 0, high =9, size = 10) # use in signal processing having some sort of random noise \n",
    "print(x)"
   ]
  },
  {
   "cell_type": "code",
   "execution_count": 23,
   "metadata": {},
   "outputs": [
    {
     "name": "stdout",
     "output_type": "stream",
     "text": [
      "[[[0.46735155 0.62661996 0.73425841]\n",
      "  [0.66173012 0.61649951 0.38652719]\n",
      "  [0.20350949 0.77344082 0.02363505]]\n",
      "\n",
      " [[0.85724543 0.47994644 0.44641774]\n",
      "  [0.92342035 0.43088488 0.75876901]\n",
      "  [0.47514119 0.38085809 0.66408282]]\n",
      "\n",
      " [[0.44799776 0.09744467 0.2163089 ]\n",
      "  [0.18486436 0.22467432 0.33806239]\n",
      "  [0.14043811 0.7588398  0.37365767]]]\n"
     ]
    }
   ],
   "source": [
    "# multi dimensional ndarray  in random order\n",
    "x =np.random.rand(3,3,3)\n",
    "print(x)"
   ]
  },
  {
   "cell_type": "markdown",
   "metadata": {},
   "source": [
    "## Array Manipulation "
   ]
  },
  {
   "cell_type": "code",
   "execution_count": 26,
   "metadata": {},
   "outputs": [
    {
     "name": "stdout",
     "output_type": "stream",
     "text": [
      "[0 1 2 3 4 5]\n"
     ]
    }
   ],
   "source": [
    "x = np.arange(6)\n",
    "print(x)"
   ]
  },
  {
   "cell_type": "code",
   "execution_count": 27,
   "metadata": {},
   "outputs": [
    {
     "name": "stdout",
     "output_type": "stream",
     "text": [
      "[[0 1]\n",
      " [2 3]\n",
      " [4 5]]\n"
     ]
    }
   ],
   "source": [
    "y = x.reshape((3,2))\n",
    "print(y)"
   ]
  },
  {
   "cell_type": "code",
   "execution_count": 31,
   "metadata": {},
   "outputs": [
    {
     "name": "stdout",
     "output_type": "stream",
     "text": [
      "[[0 1 2]\n",
      " [3 4 5]]\n"
     ]
    }
   ],
   "source": [
    "x =np.array([[0,1,2],[3,4,5]],dtype=np.uint16)\n",
    "print(x)"
   ]
  },
  {
   "cell_type": "code",
   "execution_count": 30,
   "metadata": {},
   "outputs": [
    {
     "name": "stdout",
     "output_type": "stream",
     "text": [
      "[0 1 2 3 4 5]\n"
     ]
    }
   ],
   "source": [
    "y = np.reshape(x,6)\n",
    "print(y)"
   ]
  },
  {
   "cell_type": "code",
   "execution_count": 33,
   "metadata": {},
   "outputs": [
    {
     "name": "stdout",
     "output_type": "stream",
     "text": [
      "[0 1 2 3 4 5]\n"
     ]
    }
   ],
   "source": [
    "y = np.ravel(x)\n",
    "print(y)"
   ]
  },
  {
   "cell_type": "markdown",
   "metadata": {},
   "source": [
    "#### Flatten"
   ]
  },
  {
   "cell_type": "code",
   "execution_count": 34,
   "metadata": {},
   "outputs": [
    {
     "name": "stdout",
     "output_type": "stream",
     "text": [
      "[0 1 2 3 4 5]\n"
     ]
    }
   ],
   "source": [
    "\n",
    "y = x.flatten('C') # or y = x.flatten() --> row wise\n",
    "print(y)"
   ]
  },
  {
   "cell_type": "code",
   "execution_count": 35,
   "metadata": {},
   "outputs": [
    {
     "name": "stdout",
     "output_type": "stream",
     "text": [
      "[0 3 1 4 2 5]\n"
     ]
    }
   ],
   "source": [
    "y = x.flatten('F') # column wise\n",
    "print(y)"
   ]
  },
  {
   "cell_type": "markdown",
   "metadata": {},
   "source": [
    "**Application** - These are useful in image processing to flatten a 2d image into a linear image for adjusting the histogram. "
   ]
  },
  {
   "cell_type": "code",
   "execution_count": 63,
   "metadata": {},
   "outputs": [
    {
     "name": "stdout",
     "output_type": "stream",
     "text": [
      "uint8\n",
      "[1 2 3]\n",
      "[4 5 6]\n"
     ]
    }
   ],
   "source": [
    "x = np.array([1,2,3], dtype = np.uint8)\n",
    "y = np.array([4,5,6], dtype = np.uint8)\n",
    "\n",
    "print(x.dtype)\n",
    "print(x)\n",
    "print(y)"
   ]
  },
  {
   "cell_type": "markdown",
   "metadata": {},
   "source": [
    "uint8 saves a lot of spaces specially for low memory devices like raspberry or embedded box"
   ]
  },
  {
   "cell_type": "markdown",
   "metadata": {},
   "source": [
    "#### Stack"
   ]
  },
  {
   "cell_type": "code",
   "execution_count": 64,
   "metadata": {},
   "outputs": [
    {
     "name": "stdout",
     "output_type": "stream",
     "text": [
      "[[1 2 3]\n",
      " [4 5 6]]\n"
     ]
    }
   ],
   "source": [
    "# Combining two matrices using stack\n",
    "z = np.stack((x,y), axis = 0)\n",
    "print(z)"
   ]
  },
  {
   "cell_type": "code",
   "execution_count": 65,
   "metadata": {},
   "outputs": [
    {
     "name": "stdout",
     "output_type": "stream",
     "text": [
      "[[[1 4]\n",
      "  [2 5]\n",
      "  [3 6]]]\n",
      "dimension : 3\n"
     ]
    }
   ],
   "source": [
    "z = np.dstack((x,y)) # depth wise \n",
    "print(z)\n",
    "print(\"dimension :\",z.ndim)"
   ]
  },
  {
   "cell_type": "code",
   "execution_count": 51,
   "metadata": {},
   "outputs": [
    {
     "name": "stdout",
     "output_type": "stream",
     "text": [
      "[1 2 3 4 5 6]\n",
      "dimension : 1\n"
     ]
    }
   ],
   "source": [
    "z = np.hstack((x,y))# horizontal wise\n",
    "print(z)\n",
    "print(\"dimension :\",z.ndim)"
   ]
  },
  {
   "cell_type": "markdown",
   "metadata": {},
   "source": [
    "#### Split"
   ]
  },
  {
   "cell_type": "code",
   "execution_count": 53,
   "metadata": {},
   "outputs": [
    {
     "name": "stdout",
     "output_type": "stream",
     "text": [
      "[0 1 2 3 4 5 6 7 8]\n",
      "[0 1 2] [3 4 5] [6 7 8]\n"
     ]
    }
   ],
   "source": [
    "x = np.arange(9)\n",
    "print(x)\n",
    "\n",
    "a,b,c = np.split(x,3)\n",
    "print(a, b, c)"
   ]
  },
  {
   "cell_type": "code",
   "execution_count": 67,
   "metadata": {},
   "outputs": [
    {
     "name": "stdout",
     "output_type": "stream",
     "text": [
      "[[[0.46140686 0.6830367  0.82369783 0.60930171]\n",
      "  [0.05049667 0.47966233 0.16316535 0.55782333]\n",
      "  [0.4865678  0.00671195 0.57155277 0.9674734 ]\n",
      "  [0.56329689 0.77052127 0.0810892  0.02500201]]\n",
      "\n",
      " [[0.7010874  0.04289411 0.87348696 0.02899563]\n",
      "  [0.69348287 0.99630842 0.76737088 0.70457698]\n",
      "  [0.51323594 0.97878266 0.14323835 0.56009832]\n",
      "  [0.25794749 0.52841618 0.34195005 0.32040498]]\n",
      "\n",
      " [[0.9022743  0.59177135 0.10095516 0.08783293]\n",
      "  [0.25361484 0.99727574 0.26891705 0.03014457]\n",
      "  [0.03954412 0.95528096 0.90992261 0.73893399]\n",
      "  [0.66196484 0.77322811 0.614282   0.579423  ]]\n",
      "\n",
      " [[0.37621145 0.27681821 0.7757313  0.98479359]\n",
      "  [0.06541976 0.13143074 0.59325866 0.51543907]\n",
      "  [0.86004584 0.29407988 0.91109064 0.48193942]\n",
      "  [0.10734769 0.87056716 0.77687437 0.60205857]]]\n"
     ]
    }
   ],
   "source": [
    "x = np.random.rand(4, 4, 4)\n",
    "print(x)\n"
   ]
  },
  {
   "cell_type": "code",
   "execution_count": 68,
   "metadata": {},
   "outputs": [
    {
     "name": "stdout",
     "output_type": "stream",
     "text": [
      "[[[0.46140686 0.6830367  0.82369783 0.60930171]\n",
      "  [0.05049667 0.47966233 0.16316535 0.55782333]\n",
      "  [0.4865678  0.00671195 0.57155277 0.9674734 ]\n",
      "  [0.56329689 0.77052127 0.0810892  0.02500201]]\n",
      "\n",
      " [[0.7010874  0.04289411 0.87348696 0.02899563]\n",
      "  [0.69348287 0.99630842 0.76737088 0.70457698]\n",
      "  [0.51323594 0.97878266 0.14323835 0.56009832]\n",
      "  [0.25794749 0.52841618 0.34195005 0.32040498]]] [[[0.9022743  0.59177135 0.10095516 0.08783293]\n",
      "  [0.25361484 0.99727574 0.26891705 0.03014457]\n",
      "  [0.03954412 0.95528096 0.90992261 0.73893399]\n",
      "  [0.66196484 0.77322811 0.614282   0.579423  ]]\n",
      "\n",
      " [[0.37621145 0.27681821 0.7757313  0.98479359]\n",
      "  [0.06541976 0.13143074 0.59325866 0.51543907]\n",
      "  [0.86004584 0.29407988 0.91109064 0.48193942]\n",
      "  [0.10734769 0.87056716 0.77687437 0.60205857]]]\n"
     ]
    }
   ],
   "source": [
    "y, z = np.split(x, 2)\n",
    "print(y , z)"
   ]
  },
  {
   "cell_type": "code",
   "execution_count": 69,
   "metadata": {},
   "outputs": [
    {
     "name": "stdout",
     "output_type": "stream",
     "text": [
      "[[[0.46140686 0.6830367 ]\n",
      "  [0.05049667 0.47966233]\n",
      "  [0.4865678  0.00671195]\n",
      "  [0.56329689 0.77052127]]\n",
      "\n",
      " [[0.7010874  0.04289411]\n",
      "  [0.69348287 0.99630842]\n",
      "  [0.51323594 0.97878266]\n",
      "  [0.25794749 0.52841618]]\n",
      "\n",
      " [[0.9022743  0.59177135]\n",
      "  [0.25361484 0.99727574]\n",
      "  [0.03954412 0.95528096]\n",
      "  [0.66196484 0.77322811]]\n",
      "\n",
      " [[0.37621145 0.27681821]\n",
      "  [0.06541976 0.13143074]\n",
      "  [0.86004584 0.29407988]\n",
      "  [0.10734769 0.87056716]]] [[[0.82369783 0.60930171]\n",
      "  [0.16316535 0.55782333]\n",
      "  [0.57155277 0.9674734 ]\n",
      "  [0.0810892  0.02500201]]\n",
      "\n",
      " [[0.87348696 0.02899563]\n",
      "  [0.76737088 0.70457698]\n",
      "  [0.14323835 0.56009832]\n",
      "  [0.34195005 0.32040498]]\n",
      "\n",
      " [[0.10095516 0.08783293]\n",
      "  [0.26891705 0.03014457]\n",
      "  [0.90992261 0.73893399]\n",
      "  [0.614282   0.579423  ]]\n",
      "\n",
      " [[0.7757313  0.98479359]\n",
      "  [0.59325866 0.51543907]\n",
      "  [0.91109064 0.48193942]\n",
      "  [0.77687437 0.60205857]]]\n"
     ]
    }
   ],
   "source": [
    "y, z = np.dsplit(x, 2) # Splitting according to depth\n",
    "print(y , z)"
   ]
  },
  {
   "cell_type": "code",
   "execution_count": 70,
   "metadata": {},
   "outputs": [
    {
     "name": "stdout",
     "output_type": "stream",
     "text": [
      "[[[0.46140686 0.6830367  0.82369783 0.60930171]\n",
      "  [0.05049667 0.47966233 0.16316535 0.55782333]\n",
      "  [0.4865678  0.00671195 0.57155277 0.9674734 ]\n",
      "  [0.56329689 0.77052127 0.0810892  0.02500201]]\n",
      "\n",
      " [[0.7010874  0.04289411 0.87348696 0.02899563]\n",
      "  [0.69348287 0.99630842 0.76737088 0.70457698]\n",
      "  [0.51323594 0.97878266 0.14323835 0.56009832]\n",
      "  [0.25794749 0.52841618 0.34195005 0.32040498]]] [[[0.9022743  0.59177135 0.10095516 0.08783293]\n",
      "  [0.25361484 0.99727574 0.26891705 0.03014457]\n",
      "  [0.03954412 0.95528096 0.90992261 0.73893399]\n",
      "  [0.66196484 0.77322811 0.614282   0.579423  ]]\n",
      "\n",
      " [[0.37621145 0.27681821 0.7757313  0.98479359]\n",
      "  [0.06541976 0.13143074 0.59325866 0.51543907]\n",
      "  [0.86004584 0.29407988 0.91109064 0.48193942]\n",
      "  [0.10734769 0.87056716 0.77687437 0.60205857]]]\n"
     ]
    }
   ],
   "source": [
    "y, z = np.vsplit(x, 2) # Splitting vertically\n",
    "print(y , z)"
   ]
  },
  {
   "cell_type": "code",
   "execution_count": 71,
   "metadata": {},
   "outputs": [
    {
     "name": "stdout",
     "output_type": "stream",
     "text": [
      "[[[0.46140686 0.6830367  0.82369783 0.60930171]\n",
      "  [0.05049667 0.47966233 0.16316535 0.55782333]]\n",
      "\n",
      " [[0.7010874  0.04289411 0.87348696 0.02899563]\n",
      "  [0.69348287 0.99630842 0.76737088 0.70457698]]\n",
      "\n",
      " [[0.9022743  0.59177135 0.10095516 0.08783293]\n",
      "  [0.25361484 0.99727574 0.26891705 0.03014457]]\n",
      "\n",
      " [[0.37621145 0.27681821 0.7757313  0.98479359]\n",
      "  [0.06541976 0.13143074 0.59325866 0.51543907]]] [[[0.4865678  0.00671195 0.57155277 0.9674734 ]\n",
      "  [0.56329689 0.77052127 0.0810892  0.02500201]]\n",
      "\n",
      " [[0.51323594 0.97878266 0.14323835 0.56009832]\n",
      "  [0.25794749 0.52841618 0.34195005 0.32040498]]\n",
      "\n",
      " [[0.03954412 0.95528096 0.90992261 0.73893399]\n",
      "  [0.66196484 0.77322811 0.614282   0.579423  ]]\n",
      "\n",
      " [[0.86004584 0.29407988 0.91109064 0.48193942]\n",
      "  [0.10734769 0.87056716 0.77687437 0.60205857]]]\n"
     ]
    }
   ],
   "source": [
    " y, z = np.hsplit(x, 2) # Splitting horizentally\n",
    "print(y , z)"
   ]
  },
  {
   "cell_type": "markdown",
   "metadata": {},
   "source": [
    "#### Flip"
   ]
  },
  {
   "cell_type": "code",
   "execution_count": 74,
   "metadata": {},
   "outputs": [
    {
     "name": "stdout",
     "output_type": "stream",
     "text": [
      "[[ 0  1  2  3]\n",
      " [ 4  5  6  7]\n",
      " [ 8  9 10 11]\n",
      " [12 13 14 15]]\n"
     ]
    }
   ],
   "source": [
    "x = np.arange(16).reshape(4,4)\n",
    "print(x)\n"
   ]
  },
  {
   "cell_type": "code",
   "execution_count": 79,
   "metadata": {},
   "outputs": [
    {
     "name": "stdout",
     "output_type": "stream",
     "text": [
      "[[ 3  2  1  0]\n",
      " [ 7  6  5  4]\n",
      " [11 10  9  8]\n",
      " [15 14 13 12]]\n"
     ]
    }
   ],
   "source": [
    "y = np.flip(x, axis = -1)\n",
    "print(y)"
   ]
  },
  {
   "cell_type": "code",
   "execution_count": 78,
   "metadata": {},
   "outputs": [
    {
     "name": "stdout",
     "output_type": "stream",
     "text": [
      "[[12 13 14 15]\n",
      " [ 8  9 10 11]\n",
      " [ 4  5  6  7]\n",
      " [ 0  1  2  3]]\n"
     ]
    }
   ],
   "source": [
    "y = np.flip(x, axis = 0) # mirror image\n",
    "print(y)"
   ]
  },
  {
   "cell_type": "code",
   "execution_count": null,
   "metadata": {},
   "outputs": [],
   "source": [
    "for i, result_1 in enumerate (feature_cosine):\n",
    "       max_value = np.amax(result_1)\n",
    "       index = result_1.argmax()\n",
    "       #matched_id=local_ids[index]\n",
    "       #print(\"index :\",index)\n",
    "       #print(\"value :\",max_value)\n",
    "       matched_id.append(local_ids[index])\n",
    "       final_id = unique(matched_id)\n",
    "       #print(\"final_id :\",final_id)\n",
    "    return final_id  "
   ]
  }
 ],
 "metadata": {
  "kernelspec": {
   "display_name": "Python 3",
   "language": "python",
   "name": "python3"
  },
  "language_info": {
   "codemirror_mode": {
    "name": "ipython",
    "version": 3
   },
   "file_extension": ".py",
   "mimetype": "text/x-python",
   "name": "python",
   "nbconvert_exporter": "python",
   "pygments_lexer": "ipython3",
   "version": "3.7.1"
  }
 },
 "nbformat": 4,
 "nbformat_minor": 2
}
