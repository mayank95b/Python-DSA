{
 "cells": [
  {
   "cell_type": "markdown",
   "metadata": {},
   "source": [
    "## Python Basics Problem Solving Set-1"
   ]
  },
  {
   "cell_type": "code",
   "execution_count": 2,
   "metadata": {},
   "outputs": [
    {
     "name": "stdout",
     "output_type": "stream",
     "text": [
      "Mayank Bhatia Mayank@gmail.com\n"
     ]
    }
   ],
   "source": [
    "#1.>>Create three variables first_name, last_name and email_id with your first name,\n",
    "# last name and email id as the values.\n",
    "\n",
    "def Employee_info(first_name,last_name,email_id):\n",
    "   print(first_name,last_name,email_id)\n",
    "\n",
    "Employee_info('Mayank','Bhatia','Mayank@gmail.com')"
   ]
  },
  {
   "cell_type": "code",
   "execution_count": 3,
   "metadata": {},
   "outputs": [
    {
     "name": "stdout",
     "output_type": "stream",
     "text": [
      "Full Name :MayankBhatia\n"
     ]
    }
   ],
   "source": [
    "#Create a variable full_name by combining first name and last name.\n",
    "\n",
    "full_name='Mayank'+'Bhatia'\n",
    "\n",
    "print('Full Name :'+full_name)"
   ]
  },
  {
   "cell_type": "code",
   "execution_count": 4,
   "metadata": {},
   "outputs": [
    {
     "name": "stdout",
     "output_type": "stream",
     "text": [
      "['Mayank.ece96', 'gmail.com']\n"
     ]
    }
   ],
   "source": [
    "#Create a list from email_id by splitting the email id based on the character ‘@’.\n",
    "\n",
    "email_list='Mayank.ece96@gmail.com'\n",
    "print(email_list.split('@'))\n"
   ]
  },
  {
   "cell_type": "code",
   "execution_count": 5,
   "metadata": {},
   "outputs": [
    {
     "name": "stdout",
     "output_type": "stream",
     "text": [
      "May\n",
      "tia\n",
      "yan\n"
     ]
    }
   ],
   "source": [
    "#Create 3 variables first_3, last_3, sub_3 which contains first 3, last 3 \n",
    "#and 3 characters from the 3rd letter of full name respectively.\n",
    "\n",
    "first_3= full_name[0:3]\n",
    "last_3= full_name[-3:]\n",
    "sub_3= full_name[2:5]\n",
    "print(first_3)\n",
    "print(last_3)\n",
    "print(sub_3)"
   ]
  },
  {
   "cell_type": "code",
   "execution_count": 6,
   "metadata": {},
   "outputs": [
    {
     "name": "stdout",
     "output_type": "stream",
     "text": [
      "M$y$nkBh$ti$\n",
      "Length :\n",
      "22\n"
     ]
    }
   ],
   "source": [
    "#Create a variable no_vowels by replacing all the vowels full name with the \n",
    "#character Print the length of variable email_id.\n",
    "vowels=['a','e','i','o','u']\n",
    "for no_vowels in full_name:\n",
    "    if no_vowels in vowels:\n",
    "          new_name=full_name.replace(no_vowels,'$')\n",
    "print(new_name)\n",
    "\n",
    "\n",
    "email_id='Mayank.ece96@gmail.com'\n",
    "print('Length :')\n",
    "print(len(email_id))"
   ]
  },
  {
   "cell_type": "code",
   "execution_count": 6,
   "metadata": {},
   "outputs": [
    {
     "name": "stdout",
     "output_type": "stream",
     "text": [
      "one\n",
      "Both\n",
      "none\n"
     ]
    }
   ],
   "source": [
    "# Create a function which accepts 2 numbers and return ‘One’ if any one of \n",
    "#the numbers is even, return ‘Both’ if both are even return ‘None’ if both are not even.\n",
    "\n",
    "def Check_Odd_even(num1,num2):\n",
    "    if num1%2==0 and num2%2==0 :\n",
    "       print('Both')\n",
    "    elif num1%2==0 or num2%2==0 :\n",
    "       print('one')\n",
    "    else:\n",
    "       print('none')\n",
    "\n",
    "Check_Odd_even(5,2)\n",
    "Check_Odd_even(6,2)\n",
    "Check_Odd_even(5,3)"
   ]
  },
  {
   "cell_type": "code",
   "execution_count": 9,
   "metadata": {},
   "outputs": [
    {
     "name": "stdout",
     "output_type": "stream",
     "text": [
      "Equals\n",
      "In List\n",
      "Greater\n"
     ]
    }
   ],
   "source": [
    "#3.Create a function which accept a number, return ‘Equals’ if the number equal\n",
    "#to 5, ‘Greater’ If the number greater than or equal to 5 and less than 10 \n",
    "#‘In List’ if the number in 12,24,26 ‘Out of bound’ if number greater than or \n",
    "#equal to 10 and not in 12,24,26\n",
    "\n",
    "def Fun_great(number):\n",
    "  \n",
    "    if number == 5 :\n",
    "       print('Equals') \n",
    "    elif number >= 5 and number < 10 :\n",
    "       print('Greater')\n",
    "    list=[12,24,26]\n",
    "    for i in list:\n",
    "      if number == i:\n",
    "       print('In List') \n",
    "      elif number >=10 and number not in list:\n",
    "       print('Out of Bound')\n",
    " \n",
    "Fun_great(5)\n",
    "Fun_great(12)\n",
    "Fun_great(8)"
   ]
  },
  {
   "cell_type": "raw",
   "metadata": {},
   "source": [
    "# Table of comparison between List, Tuple , Set and Dictionary based on the below factors\n",
    "\n",
    "\"\"\"\n",
    "\n",
    "|-----------------------------------------------------------------------------------------------------------------|\n",
    "|      List             |        Tuple           |      Dictionary        |                Set                    |                                                                                               |\n",
    "|-----------------------|-----------------------------------------------------------------------------------------|\n",
    "|  List is Order        |     Ordered            |      Unordered         |               Unordered               |\n",
    "|                       |                        |                        |                                       |                                                                                                 |\n",
    "|  List is changable   |    Unchangable         |      Changable         |             Changable                 |\n",
    "|                       |                        |                        |                                       |\n",
    "|  Allows Duplicates    |   does not allow       |   Does not allow       |         Does not Allows               |\n",
    "|                       |       Duplicate        |        Duplicate       |           Duplicate                   |\n",
    "|                       |                        |                        |                                       |\n",
    "|    Indexed            |    Indexed             |    Indexed using keys  |              Non Indexed              |\n",
    "|-----------------------------------------------------------------------------------------------------------------|\n",
    "\"\"\""
   ]
  },
  {
   "cell_type": "code",
   "execution_count": 1,
   "metadata": {},
   "outputs": [
    {
     "name": "stdout",
     "output_type": "stream",
     "text": [
      "addition :  11\n"
     ]
    }
   ],
   "source": [
    "# Program to add two nos.\n",
    "\n",
    "def add(num1,num2):\n",
    "    print(\"addition : \",num1+num2)\n",
    "    \n",
    "add(5,6)"
   ]
  },
  {
   "cell_type": "code",
   "execution_count": 5,
   "metadata": {},
   "outputs": [
    {
     "data": {
      "text/plain": [
       "720"
      ]
     },
     "execution_count": 5,
     "metadata": {},
     "output_type": "execute_result"
    }
   ],
   "source": [
    "# Program for factorial of a number\n",
    "\n",
    "def factorial(n):\n",
    "    return 1 if (n==1 or n==0) else n * factorial(n-1)\n",
    "\n",
    "factorial(6)"
   ]
  },
  {
   "cell_type": "code",
   "execution_count": 10,
   "metadata": {},
   "outputs": [
    {
     "data": {
      "text/plain": [
       "3600.0"
      ]
     },
     "execution_count": 10,
     "metadata": {},
     "output_type": "execute_result"
    }
   ],
   "source": [
    "# Program for simple interest\n",
    "\n",
    "def simple_interest(p,r,t):\n",
    "    return p*r*t/100\n",
    "\n",
    "simple_interest(12000,10,3)"
   ]
  },
  {
   "cell_type": "code",
   "execution_count": 11,
   "metadata": {},
   "outputs": [
    {
     "data": {
      "text/plain": [
       "1333.0992"
      ]
     },
     "execution_count": 11,
     "metadata": {},
     "output_type": "execute_result"
    }
   ],
   "source": [
    "# Program for compound interest\n",
    "def compound_interest(p,r,t):\n",
    "    return p * pow((1+r/100),t)\n",
    "\n",
    "compound_interest(1200,5.4,2)"
   ]
  },
  {
   "cell_type": "code",
   "execution_count": 17,
   "metadata": {},
   "outputs": [
    {
     "name": "stdout",
     "output_type": "stream",
     "text": [
      "Armstrong\n"
     ]
    }
   ],
   "source": [
    "# Program to check Armstrong Number\n",
    "\"\"\"Given a number x, determine whether the given number is Armstrong number or not.\n",
    "A positive integer of n digits is called an Armstrong number of order n (order is number of digits)\n",
    " example : abcd... = pow(a,n) + pow(b,n) + pow(c,n) + pow(d,n) + ....\n",
    "\"\"\"\n",
    "def armstrong(num):\n",
    "    sum = 0\n",
    "    temp= num\n",
    "    n =len(str(temp))\n",
    "    while(temp>0):\n",
    "        digit = temp % 10\n",
    "        sum += pow(digit,n)\n",
    "        temp//=10\n",
    "    if num == sum : \n",
    "        print(\"Armstrong\")\n",
    "    else :\n",
    "        print(\"Not Armstrong\")\n",
    "            \n",
    "armstrong(1634)\n",
    "    \n"
   ]
  },
  {
   "cell_type": "code",
   "execution_count": 19,
   "metadata": {},
   "outputs": [
    {
     "data": {
      "text/plain": [
       "12.56"
      ]
     },
     "execution_count": 19,
     "metadata": {},
     "output_type": "execute_result"
    }
   ],
   "source": [
    "# Program to find area of a circle\n",
    "\n",
    "def area_of_circle(radius):\n",
    "    return 3.14 * pow(radius,2)\n",
    "\n",
    "area_of_circle(2)"
   ]
  },
  {
   "cell_type": "code",
   "execution_count": 23,
   "metadata": {},
   "outputs": [
    {
     "name": "stdout",
     "output_type": "stream",
     "text": [
      "11\n",
      "13\n",
      "17\n",
      "19\n",
      "23\n"
     ]
    }
   ],
   "source": [
    "# program to print all Prime numbers in an Interval\n",
    "\n",
    "def prime(start,end):\n",
    "    for val in range(start,end+1):\n",
    "        if val > 1:\n",
    "            for n in range(2,val):\n",
    "                if val % n == 0 :\n",
    "                    break\n",
    "            else :\n",
    "                print(val)\n",
    "                \n",
    "prime(11,25)\n",
    "                \n",
    "        \n",
    "    \n"
   ]
  },
  {
   "cell_type": "code",
   "execution_count": 30,
   "metadata": {},
   "outputs": [
    {
     "name": "stdout",
     "output_type": "stream",
     "text": [
      "Not Prime\n"
     ]
    }
   ],
   "source": [
    "# program to check whether a number is Prime or not\n",
    "\n",
    "def prime_check(num):\n",
    "    for i in range(2,num//2):\n",
    "        if num % i == 0:\n",
    "            print(\"Not Prime\")\n",
    "            break\n",
    "    else :\n",
    "        print(\"number is prime\")\n",
    "\n",
    "prime_check(25)"
   ]
  },
  {
   "cell_type": "code",
   "execution_count": 31,
   "metadata": {},
   "outputs": [
    {
     "data": {
      "text/plain": [
       "21"
      ]
     },
     "execution_count": 31,
     "metadata": {},
     "output_type": "execute_result"
    }
   ],
   "source": [
    "# Program for n-th Fibonacci number\n",
    "\n",
    "def Fibonacci(n):\n",
    "    if n<0:\n",
    "        print(\"Incorrect number\")\n",
    "    # first number is zero     \n",
    "    elif n==1:\n",
    "        return 0\n",
    "    elif n==2:\n",
    "        return 1\n",
    "    else:\n",
    "        return Fibonacci(n-1)+Fibonacci(n-2)\n",
    "\n",
    "Fibonacci(9)"
   ]
  },
  {
   "cell_type": "code",
   "execution_count": 1,
   "metadata": {},
   "outputs": [
    {
     "name": "stdout",
     "output_type": "stream",
     "text": [
      "1 is a Fibonacci Number\n",
      "2 is a Fibonacci Number\n",
      "3 is a Fibonacci Number\n",
      "5 is a Fibonacci Number\n",
      "8 is a Fibonacci Number\n",
      "10 is a not Fibonacci Number \n"
     ]
    },
    {
     "data": {
      "text/plain": [
       "False"
      ]
     },
     "execution_count": 1,
     "metadata": {},
     "output_type": "execute_result"
    }
   ],
   "source": [
    "# Program for How to check if a given number is Fibonacci number?\n",
    "# A number is Fibonacci if and only if one or both of (5*n2 + 4) or (5*n2 – 4) is a perfect square\n",
    "\n",
    "# python program to check if x is a perfect square \n",
    "import math \n",
    "  \n",
    "# A utility function that returns true if x is perfect square \n",
    "def isPerfectSquare(x): \n",
    "    s = int(math.sqrt(x)) \n",
    "    return s*s == x \n",
    "  \n",
    "# Returns true if n is a Fibinacci Number, else false \n",
    "def isFibonacci(n): \n",
    "  \n",
    "    # n is Fibinacci if one of 5*n*n + 4 or 5*n*n - 4 or both \n",
    "    # is a perferct square \n",
    "    return isPerfectSquare(5*n*n + 4) or isPerfectSquare(5*n*n - 4) \n",
    "     \n",
    "# A utility function to test above functions \n",
    "for i in range(1,11): \n",
    "     if (isFibonacci(i) == True): \n",
    "            print(i,\"is a Fibonacci Number\")\n",
    "else: \n",
    "    print( i,\"is a not Fibonacci Number \")\n",
    "\n",
    "isFibonacci(18)"
   ]
  },
  {
   "cell_type": "code",
   "execution_count": 6,
   "metadata": {},
   "outputs": [
    {
     "name": "stdout",
     "output_type": "stream",
     "text": [
      "sum = 14\n"
     ]
    }
   ],
   "source": [
    "# Program for Sum of squares of first n natural numbers\n",
    "\n",
    "def sum_of_square(num):\n",
    "    sum = 0\n",
    "    for i in range(1,num+1):\n",
    "        sum +=pow(i,2)\n",
    "    print(\"sum =\",sum)\n",
    "        \n",
    "sum_of_square(3)"
   ]
  },
  {
   "cell_type": "code",
   "execution_count": 7,
   "metadata": {},
   "outputs": [
    {
     "name": "stdout",
     "output_type": "stream",
     "text": [
      "sum = 36\n"
     ]
    }
   ],
   "source": [
    "# Program for cube sum of first n natural numbers\n",
    "def sum_of_cube(num):\n",
    "    sum = 0\n",
    "    for i in range(1,num+1):\n",
    "        sum += (i**3)\n",
    "    print(\"sum =\",sum)\n",
    "        \n",
    "sum_of_cube(3)\n"
   ]
  },
  {
   "cell_type": "code",
   "execution_count": null,
   "metadata": {},
   "outputs": [],
   "source": [
    "# Python Program to find sum of array\n",
    "\n",
    "def sum_of_array\n",
    "\n"
   ]
  }
 ],
 "metadata": {
  "kernelspec": {
   "display_name": "Python 3",
   "language": "python",
   "name": "python3"
  },
  "language_info": {
   "codemirror_mode": {
    "name": "ipython",
    "version": 3
   },
   "file_extension": ".py",
   "mimetype": "text/x-python",
   "name": "python",
   "nbconvert_exporter": "python",
   "pygments_lexer": "ipython3",
   "version": "3.7.1"
  }
 },
 "nbformat": 4,
 "nbformat_minor": 2
}
