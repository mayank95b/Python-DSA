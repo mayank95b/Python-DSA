{
 "cells": [
  {
   "cell_type": "markdown",
   "metadata": {},
   "source": [
    "<img src=\"../images/python-logo.png\"\n",
    "     align=\"right\"\n",
    "     width=\"30%\"\n",
    "     alt=\"Python logo\\\">\n",
    "\n",
    "# Scientific Python Ecosystem"
   ]
  },
  {
   "cell_type": "markdown",
   "metadata": {},
   "source": [
    "### What is Data Science ?\n",
    "\n",
    "Data science or data analytics is a process of analyzing large set of data points to get answers on questions related to that data set."
   ]
  },
  {
   "cell_type": "markdown",
   "metadata": {},
   "source": [
    "## Core Packages\n",
    "\n",
    "- **NumPy** - the fundamental package for numerical computation.\n",
    "- **SciPy Library** - a collection of numerical algorithms ans domain-specific toolboxes.\n",
    "- **Matplotlib** - plotting and visualization package,2D plotting and basic 3D plotting\n",
    "- **SymPy** - For symbolic mathematics and computer algebra.\n",
    "- **Pandas** - easy to use data structures for data science.mainly use to process the data.\n",
    "- **IPython** - interactive shell and web based notebook for rapid prototyping of ideas.\n",
    "\n",
    "## Additional Packages\n",
    "\n",
    "not the part of the core packages, yet very important.\n",
    "\n",
    "- **Scikit-image** - Image processing library\n",
    "- **Scikit-learn** - machine learning and AI library\n",
    "- **Jupyter** - Interactive web based notebook with code, visualizations, rich text, videos, and more\n",
    "- **h5py and PyTables** - both acesss data stored in HDF5 format.\n",
    "- **nose and pytest** - unit testing frameworks for python (nose is being phased out in perference for pytest"
   ]
  },
  {
   "cell_type": "markdown",
   "metadata": {},
   "source": [
    "## NumPy\n",
    "\n",
    "- Fundamental package for scientific computing with Python\n",
    "- It has a powerful N-dimensional Array Object called as ndarray and routine to manipulate it\n",
    "- It also has other derived objects like masked arrays ans matrices\n",
    "- NumPy is used by other libraries like Scipy, matplotlib, OpenCV, Scikit-image,Scikit learn, pandas to store the multi-dimensional data.\n",
    "For Example - Image which has width and height and if image is a grayscale then it has only data points and if image a color image then it is a multi channel image.\n",
    "numpy provides ndarray to store image and that can be manipulate accordingly"
   ]
  },
  {
   "cell_type": "code",
   "execution_count": null,
   "metadata": {},
   "outputs": [],
   "source": [
    "def sentence_maker(phrase):\n",
    "    \n",
    "    interrogatives = (\"how\", \"what\", \"why\")\n",
    "    capitalized = phrase.capitalize()\n",
    "    if phrase.startswith(interrogatives):\n",
    "        return \"{}?\".format(capitalized)\n",
    "    \n",
    "    else:\n",
    "        return \"{}.\".format(capitalized)\n",
    "\n",
    "#print(sentence_maker(\"how are you\"))\n",
    "\n",
    "results = []\n",
    "\n",
    "while True:\n",
    "    user_input = input(\"Enter Something: \")\n",
    "    if user_input == \"\\end\":\n",
    "        break\n",
    "    else:\n",
    "        results.append(sentence_maker(user_input))\n",
    "\n",
    "print(results)"
   ]
  }
 ],
 "metadata": {
  "kernelspec": {
   "display_name": "Python 3",
   "language": "python",
   "name": "python3"
  },
  "language_info": {
   "codemirror_mode": {
    "name": "ipython",
    "version": 3
   },
   "file_extension": ".py",
   "mimetype": "text/x-python",
   "name": "python",
   "nbconvert_exporter": "python",
   "pygments_lexer": "ipython3",
   "version": "3.7.1"
  }
 },
 "nbformat": 4,
 "nbformat_minor": 2
}
