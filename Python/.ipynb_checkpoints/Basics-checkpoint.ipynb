{
 "cells": [
  {
   "cell_type": "markdown",
   "metadata": {},
   "source": [
    "<img src=\"../images/python-logo.png\"\n",
    "     align=\"right\"\n",
    "     width=\"30%\"\n",
    "     alt=\"Python logo\\\">\n",
    "# Python Basics"
   ]
  },
  {
   "cell_type": "markdown",
   "metadata": {},
   "source": [
    "### The Basic Loops"
   ]
  },
  {
   "cell_type": "markdown",
   "metadata": {},
   "source": [
    "For Loop through a dictionary:"
   ]
  },
  {
   "cell_type": "code",
   "execution_count": 1,
   "metadata": {},
   "outputs": [
    {
     "name": "stdout",
     "output_type": "stream",
     "text": [
      "('marry', 16)\n",
      "('Sim', 12)\n",
      "('peter', 14)\n"
     ]
    }
   ],
   "source": [
    "student = {\"marry\":16, \"Sim\":12,\"peter\":14}\n",
    "\n",
    "for age in student.items():\n",
    "    print(age)"
   ]
  },
  {
   "cell_type": "code",
   "execution_count": 2,
   "metadata": {},
   "outputs": [
    {
     "name": "stdout",
     "output_type": "stream",
     "text": [
      "marry\n",
      "Sim\n",
      "peter\n"
     ]
    }
   ],
   "source": [
    "for key in student.keys():\n",
    "    print(key)"
   ]
  },
  {
   "cell_type": "code",
   "execution_count": 3,
   "metadata": {},
   "outputs": [
    {
     "name": "stdout",
     "output_type": "stream",
     "text": [
      "16\n",
      "12\n",
      "14\n"
     ]
    }
   ],
   "source": [
    "for age in student.values():\n",
    "    print(age)"
   ]
  },
  {
   "cell_type": "markdown",
   "metadata": {},
   "source": [
    "#### While Loop with break and continue"
   ]
  },
  {
   "cell_type": "code",
   "execution_count": 20,
   "metadata": {},
   "outputs": [
    {
     "name": "stdin",
     "output_type": "stream",
     "text": [
      "Enter username:  sim1234\n"
     ]
    }
   ],
   "source": [
    "username = ''\n",
    "\n",
    "while username != 'sim1234':\n",
    "    username = input(\"Enter username: \" )\n",
    "    \n"
   ]
  },
  {
   "cell_type": "markdown",
   "metadata": {},
   "source": [
    "#### Alternatel Method,(Optimum) "
   ]
  },
  {
   "cell_type": "code",
   "execution_count": 21,
   "metadata": {},
   "outputs": [
    {
     "name": "stdin",
     "output_type": "stream",
     "text": [
      "Enter username:  sim1234\n"
     ]
    }
   ],
   "source": [
    "while True:\n",
    "    username = input(\"Enter username: \")\n",
    "    if username == 'sim1234':\n",
    "        break\n",
    "    else:\n",
    "        continue\n",
    "        "
   ]
  },
  {
   "cell_type": "markdown",
   "metadata": {},
   "source": [
    "### List Comprehension"
   ]
  },
  {
   "cell_type": "markdown",
   "metadata": {},
   "source": [
    "A list comprehension is an expression that creates a list by iterating over another container."
   ]
  },
  {
   "cell_type": "markdown",
   "metadata": {},
   "source": [
    "- A **basic** list comprehension:"
   ]
  },
  {
   "cell_type": "code",
   "execution_count": 2,
   "metadata": {},
   "outputs": [
    {
     "name": "stdout",
     "output_type": "stream",
     "text": [
      "[12.3, 45.6, 25.0, 40.0, 50.0]\n"
     ]
    }
   ],
   "source": [
    "templist = [123,456,250,400,500]\n",
    "newlist = []\n",
    "\n",
    "for temp in templist:\n",
    "    newlist.append(temp/10)\n",
    "print(newlist)\n",
    "    "
   ]
  },
  {
   "cell_type": "markdown",
   "metadata": {},
   "source": [
    "Alternately,"
   ]
  },
  {
   "cell_type": "code",
   "execution_count": 10,
   "metadata": {},
   "outputs": [
    {
     "name": "stdout",
     "output_type": "stream",
     "text": [
      "[12.3, 45.6, 25.0, 40.0, 50.0]\n"
     ]
    }
   ],
   "source": [
    "newlist = [temp/10 for temp in templist]\n",
    "print(newlist)"
   ]
  },
  {
   "cell_type": "markdown",
   "metadata": {},
   "source": [
    "- List comprehension with **if** condition:"
   ]
  },
  {
   "cell_type": "code",
   "execution_count": 11,
   "metadata": {},
   "outputs": [
    {
     "name": "stdout",
     "output_type": "stream",
     "text": [
      "[32, 25, 11, 15, 45, 16, 8, 14, 10]\n"
     ]
    }
   ],
   "source": [
    "temperature = [32,25,11,-5,-10,15,45,16,8,5,14,10]\n",
    "\n",
    "newtemp = [temp for temp in temperature if temp>5]\n",
    "\n",
    "print(newtemp)"
   ]
  },
  {
   "cell_type": "markdown",
   "metadata": {},
   "source": [
    "- List comprehension with **if** and **else** condition:"
   ]
  },
  {
   "cell_type": "code",
   "execution_count": 9,
   "metadata": {},
   "outputs": [
    {
     "name": "stdout",
     "output_type": "stream",
     "text": [
      "[32, 25, 11, 0, 0, 15, 45, 16, 8, 5, 14, 10]\n"
     ]
    }
   ],
   "source": [
    "temperature = [32,25,11,-5,-10,15,45,16,8,5,14,10]\n",
    "\n",
    "newtemp = [temp if temp>0 else 0 for temp in temperature]\n",
    "\n",
    "print(newtemp)"
   ]
  },
  {
   "cell_type": "markdown",
   "metadata": {},
   "source": [
    "### Functions "
   ]
  },
  {
   "cell_type": "code",
   "execution_count": 22,
   "metadata": {},
   "outputs": [
    {
     "name": "stdout",
     "output_type": "stream",
     "text": [
      "5.0\n"
     ]
    }
   ],
   "source": [
    "def mean(mylist):\n",
    "    my_mean = sum(mylist) / len(mylist)\n",
    "    return my_mean\n",
    "\n",
    "print(mean([1,4,6,8,9,3,4,5]))"
   ]
  },
  {
   "cell_type": "markdown",
   "metadata": {},
   "source": [
    "The method function will only return mean value of list. "
   ]
  },
  {
   "cell_type": "markdown",
   "metadata": {},
   "source": [
    "**Alternately**, by using condition method we can use the function to return to the mean even if the input is  a dictionary.  "
   ]
  },
  {
   "cell_type": "code",
   "execution_count": null,
   "metadata": {},
   "outputs": [],
   "source": [
    "def mean(value):\n",
    "    if type(value) == dict:\n",
    "        my_mean = sum(value.values()) / len(value)\n",
    "    else:    \n",
    "        my_mean = sum(value) / len(value)\n",
    "    \n",
    "    return my_mean\n",
    "\n",
    "#list\n",
    "temperature = [32,25,11,-5,-10,15,45,16,8,5,14,10]\n",
    "\n",
    "#dictionary\n",
    "student_data = {\"marry\":16.3, \"Sim\":12.5,\"peter\":14.5}\n",
    "\n",
    "\n"
   ]
  },
  {
   "cell_type": "code",
   "execution_count": 27,
   "metadata": {},
   "outputs": [
    {
     "name": "stdout",
     "output_type": "stream",
     "text": [
      "13.833333333333334\n"
     ]
    }
   ],
   "source": [
    "print(mean(temperature))"
   ]
  },
  {
   "cell_type": "code",
   "execution_count": 28,
   "metadata": {},
   "outputs": [
    {
     "name": "stdout",
     "output_type": "stream",
     "text": [
      "14.433333333333332\n"
     ]
    }
   ],
   "source": [
    "print(mean(student_data))"
   ]
  },
  {
   "cell_type": "markdown",
   "metadata": {},
   "source": [
    "## Problem statement 1 : Sentence maker(connecting multiple sentences)"
   ]
  },
  {
   "cell_type": "code",
   "execution_count": 5,
   "metadata": {},
   "outputs": [
    {
     "name": "stdin",
     "output_type": "stream",
     "text": [
      "Enter Something:  how are you\n",
      "Enter Something:  weather is good\n",
      "Enter Something:  what is the chances of rain today\n",
      "Enter Something:  \\end\n"
     ]
    },
    {
     "name": "stdout",
     "output_type": "stream",
     "text": [
      "How are you? Weather is good. What is the chances of rain today?\n"
     ]
    }
   ],
   "source": [
    "def sentence_maker(phrase):\n",
    "    \n",
    "    interrogatives = (\"how\", \"what\", \"why\")\n",
    "    capitalized = phrase.capitalize()\n",
    "    if phrase.startswith(interrogatives):\n",
    "        return \"{}?\".format(capitalized)\n",
    "    \n",
    "    else:\n",
    "        return \"{}.\".format(capitalized)\n",
    "\n",
    "#print(sentence_maker(\"how are you\"))\n",
    "\n",
    "results = []\n",
    "\n",
    "while True:\n",
    "    user_input = input(\"Enter Something: \")\n",
    "    if user_input == \"\\endd\":\n",
    "        break\n",
    "    else:\n",
    "        results.append(sentence_maker(user_input))\n",
    "\n",
    "print(\" \".join(results))\n",
    "        "
   ]
  },
  {
   "cell_type": "markdown",
   "metadata": {},
   "source": [
    "## File operation "
   ]
  },
  {
   "cell_type": "markdown",
   "metadata": {},
   "source": [
    "#### Simple method"
   ]
  },
  {
   "cell_type": "code",
   "execution_count": 8,
   "metadata": {},
   "outputs": [
    {
     "name": "stdout",
     "output_type": "stream",
     "text": [
      "pear\n",
      "apple\n",
      "orange\n",
      "mandarin\n",
      "watermelon\n",
      "pomegranate\n"
     ]
    }
   ],
   "source": [
    "myfile = open(\"fruits.txt\")\n",
    "content = myfile.read()\n",
    "print(content)\n",
    "myfile.close()"
   ]
  },
  {
   "cell_type": "markdown",
   "metadata": {},
   "source": [
    "#### Alternative method"
   ]
  },
  {
   "cell_type": "code",
   "execution_count": 10,
   "metadata": {},
   "outputs": [
    {
     "name": "stdout",
     "output_type": "stream",
     "text": [
      "pear\n",
      "apple\n",
      "orange\n",
      "mandarin\n",
      "watermelon\n",
      "pomegranate\n"
     ]
    }
   ],
   "source": [
    "with open(\"fruits.txt\") as myfile:\n",
    "    content =myfile.read()\n",
    "\n",
    "print(content)"
   ]
  },
  {
   "cell_type": "markdown",
   "metadata": {},
   "source": [
    "#### Writing into a file"
   ]
  },
  {
   "cell_type": "code",
   "execution_count": 12,
   "metadata": {},
   "outputs": [],
   "source": [
    "with open(\"vegetable.txt\",\"w\") as myfile:\n",
    "    myfile.write(\"Tomato\\nspinch\\npotato\\nonion\")\n"
   ]
  },
  {
   "cell_type": "markdown",
   "metadata": {},
   "source": [
    "#### Appending into existing file"
   ]
  },
  {
   "cell_type": "code",
   "execution_count": 13,
   "metadata": {},
   "outputs": [],
   "source": [
    "with open(\"vegetable.txt\",\"a\") as myfile:\n",
    "    myfile.write(\"\\nOkra\")"
   ]
  },
  {
   "cell_type": "markdown",
   "metadata": {},
   "source": [
    "#### Appending and read same time"
   ]
  },
  {
   "cell_type": "code",
   "execution_count": 15,
   "metadata": {},
   "outputs": [
    {
     "name": "stdout",
     "output_type": "stream",
     "text": [
      "Tomato\n",
      "spinch\n",
      "potato\n",
      "onion\n",
      "Okra\n",
      "cabbage\n",
      "cabbage\n"
     ]
    }
   ],
   "source": [
    "with open(\"vegetable.txt\",\"a+\") as myfile:\n",
    "    myfile.write(\"\\ncabbage\")\n",
    "    myfile.seek(0)\n",
    "    content = myfile.read()\n",
    "\n",
    "print(content)"
   ]
  },
  {
   "cell_type": "code",
   "execution_count": null,
   "metadata": {},
   "outputs": [],
   "source": []
  }
 ],
 "metadata": {
  "kernelspec": {
   "display_name": "Python 3",
   "language": "python",
   "name": "python3"
  },
  "language_info": {
   "codemirror_mode": {
    "name": "ipython",
    "version": 3
   },
   "file_extension": ".py",
   "mimetype": "text/x-python",
   "name": "python",
   "nbconvert_exporter": "python",
   "pygments_lexer": "ipython3",
   "version": "3.7.1"
  }
 },
 "nbformat": 4,
 "nbformat_minor": 2
}
