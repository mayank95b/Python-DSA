{
 "cells": [
  {
   "cell_type": "markdown",
   "metadata": {},
   "source": [
    "# Python IGraph Basics "
   ]
  },
  {
   "cell_type": "markdown",
   "metadata": {},
   "source": [
    "## Installation\n",
    "\n",
    "igraph is on the Python Package Index with pre-compiled wheels for most Python distributions and platforms, so in most cases it can simply be installed using pip:\n",
    "\n",
    "      $ pip3 install python-igraph or \n",
    "  $ pip3 install python-igraph --user"
   ]
  },
  {
   "cell_type": "code",
   "execution_count": 7,
   "metadata": {},
   "outputs": [
    {
     "name": "stdout",
     "output_type": "stream",
     "text": [
      "0.8.2\n"
     ]
    }
   ],
   "source": [
    "import igraph\n",
    "print(igraph.__version__)"
   ]
  },
  {
   "cell_type": "code",
   "execution_count": 3,
   "metadata": {},
   "outputs": [],
   "source": [
    "from igraph import *"
   ]
  },
  {
   "cell_type": "markdown",
   "metadata": {},
   "source": [
    "### Creating a graph from scratch"
   ]
  },
  {
   "cell_type": "code",
   "execution_count": 4,
   "metadata": {},
   "outputs": [],
   "source": [
    "g = Graph()\n"
   ]
  },
  {
   "cell_type": "markdown",
   "metadata": {},
   "source": [
    "The above statement created an undirected graph with no vertices or edges and assigned it to the variable g. To confirm that it’s really an igraph graph, we can print it:"
   ]
  },
  {
   "cell_type": "code",
   "execution_count": 5,
   "metadata": {},
   "outputs": [
    {
     "data": {
      "text/plain": [
       "<igraph.Graph at 0x7fa82407dc78>"
      ]
     },
     "execution_count": 5,
     "metadata": {},
     "output_type": "execute_result"
    }
   ],
   "source": [
    "g"
   ]
  },
  {
   "cell_type": "markdown",
   "metadata": {},
   "source": [
    "This tells us that g is an instance of **igraph’s** Graph class and that it is currently living at the memory address **0x4c87a0** (the exact output will almost surely be different for your platform). To obtain a more user-friendly output, we can try to print the graph using Python’s **print** statement:"
   ]
  },
  {
   "cell_type": "code",
   "execution_count": 6,
   "metadata": {},
   "outputs": [
    {
     "name": "stdout",
     "output_type": "stream",
     "text": [
      "IGRAPH U--- 0 0 --\n"
     ]
    }
   ],
   "source": [
    "print(g)"
   ]
  },
  {
   "cell_type": "markdown",
   "metadata": {},
   "source": [
    "This summary consists of IGRAPH, followed by a four-character long code, the number of vertices, the number of edges, two dashes (–) and the name of the graph (i.e. the contents of the name attribute, if any)"
   ]
  },
  {
   "cell_type": "code",
   "execution_count": 7,
   "metadata": {},
   "outputs": [],
   "source": [
    "g.add_vertices(5)"
   ]
  },
  {
   "cell_type": "markdown",
   "metadata": {},
   "source": [
    "**Graph.add_vertices()** (i.e., **the add_vertices()** method of the Graph class) adds the given number of vertices to the graph. igraph uses integer vertex IDs starting from zero, thus the first vertex of your graph has index zero, the second vertex has index 1 and so on."
   ]
  },
  {
   "cell_type": "markdown",
   "metadata": {},
   "source": [
    "**Edges** are specified by pairs of integers, so [(0,1), (1,2)] denotes a list of two edges: one between the first and the second, and the other one between the second and the third vertices of the graph. Passing this list to **Graph.add_edges()** adds these two edges to your graph:"
   ]
  },
  {
   "cell_type": "code",
   "execution_count": 8,
   "metadata": {},
   "outputs": [],
   "source": [
    "g.add_edges([(1,2), (2,3), (1,3), (1,4)])"
   ]
  },
  {
   "cell_type": "code",
   "execution_count": 9,
   "metadata": {},
   "outputs": [
    {
     "name": "stdout",
     "output_type": "stream",
     "text": [
      "IGRAPH U--- 5 4 --\n",
      "+ edges:\n",
      "1--2 2--3 1--3 1--4\n"
     ]
    }
   ],
   "source": [
    "print(g)"
   ]
  },
  {
   "cell_type": "markdown",
   "metadata": {},
   "source": [
    " Edges also have **IDs**, similarly to vertices; they also start from zero and edges that were added later have higher IDs than edges that were added earlier. **Vertex** and **edge** IDs are always continuous, and a direct consequence of this fact is that if you happen to delete an edge, chances are that some (or all) of the edges will be renumbered. Moreover, if you delete a vertex, even the vertex IDs will change. Edges can be deleted by **delete_edges()** and it requires a list of edge IDs to be deleted (or a single edge ID). Vertices can be deleted by **delete_vertices()** and you may have already guessed that it requires a list of vertex IDs to be deleted (or a single vertex ID).\n"
   ]
  },
  {
   "cell_type": "code",
   "execution_count": 10,
   "metadata": {},
   "outputs": [
    {
     "data": {
      "text/plain": [
       "1"
      ]
     },
     "execution_count": 10,
     "metadata": {},
     "output_type": "execute_result"
    }
   ],
   "source": [
    "g.get_eid(2, 3)"
   ]
  },
  {
   "cell_type": "code",
   "execution_count": 11,
   "metadata": {},
   "outputs": [
    {
     "name": "stdout",
     "output_type": "stream",
     "text": [
      "IGRAPH U--- 5 3 -- \n"
     ]
    }
   ],
   "source": [
    "g.delete_edges(1)\n",
    "summary(g)"
   ]
  },
  {
   "cell_type": "markdown",
   "metadata": {},
   "source": [
    "**summary()** is a new command that can be used to get an overview of a given graph object. Its output is similar to the output of **print** but it does not print the edge list to avoid cluttering up the display for large graphs."
   ]
  },
  {
   "cell_type": "markdown",
   "metadata": {},
   "source": [
    "## Generating graphs"
   ]
  },
  {
   "cell_type": "markdown",
   "metadata": {},
   "source": [
    "**igraph** includes a large set of graph generators which can be divided into two groups: **deterministic** and **stochastic** graph generators. Deterministic generators produce the same graph if you call them with exactly the same parameters, while stochastic generators produce a different graph every time. Deterministic generators include methods for creating trees, regular lattices, rings, extended chordal rings, several famous graphs and so on, while stochastic generators are used to create Erdős-Rényi random networks, Barabási-Albert networks, geometric random graphs and such."
   ]
  },
  {
   "cell_type": "code",
   "execution_count": 12,
   "metadata": {},
   "outputs": [
    {
     "name": "stdout",
     "output_type": "stream",
     "text": [
      "IGRAPH U--- 127 126 -- \n"
     ]
    }
   ],
   "source": [
    "g = Graph.Tree(127,2)\n",
    "summary(g)"
   ]
  },
  {
   "cell_type": "markdown",
   "metadata": {},
   "source": [
    "**Graph.Tree()** generates a regular tree graph. The one that we generated has 127 vertices and each vertex (apart from the leaves) has two children (and of course one parent). No matter how many times you call Graph.Tree(), the generated graph will always be the same if you use the same parameters:"
   ]
  },
  {
   "cell_type": "code",
   "execution_count": 13,
   "metadata": {},
   "outputs": [
    {
     "data": {
      "text/plain": [
       "True"
      ]
     },
     "execution_count": 13,
     "metadata": {},
     "output_type": "execute_result"
    }
   ],
   "source": [
    "g2 = Graph.Tree(127, 2)\n",
    "g2.get_edgelist() == g.get_edgelist()"
   ]
  },
  {
   "cell_type": "markdown",
   "metadata": {},
   "source": [
    "The **get_edgelist()** method of Graph graph objects return a list that contains pairs of integers, one for each edge. The first member of the pair is the source vertex ID and the second member is the target vertex ID of the corresponding edge. This list is too long, so let’s just print the first 10 elements!"
   ]
  },
  {
   "cell_type": "code",
   "execution_count": 14,
   "metadata": {},
   "outputs": [
    {
     "data": {
      "text/plain": [
       "[(0, 1),\n",
       " (0, 2),\n",
       " (1, 3),\n",
       " (1, 4),\n",
       " (2, 5),\n",
       " (2, 6),\n",
       " (3, 7),\n",
       " (3, 8),\n",
       " (4, 9),\n",
       " (4, 10)]"
      ]
     },
     "execution_count": 14,
     "metadata": {},
     "output_type": "execute_result"
    }
   ],
   "source": [
    "g2.get_edgelist()[0:10]"
   ]
  },
  {
   "cell_type": "markdown",
   "metadata": {},
   "source": [
    "Let’s do the same with a stochastic generator!"
   ]
  },
  {
   "cell_type": "code",
   "execution_count": 15,
   "metadata": {},
   "outputs": [
    {
     "name": "stdout",
     "output_type": "stream",
     "text": [
      "IGRAPH U--- 100 508 -- \n",
      "+ attr: x (v), y (v)\n"
     ]
    }
   ],
   "source": [
    "g = Graph.GRG(100, 0.2)\n",
    "summary(g)"
   ]
  },
  {
   "cell_type": "markdown",
   "metadata": {},
   "source": [
    "**Graph.GRG()** generates a geometric random graph: **n** points are chosen randomly and uniformly inside the unit square and pairs of points closer to each other than a predefined distance **d** are connected by an edge. In our case, n is 100 and d is 0.2. Even if you generate two geometric random graphs on the same machine, they will be different for the same parameter set:"
   ]
  },
  {
   "cell_type": "code",
   "execution_count": 16,
   "metadata": {},
   "outputs": [
    {
     "data": {
      "text/plain": [
       "False"
      ]
     },
     "execution_count": 16,
     "metadata": {},
     "output_type": "execute_result"
    }
   ],
   "source": [
    "g2 = Graph.GRG(100, 0.2)\n",
    "g.get_edgelist() == g2.get_edgelist()\n"
   ]
  },
  {
   "cell_type": "code",
   "execution_count": 17,
   "metadata": {},
   "outputs": [
    {
     "data": {
      "text/plain": [
       "False"
      ]
     },
     "execution_count": 17,
     "metadata": {},
     "output_type": "execute_result"
    }
   ],
   "source": [
    "g.isomorphic(g2)"
   ]
  },
  {
   "cell_type": "markdown",
   "metadata": {},
   "source": [
    "isomorphic() tells you whether two graphs are isomorphic or not. In general, it might take quite a lot of time, especially for large graphs, but in our case, the answer can quickly be given by checking the degree distributions of the two graphs."
   ]
  },
  {
   "cell_type": "markdown",
   "metadata": {},
   "source": [
    "## Setting and retrieving attributes"
   ]
  },
  {
   "cell_type": "markdown",
   "metadata": {},
   "source": [
    "Let us create a simple imaginary social network the usual way by hand."
   ]
  },
  {
   "cell_type": "code",
   "execution_count": 18,
   "metadata": {},
   "outputs": [],
   "source": [
    "g = Graph([(0,1), (0,2), (2,3), (3,4), (4,2), (2,5), (5,0), (6,3), (5,6)])"
   ]
  },
  {
   "cell_type": "markdown",
   "metadata": {},
   "source": [
    "Now, let us assume that we want to store the names, ages and genders of people in this network as vertex attributes, and for every connection, we want to store whether this is an informal friendship tie or a formal tie. Every Graph object contains two special members called **vs** and **es**, standing for the sequence of all vertices and all edges, respectively."
   ]
  },
  {
   "cell_type": "code",
   "execution_count": 19,
   "metadata": {},
   "outputs": [
    {
     "data": {
      "text/plain": [
       "<igraph.VertexSeq at 0x7fa7fd11e598>"
      ]
     },
     "execution_count": 19,
     "metadata": {},
     "output_type": "execute_result"
    }
   ],
   "source": [
    "g.vs()"
   ]
  },
  {
   "cell_type": "code",
   "execution_count": 20,
   "metadata": {},
   "outputs": [],
   "source": [
    "g.vs[\"name\"] = [\"Alice\", \"Bob\", \"Claire\", \"Dennis\", \"Esther\", \"Frank\", \"George\"]\n",
    "g.vs[\"age\"] = [25, 31, 18, 47, 22, 23, 50]\n",
    "g.vs[\"gender\"] = [\"f\", \"m\", \"f\", \"m\", \"f\", \"m\", \"m\"]\n",
    "g.es[\"is_formal\"] = [False, False, True, True, True, False, True, False, False]"
   ]
  },
  {
   "cell_type": "code",
   "execution_count": 21,
   "metadata": {},
   "outputs": [
    {
     "data": {
      "text/plain": [
       "igraph.Edge(<igraph.Graph object at 0x7fa7fd0ed318>, 0, {'is_formal': False})"
      ]
     },
     "execution_count": 21,
     "metadata": {},
     "output_type": "execute_result"
    }
   ],
   "source": [
    "g.es[0]"
   ]
  },
  {
   "cell_type": "code",
   "execution_count": 22,
   "metadata": {},
   "outputs": [
    {
     "data": {
      "text/plain": [
       "{'is_formal': False}"
      ]
     },
     "execution_count": 22,
     "metadata": {},
     "output_type": "execute_result"
    }
   ],
   "source": [
    "g.es[0].attributes()\n"
   ]
  },
  {
   "cell_type": "code",
   "execution_count": 23,
   "metadata": {},
   "outputs": [],
   "source": [
    "g.es[0][\"is_formal\"] = True\n"
   ]
  },
  {
   "cell_type": "code",
   "execution_count": 24,
   "metadata": {},
   "outputs": [
    {
     "data": {
      "text/plain": [
       "igraph.Edge(<igraph.Graph object at 0x7fa7fd0ed318>, 0, {'is_formal': True})"
      ]
     },
     "execution_count": 24,
     "metadata": {},
     "output_type": "execute_result"
    }
   ],
   "source": [
    "g.es[0]"
   ]
  },
  {
   "cell_type": "code",
   "execution_count": 25,
   "metadata": {},
   "outputs": [
    {
     "name": "stdout",
     "output_type": "stream",
     "text": [
      "2009-01-10\n"
     ]
    }
   ],
   "source": [
    "g[\"date\"] = \"2009-01-10\"\n",
    "print(g[\"date\"])"
   ]
  },
  {
   "cell_type": "markdown",
   "metadata": {},
   "source": [
    "Finally, it should be mentioned that attributes can be deleted by the Python keyword del just as you would do with any member of an ordinary dictionary"
   ]
  },
  {
   "cell_type": "code",
   "execution_count": 26,
   "metadata": {},
   "outputs": [
    {
     "data": {
      "text/plain": [
       "[None, None, None, 'bar', None, None, None]"
      ]
     },
     "execution_count": 26,
     "metadata": {},
     "output_type": "execute_result"
    }
   ],
   "source": [
    "g.vs[3][\"foo\"] = \"bar\"\n",
    "g.vs[\"foo\"]"
   ]
  },
  {
   "cell_type": "code",
   "execution_count": 27,
   "metadata": {},
   "outputs": [
    {
     "ename": "KeyError",
     "evalue": "'Attribute does not exist'",
     "output_type": "error",
     "traceback": [
      "\u001b[0;31m---------------------------------------------------------------------------\u001b[0m",
      "\u001b[0;31mKeyError\u001b[0m                                  Traceback (most recent call last)",
      "\u001b[0;32m<ipython-input-27-5013b8608c38>\u001b[0m in \u001b[0;36m<module>\u001b[0;34m\u001b[0m\n\u001b[1;32m      1\u001b[0m \u001b[0;32mdel\u001b[0m \u001b[0mg\u001b[0m\u001b[0;34m.\u001b[0m\u001b[0mvs\u001b[0m\u001b[0;34m[\u001b[0m\u001b[0;34m\"foo\"\u001b[0m\u001b[0;34m]\u001b[0m\u001b[0;34m\u001b[0m\u001b[0;34m\u001b[0m\u001b[0m\n\u001b[0;32m----> 2\u001b[0;31m \u001b[0mg\u001b[0m\u001b[0;34m.\u001b[0m\u001b[0mvs\u001b[0m\u001b[0;34m[\u001b[0m\u001b[0;34m\"foo\"\u001b[0m\u001b[0;34m]\u001b[0m\u001b[0;34m\u001b[0m\u001b[0;34m\u001b[0m\u001b[0m\n\u001b[0m",
      "\u001b[0;31mKeyError\u001b[0m: 'Attribute does not exist'"
     ]
    }
   ],
   "source": [
    "del g.vs[\"foo\"]\n",
    "g.vs[\"foo\"]"
   ]
  },
  {
   "cell_type": "markdown",
   "metadata": {},
   "source": [
    "## Structural properties of graphs\n",
    "\n",
    "The degree of a vertex equals the number of edges adjacent to it. In case of directed networks, we can also define in-degree (the number of edges pointing towards the vertex) and out-degree (the number of edges originating from the vertex). igraph is able to calculate all of them using a simple syntax:"
   ]
  },
  {
   "cell_type": "code",
   "execution_count": 28,
   "metadata": {},
   "outputs": [
    {
     "data": {
      "text/plain": [
       "[3, 1, 4, 3, 2, 3, 2]"
      ]
     },
     "execution_count": 28,
     "metadata": {},
     "output_type": "execute_result"
    }
   ],
   "source": [
    "g.degree()"
   ]
  },
  {
   "cell_type": "markdown",
   "metadata": {},
   "source": [
    "If the graph was directed, we would have been able to calculate the in- and out-degrees separately using **g.degree(type=\"in\")** and **g.degree(type=\"out\")**. You can also pass a single vertex ID or a list of vertex IDs to **degree()** if you want to calculate the degrees for only a subset of vertices"
   ]
  },
  {
   "cell_type": "code",
   "execution_count": 29,
   "metadata": {},
   "outputs": [
    {
     "data": {
      "text/plain": [
       "2"
      ]
     },
     "execution_count": 29,
     "metadata": {},
     "output_type": "execute_result"
    }
   ],
   "source": [
    "g.degree(6)"
   ]
  },
  {
   "cell_type": "code",
   "execution_count": 30,
   "metadata": {},
   "outputs": [
    {
     "data": {
      "text/plain": [
       "[4, 3, 2]"
      ]
     },
     "execution_count": 30,
     "metadata": {},
     "output_type": "execute_result"
    }
   ],
   "source": [
    "g.degree([2,3,4])"
   ]
  },
  {
   "cell_type": "markdown",
   "metadata": {},
   "source": [
    "Besides degree, igraph includes built-in routines to calculate many other centrality properties, including vertex and edge betweenness **(Graph.betweenness()**, **Graph.edge_betweenness())** or Google’s PageRank **(Graph.pagerank())** just to name a few. Here we just illustrate edge betweenness:"
   ]
  },
  {
   "cell_type": "code",
   "execution_count": 31,
   "metadata": {},
   "outputs": [
    {
     "data": {
      "text/plain": [
       "[6.0, 6.0, 4.0, 2.0, 4.0, 3.0, 4.0, 3.0, 4.0]"
      ]
     },
     "execution_count": 31,
     "metadata": {},
     "output_type": "execute_result"
    }
   ],
   "source": [
    "g.edge_betweenness()"
   ]
  },
  {
   "cell_type": "code",
   "execution_count": 32,
   "metadata": {},
   "outputs": [
    {
     "data": {
      "text/plain": [
       "[(0, 1), (0, 2)]"
      ]
     },
     "execution_count": 32,
     "metadata": {},
     "output_type": "execute_result"
    }
   ],
   "source": [
    "ebs = g.edge_betweenness()\n",
    "max_eb = max(ebs)\n",
    "[g.es[idx].tuple for idx, eb in enumerate(ebs) if eb == max_eb]"
   ]
  },
  {
   "cell_type": "markdown",
   "metadata": {},
   "source": [
    "## Querying vertices and edges based on attributes\n",
    "\n",
    "### Selecting vertices and edges\n",
    "\n",
    "Imagine that in a given social network, you would like to find out who has the largest degree or betweenness centrality. You can do that with the tools presented so far and some basic Python knowledge, but since it is a common task to select vertices and edges based on attributes or structural properties, *igraph* gives you an easier way to do that:"
   ]
  },
  {
   "cell_type": "code",
   "execution_count": 33,
   "metadata": {},
   "outputs": [
    {
     "data": {
      "text/plain": [
       "['Claire']"
      ]
     },
     "execution_count": 33,
     "metadata": {},
     "output_type": "execute_result"
    }
   ],
   "source": [
    "g.vs.select(_degree = g.maxdegree())[\"name\"]"
   ]
  },
  {
   "cell_type": "markdown",
   "metadata": {},
   "source": [
    "The syntax may seem a little bit awkward for the first sight, so let’s try to interpret it step by step. **select()** is a method of **VertexSeq** and its sole purpose is to filter a **VertexSeq** based on the properties of individual vertices. The way it filters the vertices depends on its positional and keyword arguments. Positional arguments (the ones without an explicit name like **_degree** above) are always processed before keyword arguments as follows:"
   ]
  },
  {
   "cell_type": "markdown",
   "metadata": {},
   "source": [
    "- If the first positional argument is None, an empty sequence (containing no vertices) is returned:"
   ]
  },
  {
   "cell_type": "code",
   "execution_count": 34,
   "metadata": {},
   "outputs": [
    {
     "data": {
      "text/plain": [
       "0"
      ]
     },
     "execution_count": 34,
     "metadata": {},
     "output_type": "execute_result"
    }
   ],
   "source": [
    "seq = g.vs.select(None)\n",
    "len(seq)"
   ]
  },
  {
   "cell_type": "markdown",
   "metadata": {},
   "source": [
    "- If the first positional argument is a callable object (i.e., a function, a bound method or anything that behaves like a function), the object will be called for every vertex that’s currently in the sequence. If the function returns True, the vertex will be included, otherwise it will be excluded:"
   ]
  },
  {
   "cell_type": "code",
   "execution_count": 35,
   "metadata": {},
   "outputs": [
    {
     "data": {
      "text/plain": [
       "5"
      ]
     },
     "execution_count": 35,
     "metadata": {},
     "output_type": "execute_result"
    }
   ],
   "source": [
    "graph = Graph.Full(10)\n",
    "only_odd_vertices = graph.vs.select(lambda vertex: vertex.index % 2 == 1)\n",
    "len(only_odd_vertices)"
   ]
  },
  {
   "cell_type": "markdown",
   "metadata": {},
   "source": [
    "- If the first positional argument is an iterable (i.e., a list, a generator or anything that can be iterated over), it must return integers and these integers will be considered as indices into the current vertex set (which is not necessarily the whole graph). Only those vertices that match the given indices will be included in the filtered vertex set. Floats, strings, invalid vertex IDs will silently be ignored"
   ]
  },
  {
   "cell_type": "code",
   "execution_count": 36,
   "metadata": {},
   "outputs": [
    {
     "data": {
      "text/plain": [
       "3"
      ]
     },
     "execution_count": 36,
     "metadata": {},
     "output_type": "execute_result"
    }
   ],
   "source": [
    "seq = graph.vs.select([2, 3, 7])\n",
    "len(seq)"
   ]
  },
  {
   "cell_type": "code",
   "execution_count": 37,
   "metadata": {},
   "outputs": [
    {
     "data": {
      "text/plain": [
       "[2, 3, 7]"
      ]
     },
     "execution_count": 37,
     "metadata": {},
     "output_type": "execute_result"
    }
   ],
   "source": [
    "[v.index for v in seq]"
   ]
  },
  {
   "cell_type": "code",
   "execution_count": 38,
   "metadata": {},
   "outputs": [
    {
     "data": {
      "text/plain": [
       "[2, 7]"
      ]
     },
     "execution_count": 38,
     "metadata": {},
     "output_type": "execute_result"
    }
   ],
   "source": [
    "seq = seq.select([0, 2])         # filtering an existing vertex set\n",
    "[v.index for v in seq]"
   ]
  },
  {
   "cell_type": "markdown",
   "metadata": {},
   "source": [
    "For instance, the following command gives you people younger than 30 years in our imaginary social network:"
   ]
  },
  {
   "cell_type": "code",
   "execution_count": 42,
   "metadata": {},
   "outputs": [
    {
     "data": {
      "text/plain": [
       "<igraph.VertexSeq at 0x7fa7fd0b6278>"
      ]
     },
     "execution_count": 42,
     "metadata": {},
     "output_type": "execute_result"
    }
   ],
   "source": [
    "g.vs.select(age_lt=30)"
   ]
  },
  {
   "cell_type": "markdown",
   "metadata": {},
   "source": [
    "To save you some typing, you can even omit the select() method if you wish:"
   ]
  },
  {
   "cell_type": "code",
   "execution_count": 44,
   "metadata": {},
   "outputs": [
    {
     "data": {
      "text/plain": [
       "<igraph.VertexSeq at 0x7fa7fd0b64a8>"
      ]
     },
     "execution_count": 44,
     "metadata": {},
     "output_type": "execute_result"
    }
   ],
   "source": [
    "g.vs(age_lt=30)"
   ]
  },
  {
   "cell_type": "code",
   "execution_count": null,
   "metadata": {},
   "outputs": [],
   "source": []
  },
  {
   "cell_type": "code",
   "execution_count": null,
   "metadata": {},
   "outputs": [],
   "source": []
  },
  {
   "cell_type": "code",
   "execution_count": null,
   "metadata": {},
   "outputs": [],
   "source": []
  },
  {
   "cell_type": "markdown",
   "metadata": {},
   "source": [
    "## Finding a single vertex or edge with some properties¶\n",
    "\n",
    "In many cases we are looking for a single vertex or edge of a graph with some properties, and either we do not care which one of the matches is returned if there are multiple matches, or we know in advance that there will be only one match. A typical example is looking up vertices by their names in the name property. **VertexSeq** and **EdgeSeq** objects provide the **find()** method for such use-cases. **find()** works similarly to **select()**, but it returns only the first match if there are multiple matches, and throws an exception if no match is found. For instance, to look up the vertex corresponding to Claire, one can do this:"
   ]
  },
  {
   "cell_type": "code",
   "execution_count": 45,
   "metadata": {},
   "outputs": [
    {
     "data": {
      "text/plain": [
       "igraph.Vertex"
      ]
     },
     "execution_count": 45,
     "metadata": {},
     "output_type": "execute_result"
    }
   ],
   "source": [
    "claire = g.vs.find(name=\"Claire\")\n",
    "type(claire)"
   ]
  },
  {
   "cell_type": "code",
   "execution_count": 46,
   "metadata": {},
   "outputs": [
    {
     "data": {
      "text/plain": [
       "2"
      ]
     },
     "execution_count": 46,
     "metadata": {},
     "output_type": "execute_result"
    }
   ],
   "source": [
    "claire.index"
   ]
  },
  {
   "cell_type": "markdown",
   "metadata": {},
   "source": [
    "## Looking up vertices by names\n",
    "\n",
    "Looking up vertices by names is a very common operation, and it is usually much easier to remember the names of the vertices in a graph than their IDs. To this end, igraph treats the name attribute of vertices specially; they are indexed such that vertices can be looked up by their names in amortized constant time. To make things even easier, igraph accepts vertex names (almost) anywhere where it expects vertex IDs, and also accepts collections (list, tuples etc) of vertex names anywhere where it expects lists of vertex IDs or VertexSeq instances. E.g, you can simply look up the degree (number of connections) of Dennis as follows:"
   ]
  },
  {
   "cell_type": "code",
   "execution_count": 47,
   "metadata": {},
   "outputs": [
    {
     "data": {
      "text/plain": [
       "3"
      ]
     },
     "execution_count": 47,
     "metadata": {},
     "output_type": "execute_result"
    }
   ],
   "source": [
    "g.degree(\"Dennis\")"
   ]
  },
  {
   "cell_type": "markdown",
   "metadata": {},
   "source": [
    "or, alternatively:"
   ]
  },
  {
   "cell_type": "code",
   "execution_count": 48,
   "metadata": {},
   "outputs": [
    {
     "data": {
      "text/plain": [
       "3"
      ]
     },
     "execution_count": 48,
     "metadata": {},
     "output_type": "execute_result"
    }
   ],
   "source": [
    "g.vs.find(\"Dennis\").degree()"
   ]
  },
  {
   "cell_type": "markdown",
   "metadata": {},
   "source": [
    "## Layout algorithms\n",
    "\n",
    "- The layout methods in igraph are to be found in the Graph object, and their always start with layout_.\n",
    "\n",
    "- Layout algorithms can either be called directly or using the common layout method called layout():"
   ]
  },
  {
   "cell_type": "code",
   "execution_count": 51,
   "metadata": {},
   "outputs": [
    {
     "data": {
      "text/plain": [
       "<Layout with 7 vertices and 2 dimensions>"
      ]
     },
     "execution_count": 51,
     "metadata": {},
     "output_type": "execute_result"
    }
   ],
   "source": [
    "layout = g.layout_kamada_kawai()\n",
    "layout"
   ]
  },
  {
   "cell_type": "code",
   "execution_count": 52,
   "metadata": {},
   "outputs": [
    {
     "data": {
      "text/plain": [
       "<Layout with 7 vertices and 2 dimensions>"
      ]
     },
     "execution_count": 52,
     "metadata": {},
     "output_type": "execute_result"
    }
   ],
   "source": [
    "layout = g.layout(\"kamada_kawai\")\n",
    "layout"
   ]
  },
  {
   "cell_type": "markdown",
   "metadata": {},
   "source": [
    "The first argument of the layout() method must be the short name of the layout algorithm. All the remaining positional and keyword arguments are passed intact to the chosen layout method. For instance, the following two calls are completely equivalent:"
   ]
  },
  {
   "cell_type": "code",
   "execution_count": 54,
   "metadata": {},
   "outputs": [],
   "source": [
    "layout = g.layout_reingold_tilford(root=[2])\n"
   ]
  },
  {
   "cell_type": "markdown",
   "metadata": {},
   "source": [
    "## Drawing a graph using a layout\n",
    "\n",
    "For instance, we can plot our imaginary social network with the Kamada-Kawai layout algorithm as follows:"
   ]
  },
  {
   "cell_type": "code",
   "execution_count": 56,
   "metadata": {},
   "outputs": [
    {
     "data": {
      "image/svg+xml": [
       "<?xml version=\"1.0\" encoding=\"UTF-8\"?>\n",
       "<svg xmlns=\"http://www.w3.org/2000/svg\" xmlns:xlink=\"http://www.w3.org/1999/xlink\" width=\"600pt\" height=\"600pt\" viewBox=\"0 0 600 600\" version=\"1.1\">\n",
       "<g id=\"surface2\">\n",
       "<rect x=\"0\" y=\"0\" width=\"600\" height=\"600\" style=\"fill:rgb(100%,100%,100%);fill-opacity:1;stroke:none;\"/>\n",
       "<path style=\"fill:none;stroke-width:1;stroke-linecap:butt;stroke-linejoin:miter;stroke:rgb(26.666667%,26.666667%,26.666667%);stroke-opacity:1;stroke-miterlimit:10;\" d=\"M 395.0625 215.980469 L 580 127.53125 \"/>\n",
       "<path style=\"fill:none;stroke-width:1;stroke-linecap:butt;stroke-linejoin:miter;stroke:rgb(26.666667%,26.666667%,26.666667%);stroke-opacity:1;stroke-miterlimit:10;\" d=\"M 395.0625 215.980469 L 205.453125 170.53125 \"/>\n",
       "<path style=\"fill:none;stroke-width:1;stroke-linecap:butt;stroke-linejoin:miter;stroke:rgb(26.666667%,26.666667%,26.666667%);stroke-opacity:1;stroke-miterlimit:10;\" d=\"M 205.453125 170.53125 L 20 299.914062 \"/>\n",
       "<path style=\"fill:none;stroke-width:1;stroke-linecap:butt;stroke-linejoin:miter;stroke:rgb(26.666667%,26.666667%,26.666667%);stroke-opacity:1;stroke-miterlimit:10;\" d=\"M 20 299.914062 L 42.050781 20 \"/>\n",
       "<path style=\"fill:none;stroke-width:1;stroke-linecap:butt;stroke-linejoin:miter;stroke:rgb(26.666667%,26.666667%,26.666667%);stroke-opacity:1;stroke-miterlimit:10;\" d=\"M 205.453125 170.53125 L 42.050781 20 \"/>\n",
       "<path style=\"fill:none;stroke-width:1;stroke-linecap:butt;stroke-linejoin:miter;stroke:rgb(26.666667%,26.666667%,26.666667%);stroke-opacity:1;stroke-miterlimit:10;\" d=\"M 205.453125 170.53125 L 287.234375 452.386719 \"/>\n",
       "<path style=\"fill:none;stroke-width:1;stroke-linecap:butt;stroke-linejoin:miter;stroke:rgb(26.666667%,26.666667%,26.666667%);stroke-opacity:1;stroke-miterlimit:10;\" d=\"M 395.0625 215.980469 L 287.234375 452.386719 \"/>\n",
       "<path style=\"fill:none;stroke-width:1;stroke-linecap:butt;stroke-linejoin:miter;stroke:rgb(26.666667%,26.666667%,26.666667%);stroke-opacity:1;stroke-miterlimit:10;\" d=\"M 20 299.914062 L 102.445312 580 \"/>\n",
       "<path style=\"fill:none;stroke-width:1;stroke-linecap:butt;stroke-linejoin:miter;stroke:rgb(26.666667%,26.666667%,26.666667%);stroke-opacity:1;stroke-miterlimit:10;\" d=\"M 287.234375 452.386719 L 102.445312 580 \"/>\n",
       "<path style=\"fill-rule:nonzero;fill:rgb(100%,0%,0%);fill-opacity:1;stroke-width:1;stroke-linecap:butt;stroke-linejoin:miter;stroke:rgb(0%,0%,0%);stroke-opacity:1;stroke-miterlimit:10;\" d=\"M 405.0625 215.980469 C 405.0625 221.503906 400.585938 225.980469 395.0625 225.980469 C 389.539062 225.980469 385.0625 221.503906 385.0625 215.980469 C 385.0625 210.457031 389.539062 205.980469 395.0625 205.980469 C 400.585938 205.980469 405.0625 210.457031 405.0625 215.980469 \"/>\n",
       "<path style=\"fill-rule:nonzero;fill:rgb(100%,0%,0%);fill-opacity:1;stroke-width:1;stroke-linecap:butt;stroke-linejoin:miter;stroke:rgb(0%,0%,0%);stroke-opacity:1;stroke-miterlimit:10;\" d=\"M 590 127.53125 C 590 133.054688 585.523438 137.53125 580 137.53125 C 574.476562 137.53125 570 133.054688 570 127.53125 C 570 122.007812 574.476562 117.53125 580 117.53125 C 585.523438 117.53125 590 122.007812 590 127.53125 \"/>\n",
       "<path style=\"fill-rule:nonzero;fill:rgb(100%,0%,0%);fill-opacity:1;stroke-width:1;stroke-linecap:butt;stroke-linejoin:miter;stroke:rgb(0%,0%,0%);stroke-opacity:1;stroke-miterlimit:10;\" d=\"M 215.453125 170.53125 C 215.453125 176.054688 210.976562 180.53125 205.453125 180.53125 C 199.929688 180.53125 195.453125 176.054688 195.453125 170.53125 C 195.453125 165.007812 199.929688 160.53125 205.453125 160.53125 C 210.976562 160.53125 215.453125 165.007812 215.453125 170.53125 \"/>\n",
       "<path style=\"fill-rule:nonzero;fill:rgb(100%,0%,0%);fill-opacity:1;stroke-width:1;stroke-linecap:butt;stroke-linejoin:miter;stroke:rgb(0%,0%,0%);stroke-opacity:1;stroke-miterlimit:10;\" d=\"M 30 299.914062 C 30 305.433594 25.523438 309.914062 20 309.914062 C 14.476562 309.914062 10 305.433594 10 299.914062 C 10 294.390625 14.476562 289.914062 20 289.914062 C 25.523438 289.914062 30 294.390625 30 299.914062 \"/>\n",
       "<path style=\"fill-rule:nonzero;fill:rgb(100%,0%,0%);fill-opacity:1;stroke-width:1;stroke-linecap:butt;stroke-linejoin:miter;stroke:rgb(0%,0%,0%);stroke-opacity:1;stroke-miterlimit:10;\" d=\"M 52.050781 20 C 52.050781 25.523438 47.574219 30 42.050781 30 C 36.527344 30 32.050781 25.523438 32.050781 20 C 32.050781 14.476562 36.527344 10 42.050781 10 C 47.574219 10 52.050781 14.476562 52.050781 20 \"/>\n",
       "<path style=\"fill-rule:nonzero;fill:rgb(100%,0%,0%);fill-opacity:1;stroke-width:1;stroke-linecap:butt;stroke-linejoin:miter;stroke:rgb(0%,0%,0%);stroke-opacity:1;stroke-miterlimit:10;\" d=\"M 297.234375 452.386719 C 297.234375 457.910156 292.753906 462.386719 287.234375 462.386719 C 281.710938 462.386719 277.234375 457.910156 277.234375 452.386719 C 277.234375 446.863281 281.710938 442.386719 287.234375 442.386719 C 292.753906 442.386719 297.234375 446.863281 297.234375 452.386719 \"/>\n",
       "<path style=\"fill-rule:nonzero;fill:rgb(100%,0%,0%);fill-opacity:1;stroke-width:1;stroke-linecap:butt;stroke-linejoin:miter;stroke:rgb(0%,0%,0%);stroke-opacity:1;stroke-miterlimit:10;\" d=\"M 112.445312 580 C 112.445312 585.523438 107.96875 590 102.445312 590 C 96.921875 590 92.445312 585.523438 92.445312 580 C 92.445312 574.476562 96.921875 570 102.445312 570 C 107.96875 570 112.445312 574.476562 112.445312 580 \"/>\n",
       "</g>\n",
       "</svg>\n"
      ],
      "text/plain": [
       "<igraph.drawing.Plot at 0x7fa7fd0ba2b0>"
      ]
     },
     "execution_count": 56,
     "metadata": {
      "image/svg+xml": {
       "isolated": true
      }
     },
     "output_type": "execute_result"
    }
   ],
   "source": [
    "layout = g.layout(\"kk\")\n",
    "plot(g, layout = layout)"
   ]
  },
  {
   "cell_type": "markdown",
   "metadata": {},
   "source": [
    "A trivial addition would be to use the names as the vertex labels and to color the vertices according to the gender. Vertex labels are taken from the label attribute by default and vertex colors are determined by the color attribute, so we can simply create these attributes and re-plot the graph:"
   ]
  },
  {
   "cell_type": "code",
   "execution_count": 63,
   "metadata": {},
   "outputs": [
    {
     "data": {
      "image/svg+xml": [
       "<?xml version=\"1.0\" encoding=\"UTF-8\"?>\n",
       "<svg xmlns=\"http://www.w3.org/2000/svg\" xmlns:xlink=\"http://www.w3.org/1999/xlink\" width=\"300pt\" height=\"300pt\" viewBox=\"0 0 300 300\" version=\"1.1\">\n",
       "<defs>\n",
       "<g>\n",
       "<symbol overflow=\"visible\" id=\"glyph0-0\">\n",
       "<path style=\"stroke:none;\" d=\"M 0.703125 2.46875 L 0.703125 -9.875 L 7.703125 -9.875 L 7.703125 2.46875 Z M 1.484375 1.703125 L 6.921875 1.703125 L 6.921875 -9.078125 L 1.484375 -9.078125 Z M 1.484375 1.703125 \"/>\n",
       "</symbol>\n",
       "<symbol overflow=\"visible\" id=\"glyph0-1\">\n",
       "<path style=\"stroke:none;\" d=\"M 4.78125 -8.84375 L 2.90625 -3.765625 L 6.671875 -3.765625 Z M 4 -10.203125 L 5.578125 -10.203125 L 9.46875 0 L 8.03125 0 L 7.09375 -2.625 L 2.5 -2.625 L 1.5625 0 L 0.109375 0 Z M 4 -10.203125 \"/>\n",
       "</symbol>\n",
       "<symbol overflow=\"visible\" id=\"glyph0-2\">\n",
       "<path style=\"stroke:none;\" d=\"M 1.3125 -10.640625 L 2.578125 -10.640625 L 2.578125 0 L 1.3125 0 Z M 1.3125 -10.640625 \"/>\n",
       "</symbol>\n",
       "<symbol overflow=\"visible\" id=\"glyph0-3\">\n",
       "<path style=\"stroke:none;\" d=\"M 1.3125 -7.65625 L 2.578125 -7.65625 L 2.578125 0 L 1.3125 0 Z M 1.3125 -10.640625 L 2.578125 -10.640625 L 2.578125 -9.046875 L 1.3125 -9.046875 Z M 1.3125 -10.640625 \"/>\n",
       "</symbol>\n",
       "<symbol overflow=\"visible\" id=\"glyph0-4\">\n",
       "<path style=\"stroke:none;\" d=\"M 6.828125 -7.359375 L 6.828125 -6.1875 C 6.472656 -6.382812 6.113281 -6.53125 5.75 -6.625 C 5.394531 -6.726562 5.035156 -6.78125 4.671875 -6.78125 C 3.859375 -6.78125 3.222656 -6.519531 2.765625 -6 C 2.316406 -5.476562 2.09375 -4.753906 2.09375 -3.828125 C 2.09375 -2.890625 2.316406 -2.160156 2.765625 -1.640625 C 3.222656 -1.128906 3.859375 -0.875 4.671875 -0.875 C 5.035156 -0.875 5.394531 -0.921875 5.75 -1.015625 C 6.113281 -1.109375 6.472656 -1.253906 6.828125 -1.453125 L 6.828125 -0.296875 C 6.472656 -0.128906 6.109375 -0.00390625 5.734375 0.078125 C 5.359375 0.160156 4.960938 0.203125 4.546875 0.203125 C 3.390625 0.203125 2.46875 -0.15625 1.78125 -0.875 C 1.101562 -1.601562 0.765625 -2.585938 0.765625 -3.828125 C 0.765625 -5.066406 1.109375 -6.046875 1.796875 -6.765625 C 2.484375 -7.484375 3.425781 -7.84375 4.625 -7.84375 C 5.007812 -7.84375 5.382812 -7.800781 5.75 -7.71875 C 6.125 -7.644531 6.484375 -7.523438 6.828125 -7.359375 Z M 6.828125 -7.359375 \"/>\n",
       "</symbol>\n",
       "<symbol overflow=\"visible\" id=\"glyph0-5\">\n",
       "<path style=\"stroke:none;\" d=\"M 7.875 -4.140625 L 7.875 -3.53125 L 2.078125 -3.53125 C 2.140625 -2.664062 2.398438 -2.003906 2.859375 -1.546875 C 3.328125 -1.097656 3.976562 -0.875 4.8125 -0.875 C 5.300781 -0.875 5.769531 -0.929688 6.21875 -1.046875 C 6.675781 -1.160156 7.128906 -1.335938 7.578125 -1.578125 L 7.578125 -0.390625 C 7.117188 -0.203125 6.648438 -0.0546875 6.171875 0.046875 C 5.703125 0.148438 5.226562 0.203125 4.75 0.203125 C 3.519531 0.203125 2.546875 -0.148438 1.828125 -0.859375 C 1.117188 -1.578125 0.765625 -2.539062 0.765625 -3.75 C 0.765625 -5.007812 1.101562 -6.003906 1.78125 -6.734375 C 2.457031 -7.472656 3.375 -7.84375 4.53125 -7.84375 C 5.5625 -7.84375 6.375 -7.507812 6.96875 -6.84375 C 7.570312 -6.1875 7.875 -5.285156 7.875 -4.140625 Z M 6.609375 -4.515625 C 6.597656 -5.203125 6.40625 -5.75 6.03125 -6.15625 C 5.65625 -6.570312 5.160156 -6.78125 4.546875 -6.78125 C 3.835938 -6.78125 3.269531 -6.578125 2.84375 -6.171875 C 2.425781 -5.773438 2.1875 -5.21875 2.125 -4.5 Z M 6.609375 -4.515625 \"/>\n",
       "</symbol>\n",
       "<symbol overflow=\"visible\" id=\"glyph0-6\">\n",
       "<path style=\"stroke:none;\" d=\"M 2.75 -4.875 L 2.75 -1.140625 L 4.96875 -1.140625 C 5.707031 -1.140625 6.253906 -1.289062 6.609375 -1.59375 C 6.972656 -1.90625 7.15625 -2.378906 7.15625 -3.015625 C 7.15625 -3.648438 6.972656 -4.117188 6.609375 -4.421875 C 6.253906 -4.722656 5.707031 -4.875 4.96875 -4.875 Z M 2.75 -9.078125 L 2.75 -6 L 4.796875 -6 C 5.472656 -6 5.972656 -6.125 6.296875 -6.375 C 6.628906 -6.625 6.796875 -7.007812 6.796875 -7.53125 C 6.796875 -8.050781 6.628906 -8.4375 6.296875 -8.6875 C 5.972656 -8.945312 5.472656 -9.078125 4.796875 -9.078125 Z M 1.375 -10.203125 L 4.90625 -10.203125 C 5.957031 -10.203125 6.765625 -9.984375 7.328125 -9.546875 C 7.898438 -9.109375 8.1875 -8.488281 8.1875 -7.6875 C 8.1875 -7.0625 8.039062 -6.5625 7.75 -6.1875 C 7.457031 -5.820312 7.03125 -5.59375 6.46875 -5.5 C 7.144531 -5.351562 7.671875 -5.046875 8.046875 -4.578125 C 8.421875 -4.117188 8.609375 -3.546875 8.609375 -2.859375 C 8.609375 -1.941406 8.296875 -1.234375 7.671875 -0.734375 C 7.054688 -0.242188 6.175781 0 5.03125 0 L 1.375 0 Z M 1.375 -10.203125 \"/>\n",
       "</symbol>\n",
       "<symbol overflow=\"visible\" id=\"glyph0-7\">\n",
       "<path style=\"stroke:none;\" d=\"M 4.28125 -6.78125 C 3.613281 -6.78125 3.082031 -6.515625 2.6875 -5.984375 C 2.289062 -5.460938 2.09375 -4.742188 2.09375 -3.828125 C 2.09375 -2.910156 2.285156 -2.1875 2.671875 -1.65625 C 3.066406 -1.132812 3.601562 -0.875 4.28125 -0.875 C 4.957031 -0.875 5.488281 -1.132812 5.875 -1.65625 C 6.269531 -2.1875 6.46875 -2.910156 6.46875 -3.828125 C 6.46875 -4.734375 6.269531 -5.453125 5.875 -5.984375 C 5.488281 -6.515625 4.957031 -6.78125 4.28125 -6.78125 Z M 4.28125 -7.84375 C 5.375 -7.84375 6.234375 -7.484375 6.859375 -6.765625 C 7.484375 -6.054688 7.796875 -5.078125 7.796875 -3.828125 C 7.796875 -2.566406 7.484375 -1.578125 6.859375 -0.859375 C 6.234375 -0.148438 5.375 0.203125 4.28125 0.203125 C 3.1875 0.203125 2.328125 -0.148438 1.703125 -0.859375 C 1.078125 -1.578125 0.765625 -2.566406 0.765625 -3.828125 C 0.765625 -5.078125 1.078125 -6.054688 1.703125 -6.765625 C 2.328125 -7.484375 3.1875 -7.84375 4.28125 -7.84375 Z M 4.28125 -7.84375 \"/>\n",
       "</symbol>\n",
       "<symbol overflow=\"visible\" id=\"glyph0-8\">\n",
       "<path style=\"stroke:none;\" d=\"M 6.8125 -3.828125 C 6.8125 -4.742188 6.617188 -5.460938 6.234375 -5.984375 C 5.859375 -6.515625 5.335938 -6.78125 4.671875 -6.78125 C 4.003906 -6.78125 3.476562 -6.515625 3.09375 -5.984375 C 2.71875 -5.460938 2.53125 -4.742188 2.53125 -3.828125 C 2.53125 -2.898438 2.71875 -2.171875 3.09375 -1.640625 C 3.476562 -1.117188 4.003906 -0.859375 4.671875 -0.859375 C 5.335938 -0.859375 5.859375 -1.117188 6.234375 -1.640625 C 6.617188 -2.171875 6.8125 -2.898438 6.8125 -3.828125 Z M 2.53125 -6.5 C 2.800781 -6.945312 3.132812 -7.28125 3.53125 -7.5 C 3.9375 -7.726562 4.421875 -7.84375 4.984375 -7.84375 C 5.910156 -7.84375 6.664062 -7.472656 7.25 -6.734375 C 7.832031 -5.992188 8.125 -5.023438 8.125 -3.828125 C 8.125 -2.617188 7.832031 -1.644531 7.25 -0.90625 C 6.664062 -0.164062 5.910156 0.203125 4.984375 0.203125 C 4.421875 0.203125 3.9375 0.09375 3.53125 -0.125 C 3.132812 -0.351562 2.800781 -0.695312 2.53125 -1.15625 L 2.53125 0 L 1.265625 0 L 1.265625 -10.640625 L 2.53125 -10.640625 Z M 2.53125 -6.5 \"/>\n",
       "</symbol>\n",
       "<symbol overflow=\"visible\" id=\"glyph0-9\">\n",
       "<path style=\"stroke:none;\" d=\"M 9.015625 -9.421875 L 9.015625 -7.96875 C 8.546875 -8.394531 8.046875 -8.710938 7.515625 -8.921875 C 6.992188 -9.140625 6.441406 -9.25 5.859375 -9.25 C 4.691406 -9.25 3.796875 -8.890625 3.171875 -8.171875 C 2.554688 -7.460938 2.25 -6.4375 2.25 -5.09375 C 2.25 -3.75 2.554688 -2.71875 3.171875 -2 C 3.796875 -1.289062 4.691406 -0.9375 5.859375 -0.9375 C 6.441406 -0.9375 6.992188 -1.039062 7.515625 -1.25 C 8.046875 -1.46875 8.546875 -1.796875 9.015625 -2.234375 L 9.015625 -0.78125 C 8.535156 -0.457031 8.023438 -0.210938 7.484375 -0.046875 C 6.941406 0.117188 6.367188 0.203125 5.765625 0.203125 C 4.222656 0.203125 3.003906 -0.269531 2.109375 -1.21875 C 1.222656 -2.164062 0.78125 -3.457031 0.78125 -5.09375 C 0.78125 -6.726562 1.222656 -8.019531 2.109375 -8.96875 C 3.003906 -9.914062 4.222656 -10.390625 5.765625 -10.390625 C 6.378906 -10.390625 6.957031 -10.304688 7.5 -10.140625 C 8.039062 -9.984375 8.546875 -9.742188 9.015625 -9.421875 Z M 9.015625 -9.421875 \"/>\n",
       "</symbol>\n",
       "<symbol overflow=\"visible\" id=\"glyph0-10\">\n",
       "<path style=\"stroke:none;\" d=\"M 4.796875 -3.84375 C 3.785156 -3.84375 3.082031 -3.726562 2.6875 -3.5 C 2.289062 -3.269531 2.09375 -2.875 2.09375 -2.3125 C 2.09375 -1.863281 2.238281 -1.507812 2.53125 -1.25 C 2.832031 -0.988281 3.234375 -0.859375 3.734375 -0.859375 C 4.429688 -0.859375 4.988281 -1.101562 5.40625 -1.59375 C 5.832031 -2.09375 6.046875 -2.75 6.046875 -3.5625 L 6.046875 -3.84375 Z M 7.3125 -4.375 L 7.3125 0 L 6.046875 0 L 6.046875 -1.15625 C 5.765625 -0.695312 5.40625 -0.351562 4.96875 -0.125 C 4.539062 0.09375 4.019531 0.203125 3.40625 0.203125 C 2.625 0.203125 2 -0.015625 1.53125 -0.453125 C 1.070312 -0.898438 0.84375 -1.492188 0.84375 -2.234375 C 0.84375 -3.085938 1.128906 -3.734375 1.703125 -4.171875 C 2.285156 -4.609375 3.144531 -4.828125 4.28125 -4.828125 L 6.046875 -4.828125 L 6.046875 -4.953125 C 6.046875 -5.535156 5.851562 -5.984375 5.46875 -6.296875 C 5.09375 -6.617188 4.5625 -6.78125 3.875 -6.78125 C 3.4375 -6.78125 3.007812 -6.722656 2.59375 -6.609375 C 2.175781 -6.503906 1.78125 -6.347656 1.40625 -6.140625 L 1.40625 -7.3125 C 1.863281 -7.488281 2.304688 -7.617188 2.734375 -7.703125 C 3.171875 -7.796875 3.59375 -7.84375 4 -7.84375 C 5.113281 -7.84375 5.941406 -7.554688 6.484375 -6.984375 C 7.035156 -6.410156 7.3125 -5.539062 7.3125 -4.375 Z M 7.3125 -4.375 \"/>\n",
       "</symbol>\n",
       "<symbol overflow=\"visible\" id=\"glyph0-11\">\n",
       "<path style=\"stroke:none;\" d=\"M 5.75 -6.484375 C 5.613281 -6.566406 5.460938 -6.625 5.296875 -6.65625 C 5.128906 -6.695312 4.945312 -6.71875 4.75 -6.71875 C 4.03125 -6.71875 3.476562 -6.484375 3.09375 -6.015625 C 2.71875 -5.554688 2.53125 -4.894531 2.53125 -4.03125 L 2.53125 0 L 1.265625 0 L 1.265625 -7.65625 L 2.53125 -7.65625 L 2.53125 -6.46875 C 2.800781 -6.9375 3.144531 -7.28125 3.5625 -7.5 C 3.988281 -7.726562 4.503906 -7.84375 5.109375 -7.84375 C 5.203125 -7.84375 5.300781 -7.835938 5.40625 -7.828125 C 5.507812 -7.816406 5.625 -7.796875 5.75 -7.765625 Z M 5.75 -6.484375 \"/>\n",
       "</symbol>\n",
       "<symbol overflow=\"visible\" id=\"glyph0-12\">\n",
       "<path style=\"stroke:none;\" d=\"M 2.75 -9.078125 L 2.75 -1.140625 L 4.421875 -1.140625 C 5.828125 -1.140625 6.859375 -1.457031 7.515625 -2.09375 C 8.171875 -2.726562 8.5 -3.734375 8.5 -5.109375 C 8.5 -6.484375 8.171875 -7.488281 7.515625 -8.125 C 6.859375 -8.757812 5.828125 -9.078125 4.421875 -9.078125 Z M 1.375 -10.203125 L 4.21875 -10.203125 C 6.1875 -10.203125 7.632812 -9.789062 8.5625 -8.96875 C 9.488281 -8.144531 9.953125 -6.859375 9.953125 -5.109375 C 9.953125 -3.347656 9.488281 -2.054688 8.5625 -1.234375 C 7.632812 -0.410156 6.1875 0 4.21875 0 L 1.375 0 Z M 1.375 -10.203125 \"/>\n",
       "</symbol>\n",
       "<symbol overflow=\"visible\" id=\"glyph0-13\">\n",
       "<path style=\"stroke:none;\" d=\"M 7.6875 -4.625 L 7.6875 0 L 6.421875 0 L 6.421875 -4.578125 C 6.421875 -5.304688 6.28125 -5.847656 6 -6.203125 C 5.71875 -6.566406 5.296875 -6.75 4.734375 -6.75 C 4.054688 -6.75 3.519531 -6.53125 3.125 -6.09375 C 2.726562 -5.664062 2.53125 -5.078125 2.53125 -4.328125 L 2.53125 0 L 1.265625 0 L 1.265625 -7.65625 L 2.53125 -7.65625 L 2.53125 -6.46875 C 2.832031 -6.925781 3.1875 -7.269531 3.59375 -7.5 C 4.007812 -7.726562 4.484375 -7.84375 5.015625 -7.84375 C 5.890625 -7.84375 6.550781 -7.566406 7 -7.015625 C 7.457031 -6.472656 7.6875 -5.675781 7.6875 -4.625 Z M 7.6875 -4.625 \"/>\n",
       "</symbol>\n",
       "<symbol overflow=\"visible\" id=\"glyph0-14\">\n",
       "<path style=\"stroke:none;\" d=\"M 6.203125 -7.4375 L 6.203125 -6.234375 C 5.847656 -6.421875 5.476562 -6.554688 5.09375 -6.640625 C 4.707031 -6.734375 4.3125 -6.78125 3.90625 -6.78125 C 3.28125 -6.78125 2.8125 -6.6875 2.5 -6.5 C 2.1875 -6.3125 2.03125 -6.023438 2.03125 -5.640625 C 2.03125 -5.347656 2.140625 -5.117188 2.359375 -4.953125 C 2.585938 -4.785156 3.039062 -4.628906 3.71875 -4.484375 L 4.140625 -4.375 C 5.035156 -4.1875 5.671875 -3.914062 6.046875 -3.5625 C 6.421875 -3.21875 6.609375 -2.734375 6.609375 -2.109375 C 6.609375 -1.398438 6.328125 -0.835938 5.765625 -0.421875 C 5.203125 -0.00390625 4.429688 0.203125 3.453125 0.203125 C 3.035156 0.203125 2.601562 0.160156 2.15625 0.078125 C 1.71875 -0.00390625 1.253906 -0.125 0.765625 -0.28125 L 0.765625 -1.578125 C 1.222656 -1.335938 1.675781 -1.15625 2.125 -1.03125 C 2.582031 -0.914062 3.03125 -0.859375 3.46875 -0.859375 C 4.0625 -0.859375 4.515625 -0.957031 4.828125 -1.15625 C 5.148438 -1.363281 5.3125 -1.648438 5.3125 -2.015625 C 5.3125 -2.359375 5.195312 -2.617188 4.96875 -2.796875 C 4.738281 -2.984375 4.234375 -3.160156 3.453125 -3.328125 L 3.015625 -3.4375 C 2.242188 -3.59375 1.679688 -3.84375 1.328125 -4.1875 C 0.984375 -4.53125 0.8125 -4.992188 0.8125 -5.578125 C 0.8125 -6.304688 1.066406 -6.863281 1.578125 -7.25 C 2.085938 -7.644531 2.8125 -7.84375 3.75 -7.84375 C 4.21875 -7.84375 4.65625 -7.804688 5.0625 -7.734375 C 5.476562 -7.671875 5.859375 -7.570312 6.203125 -7.4375 Z M 6.203125 -7.4375 \"/>\n",
       "</symbol>\n",
       "<symbol overflow=\"visible\" id=\"glyph0-15\">\n",
       "<path style=\"stroke:none;\" d=\"M 1.375 -10.203125 L 7.828125 -10.203125 L 7.828125 -9.046875 L 2.75 -9.046875 L 2.75 -6.015625 L 7.609375 -6.015625 L 7.609375 -4.859375 L 2.75 -4.859375 L 2.75 -1.15625 L 7.953125 -1.15625 L 7.953125 0 L 1.375 0 Z M 1.375 -10.203125 \"/>\n",
       "</symbol>\n",
       "<symbol overflow=\"visible\" id=\"glyph0-16\">\n",
       "<path style=\"stroke:none;\" d=\"M 2.5625 -9.828125 L 2.5625 -7.65625 L 5.15625 -7.65625 L 5.15625 -6.671875 L 2.5625 -6.671875 L 2.5625 -2.515625 C 2.5625 -1.898438 2.644531 -1.5 2.8125 -1.3125 C 2.988281 -1.132812 3.335938 -1.046875 3.859375 -1.046875 L 5.15625 -1.046875 L 5.15625 0 L 3.859375 0 C 2.890625 0 2.21875 -0.179688 1.84375 -0.546875 C 1.476562 -0.910156 1.296875 -1.566406 1.296875 -2.515625 L 1.296875 -6.671875 L 0.375 -6.671875 L 0.375 -7.65625 L 1.296875 -7.65625 L 1.296875 -9.828125 Z M 2.5625 -9.828125 \"/>\n",
       "</symbol>\n",
       "<symbol overflow=\"visible\" id=\"glyph0-17\">\n",
       "<path style=\"stroke:none;\" d=\"M 7.6875 -4.625 L 7.6875 0 L 6.421875 0 L 6.421875 -4.578125 C 6.421875 -5.304688 6.28125 -5.847656 6 -6.203125 C 5.71875 -6.566406 5.296875 -6.75 4.734375 -6.75 C 4.054688 -6.75 3.519531 -6.53125 3.125 -6.09375 C 2.726562 -5.664062 2.53125 -5.078125 2.53125 -4.328125 L 2.53125 0 L 1.265625 0 L 1.265625 -10.640625 L 2.53125 -10.640625 L 2.53125 -6.46875 C 2.832031 -6.925781 3.1875 -7.269531 3.59375 -7.5 C 4.007812 -7.726562 4.484375 -7.84375 5.015625 -7.84375 C 5.890625 -7.84375 6.550781 -7.566406 7 -7.015625 C 7.457031 -6.472656 7.6875 -5.675781 7.6875 -4.625 Z M 7.6875 -4.625 \"/>\n",
       "</symbol>\n",
       "<symbol overflow=\"visible\" id=\"glyph0-18\">\n",
       "<path style=\"stroke:none;\" d=\"M 1.375 -10.203125 L 7.234375 -10.203125 L 7.234375 -9.046875 L 2.75 -9.046875 L 2.75 -6.03125 L 6.796875 -6.03125 L 6.796875 -4.875 L 2.75 -4.875 L 2.75 0 L 1.375 0 Z M 1.375 -10.203125 \"/>\n",
       "</symbol>\n",
       "<symbol overflow=\"visible\" id=\"glyph0-19\">\n",
       "<path style=\"stroke:none;\" d=\"M 1.265625 -10.640625 L 2.53125 -10.640625 L 2.53125 -4.359375 L 6.296875 -7.65625 L 7.890625 -7.65625 L 3.828125 -4.078125 L 8.0625 0 L 6.421875 0 L 2.53125 -3.734375 L 2.53125 0 L 1.265625 0 Z M 1.265625 -10.640625 \"/>\n",
       "</symbol>\n",
       "<symbol overflow=\"visible\" id=\"glyph0-20\">\n",
       "<path style=\"stroke:none;\" d=\"M 8.328125 -1.453125 L 8.328125 -4.203125 L 6.078125 -4.203125 L 6.078125 -5.328125 L 9.703125 -5.328125 L 9.703125 -0.953125 C 9.171875 -0.578125 8.582031 -0.289062 7.9375 -0.09375 C 7.289062 0.101562 6.601562 0.203125 5.875 0.203125 C 4.28125 0.203125 3.03125 -0.257812 2.125 -1.1875 C 1.226562 -2.125 0.78125 -3.425781 0.78125 -5.09375 C 0.78125 -6.757812 1.226562 -8.054688 2.125 -8.984375 C 3.03125 -9.921875 4.28125 -10.390625 5.875 -10.390625 C 6.539062 -10.390625 7.171875 -10.304688 7.765625 -10.140625 C 8.367188 -9.984375 8.925781 -9.742188 9.4375 -9.421875 L 9.4375 -7.953125 C 8.925781 -8.378906 8.382812 -8.703125 7.8125 -8.921875 C 7.238281 -9.140625 6.632812 -9.25 6 -9.25 C 4.75 -9.25 3.8125 -8.898438 3.1875 -8.203125 C 2.5625 -7.515625 2.25 -6.476562 2.25 -5.09375 C 2.25 -3.71875 2.5625 -2.679688 3.1875 -1.984375 C 3.8125 -1.285156 4.75 -0.9375 6 -0.9375 C 6.488281 -0.9375 6.921875 -0.976562 7.296875 -1.0625 C 7.679688 -1.144531 8.023438 -1.273438 8.328125 -1.453125 Z M 8.328125 -1.453125 \"/>\n",
       "</symbol>\n",
       "<symbol overflow=\"visible\" id=\"glyph0-21\">\n",
       "<path style=\"stroke:none;\" d=\"M 6.359375 -3.921875 C 6.359375 -4.828125 6.171875 -5.53125 5.796875 -6.03125 C 5.421875 -6.53125 4.894531 -6.78125 4.21875 -6.78125 C 3.539062 -6.78125 3.015625 -6.53125 2.640625 -6.03125 C 2.265625 -5.53125 2.078125 -4.828125 2.078125 -3.921875 C 2.078125 -3.015625 2.265625 -2.304688 2.640625 -1.796875 C 3.015625 -1.296875 3.539062 -1.046875 4.21875 -1.046875 C 4.894531 -1.046875 5.421875 -1.296875 5.796875 -1.796875 C 6.171875 -2.304688 6.359375 -3.015625 6.359375 -3.921875 Z M 7.609375 -0.953125 C 7.609375 0.347656 7.316406 1.316406 6.734375 1.953125 C 6.160156 2.585938 5.28125 2.90625 4.09375 2.90625 C 3.644531 2.90625 3.222656 2.875 2.828125 2.8125 C 2.441406 2.75 2.066406 2.648438 1.703125 2.515625 L 1.703125 1.28125 C 2.066406 1.488281 2.425781 1.640625 2.78125 1.734375 C 3.144531 1.828125 3.515625 1.875 3.890625 1.875 C 4.710938 1.875 5.328125 1.65625 5.734375 1.21875 C 6.148438 0.789062 6.359375 0.144531 6.359375 -0.71875 L 6.359375 -1.34375 C 6.097656 -0.894531 5.765625 -0.554688 5.359375 -0.328125 C 4.953125 -0.109375 4.46875 0 3.90625 0 C 2.96875 0 2.207031 -0.351562 1.625 -1.0625 C 1.050781 -1.78125 0.765625 -2.734375 0.765625 -3.921875 C 0.765625 -5.097656 1.050781 -6.046875 1.625 -6.765625 C 2.207031 -7.484375 2.96875 -7.84375 3.90625 -7.84375 C 4.46875 -7.84375 4.953125 -7.726562 5.359375 -7.5 C 5.765625 -7.28125 6.097656 -6.945312 6.359375 -6.5 L 6.359375 -7.65625 L 7.609375 -7.65625 Z M 7.609375 -0.953125 \"/>\n",
       "</symbol>\n",
       "</g>\n",
       "</defs>\n",
       "<g id=\"surface70\">\n",
       "<rect x=\"0\" y=\"0\" width=\"300\" height=\"300\" style=\"fill:rgb(100%,100%,100%);fill-opacity:1;stroke:none;\"/>\n",
       "<path style=\"fill:none;stroke-width:1;stroke-linecap:butt;stroke-linejoin:miter;stroke:rgb(26.666667%,26.666667%,26.666667%);stroke-opacity:1;stroke-miterlimit:10;\" d=\"M 194.136719 110.992188 L 280 69.925781 \"/>\n",
       "<path style=\"fill:none;stroke-width:1;stroke-linecap:butt;stroke-linejoin:miter;stroke:rgb(26.666667%,26.666667%,26.666667%);stroke-opacity:1;stroke-miterlimit:10;\" d=\"M 194.136719 110.992188 L 106.101562 89.890625 \"/>\n",
       "<path style=\"fill:none;stroke-width:1;stroke-linecap:butt;stroke-linejoin:miter;stroke:rgb(26.666667%,26.666667%,26.666667%);stroke-opacity:1;stroke-miterlimit:10;\" d=\"M 106.101562 89.890625 L 20 149.960938 \"/>\n",
       "<path style=\"fill:none;stroke-width:1;stroke-linecap:butt;stroke-linejoin:miter;stroke:rgb(26.666667%,26.666667%,26.666667%);stroke-opacity:1;stroke-miterlimit:10;\" d=\"M 20 149.960938 L 30.238281 20 \"/>\n",
       "<path style=\"fill:none;stroke-width:1;stroke-linecap:butt;stroke-linejoin:miter;stroke:rgb(26.666667%,26.666667%,26.666667%);stroke-opacity:1;stroke-miterlimit:10;\" d=\"M 106.101562 89.890625 L 30.238281 20 \"/>\n",
       "<path style=\"fill:none;stroke-width:1;stroke-linecap:butt;stroke-linejoin:miter;stroke:rgb(26.666667%,26.666667%,26.666667%);stroke-opacity:1;stroke-miterlimit:10;\" d=\"M 106.101562 89.890625 L 144.074219 220.75 \"/>\n",
       "<path style=\"fill:none;stroke-width:1;stroke-linecap:butt;stroke-linejoin:miter;stroke:rgb(26.666667%,26.666667%,26.666667%);stroke-opacity:1;stroke-miterlimit:10;\" d=\"M 194.136719 110.992188 L 144.074219 220.75 \"/>\n",
       "<path style=\"fill:none;stroke-width:1;stroke-linecap:butt;stroke-linejoin:miter;stroke:rgb(26.666667%,26.666667%,26.666667%);stroke-opacity:1;stroke-miterlimit:10;\" d=\"M 20 149.960938 L 58.277344 280 \"/>\n",
       "<path style=\"fill:none;stroke-width:1;stroke-linecap:butt;stroke-linejoin:miter;stroke:rgb(26.666667%,26.666667%,26.666667%);stroke-opacity:1;stroke-miterlimit:10;\" d=\"M 144.074219 220.75 L 58.277344 280 \"/>\n",
       "<path style=\"fill-rule:nonzero;fill:rgb(100%,75.294118%,79.607843%);fill-opacity:1;stroke-width:1;stroke-linecap:butt;stroke-linejoin:miter;stroke:rgb(0%,0%,0%);stroke-opacity:1;stroke-miterlimit:10;\" d=\"M 204.136719 110.992188 C 204.136719 116.511719 199.660156 120.992188 194.136719 120.992188 C 188.613281 120.992188 184.136719 116.511719 184.136719 110.992188 C 184.136719 105.46875 188.613281 100.992188 194.136719 100.992188 C 199.660156 100.992188 204.136719 105.46875 204.136719 110.992188 \"/>\n",
       "<path style=\"fill-rule:nonzero;fill:rgb(0%,100%,0%);fill-opacity:1;stroke-width:1;stroke-linecap:butt;stroke-linejoin:miter;stroke:rgb(0%,0%,0%);stroke-opacity:1;stroke-miterlimit:10;\" d=\"M 290 69.925781 C 290 75.449219 285.523438 79.925781 280 79.925781 C 274.476562 79.925781 270 75.449219 270 69.925781 C 270 64.402344 274.476562 59.925781 280 59.925781 C 285.523438 59.925781 290 64.402344 290 69.925781 \"/>\n",
       "<path style=\"fill-rule:nonzero;fill:rgb(100%,75.294118%,79.607843%);fill-opacity:1;stroke-width:1;stroke-linecap:butt;stroke-linejoin:miter;stroke:rgb(0%,0%,0%);stroke-opacity:1;stroke-miterlimit:10;\" d=\"M 116.101562 89.890625 C 116.101562 95.414062 111.625 99.890625 106.101562 99.890625 C 100.582031 99.890625 96.101562 95.414062 96.101562 89.890625 C 96.101562 84.367188 100.582031 79.890625 106.101562 79.890625 C 111.625 79.890625 116.101562 84.367188 116.101562 89.890625 \"/>\n",
       "<path style=\"fill-rule:nonzero;fill:rgb(0%,100%,0%);fill-opacity:1;stroke-width:1;stroke-linecap:butt;stroke-linejoin:miter;stroke:rgb(0%,0%,0%);stroke-opacity:1;stroke-miterlimit:10;\" d=\"M 30 149.960938 C 30 155.480469 25.523438 159.960938 20 159.960938 C 14.476562 159.960938 10 155.480469 10 149.960938 C 10 144.4375 14.476562 139.960938 20 139.960938 C 25.523438 139.960938 30 144.4375 30 149.960938 \"/>\n",
       "<path style=\"fill-rule:nonzero;fill:rgb(100%,75.294118%,79.607843%);fill-opacity:1;stroke-width:1;stroke-linecap:butt;stroke-linejoin:miter;stroke:rgb(0%,0%,0%);stroke-opacity:1;stroke-miterlimit:10;\" d=\"M 40.238281 20 C 40.238281 25.523438 35.761719 30 30.238281 30 C 24.714844 30 20.238281 25.523438 20.238281 20 C 20.238281 14.476562 24.714844 10 30.238281 10 C 35.761719 10 40.238281 14.476562 40.238281 20 \"/>\n",
       "<path style=\"fill-rule:nonzero;fill:rgb(0%,100%,0%);fill-opacity:1;stroke-width:1;stroke-linecap:butt;stroke-linejoin:miter;stroke:rgb(0%,0%,0%);stroke-opacity:1;stroke-miterlimit:10;\" d=\"M 154.074219 220.75 C 154.074219 226.273438 149.59375 230.75 144.074219 230.75 C 138.550781 230.75 134.074219 226.273438 134.074219 220.75 C 134.074219 215.226562 138.550781 210.75 144.074219 210.75 C 149.59375 210.75 154.074219 215.226562 154.074219 220.75 \"/>\n",
       "<path style=\"fill-rule:nonzero;fill:rgb(0%,100%,0%);fill-opacity:1;stroke-width:1;stroke-linecap:butt;stroke-linejoin:miter;stroke:rgb(0%,0%,0%);stroke-opacity:1;stroke-miterlimit:10;\" d=\"M 68.277344 280 C 68.277344 285.523438 63.800781 290 58.277344 290 C 52.753906 290 48.277344 285.523438 48.277344 280 C 48.277344 274.476562 52.753906 270 58.277344 270 C 63.800781 270 68.277344 274.476562 68.277344 280 \"/>\n",
       "<g style=\"fill:rgb(0%,0%,0%);fill-opacity:1;\">\n",
       "  <use xlink:href=\"#glyph0-1\" x=\"177.621094\" y=\"117.960938\"/>\n",
       "  <use xlink:href=\"#glyph0-2\" x=\"187.198242\" y=\"117.960938\"/>\n",
       "  <use xlink:href=\"#glyph0-3\" x=\"191.087891\" y=\"117.960938\"/>\n",
       "  <use xlink:href=\"#glyph0-4\" x=\"194.977539\" y=\"117.960938\"/>\n",
       "  <use xlink:href=\"#glyph0-5\" x=\"202.674805\" y=\"117.960938\"/>\n",
       "</g>\n",
       "<g style=\"fill:rgb(0%,0%,0%);fill-opacity:1;\">\n",
       "  <use xlink:href=\"#glyph0-6\" x=\"266.167969\" y=\"76.894531\"/>\n",
       "  <use xlink:href=\"#glyph0-7\" x=\"275.772461\" y=\"76.894531\"/>\n",
       "  <use xlink:href=\"#glyph0-8\" x=\"284.337891\" y=\"76.894531\"/>\n",
       "</g>\n",
       "<g style=\"fill:rgb(0%,0%,0%);fill-opacity:1;\">\n",
       "  <use xlink:href=\"#glyph0-9\" x=\"85.832031\" y=\"96.859375\"/>\n",
       "  <use xlink:href=\"#glyph0-2\" x=\"95.607422\" y=\"96.859375\"/>\n",
       "  <use xlink:href=\"#glyph0-10\" x=\"99.49707\" y=\"96.859375\"/>\n",
       "  <use xlink:href=\"#glyph0-3\" x=\"108.076172\" y=\"96.859375\"/>\n",
       "  <use xlink:href=\"#glyph0-11\" x=\"111.96582\" y=\"96.859375\"/>\n",
       "  <use xlink:href=\"#glyph0-5\" x=\"117.72168\" y=\"96.859375\"/>\n",
       "</g>\n",
       "<g style=\"fill:rgb(0%,0%,0%);fill-opacity:1;\">\n",
       "  <use xlink:href=\"#glyph0-12\" x=\"-4.507812\" y=\"156.929688\"/>\n",
       "  <use xlink:href=\"#glyph0-5\" x=\"6.272461\" y=\"156.929688\"/>\n",
       "  <use xlink:href=\"#glyph0-13\" x=\"14.885742\" y=\"156.929688\"/>\n",
       "  <use xlink:href=\"#glyph0-13\" x=\"23.758789\" y=\"156.929688\"/>\n",
       "  <use xlink:href=\"#glyph0-3\" x=\"32.631836\" y=\"156.929688\"/>\n",
       "  <use xlink:href=\"#glyph0-14\" x=\"36.521484\" y=\"156.929688\"/>\n",
       "</g>\n",
       "<g style=\"fill:rgb(0%,0%,0%);fill-opacity:1;\">\n",
       "  <use xlink:href=\"#glyph0-15\" x=\"7.113281\" y=\"26.96875\"/>\n",
       "  <use xlink:href=\"#glyph0-14\" x=\"15.958984\" y=\"26.96875\"/>\n",
       "  <use xlink:href=\"#glyph0-16\" x=\"23.25293\" y=\"26.96875\"/>\n",
       "  <use xlink:href=\"#glyph0-17\" x=\"28.742188\" y=\"26.96875\"/>\n",
       "  <use xlink:href=\"#glyph0-5\" x=\"37.615234\" y=\"26.96875\"/>\n",
       "  <use xlink:href=\"#glyph0-11\" x=\"46.228516\" y=\"26.96875\"/>\n",
       "</g>\n",
       "<g style=\"fill:rgb(0%,0%,0%);fill-opacity:1;\">\n",
       "  <use xlink:href=\"#glyph0-18\" x=\"123.722656\" y=\"227.71875\"/>\n",
       "  <use xlink:href=\"#glyph0-11\" x=\"131.775391\" y=\"227.71875\"/>\n",
       "  <use xlink:href=\"#glyph0-10\" x=\"137.53125\" y=\"227.71875\"/>\n",
       "  <use xlink:href=\"#glyph0-13\" x=\"146.110352\" y=\"227.71875\"/>\n",
       "  <use xlink:href=\"#glyph0-19\" x=\"154.983398\" y=\"227.71875\"/>\n",
       "</g>\n",
       "<g style=\"fill:rgb(0%,0%,0%);fill-opacity:1;\">\n",
       "  <use xlink:href=\"#glyph0-20\" x=\"32.617188\" y=\"286.847656\"/>\n",
       "  <use xlink:href=\"#glyph0-5\" x=\"43.46582\" y=\"286.847656\"/>\n",
       "  <use xlink:href=\"#glyph0-7\" x=\"52.079102\" y=\"286.847656\"/>\n",
       "  <use xlink:href=\"#glyph0-11\" x=\"60.644531\" y=\"286.847656\"/>\n",
       "  <use xlink:href=\"#glyph0-21\" x=\"66.400391\" y=\"286.847656\"/>\n",
       "  <use xlink:href=\"#glyph0-5\" x=\"75.287109\" y=\"286.847656\"/>\n",
       "</g>\n",
       "</g>\n",
       "</svg>\n"
      ],
      "text/plain": [
       "<igraph.drawing.Plot at 0x7fa7fced4630>"
      ]
     },
     "execution_count": 63,
     "metadata": {
      "image/svg+xml": {
       "isolated": true
      }
     },
     "output_type": "execute_result"
    }
   ],
   "source": [
    "g.vs[\"label\"] = g.vs[\"name\"]\n",
    "color_dict = {\"m\": \"green\", \"f\": \"pink\"}\n",
    "g.vs[\"color\"] = [color_dict[gender] for gender in g.vs[\"gender\"]]\n",
    "plot(g, layout = layout, bbox = (300, 300), margin = 20)"
   ]
  },
  {
   "cell_type": "markdown",
   "metadata": {},
   "source": [
    "Instead of specifying the visual properties as vertex and edge attributes, you can also give them as keyword arguments to plot():"
   ]
  },
  {
   "cell_type": "code",
   "execution_count": 58,
   "metadata": {},
   "outputs": [
    {
     "data": {
      "image/svg+xml": [
       "<?xml version=\"1.0\" encoding=\"UTF-8\"?>\n",
       "<svg xmlns=\"http://www.w3.org/2000/svg\" xmlns:xlink=\"http://www.w3.org/1999/xlink\" width=\"600pt\" height=\"600pt\" viewBox=\"0 0 600 600\" version=\"1.1\">\n",
       "<defs>\n",
       "<g>\n",
       "<symbol overflow=\"visible\" id=\"glyph0-0\">\n",
       "<path style=\"stroke:none;\" d=\"M 0.703125 2.46875 L 0.703125 -9.875 L 7.703125 -9.875 L 7.703125 2.46875 Z M 1.484375 1.703125 L 6.921875 1.703125 L 6.921875 -9.078125 L 1.484375 -9.078125 Z M 1.484375 1.703125 \"/>\n",
       "</symbol>\n",
       "<symbol overflow=\"visible\" id=\"glyph0-1\">\n",
       "<path style=\"stroke:none;\" d=\"M 4.78125 -8.84375 L 2.90625 -3.765625 L 6.671875 -3.765625 Z M 4 -10.203125 L 5.578125 -10.203125 L 9.46875 0 L 8.03125 0 L 7.09375 -2.625 L 2.5 -2.625 L 1.5625 0 L 0.109375 0 Z M 4 -10.203125 \"/>\n",
       "</symbol>\n",
       "<symbol overflow=\"visible\" id=\"glyph0-2\">\n",
       "<path style=\"stroke:none;\" d=\"M 1.3125 -10.640625 L 2.578125 -10.640625 L 2.578125 0 L 1.3125 0 Z M 1.3125 -10.640625 \"/>\n",
       "</symbol>\n",
       "<symbol overflow=\"visible\" id=\"glyph0-3\">\n",
       "<path style=\"stroke:none;\" d=\"M 1.3125 -7.65625 L 2.578125 -7.65625 L 2.578125 0 L 1.3125 0 Z M 1.3125 -10.640625 L 2.578125 -10.640625 L 2.578125 -9.046875 L 1.3125 -9.046875 Z M 1.3125 -10.640625 \"/>\n",
       "</symbol>\n",
       "<symbol overflow=\"visible\" id=\"glyph0-4\">\n",
       "<path style=\"stroke:none;\" d=\"M 6.828125 -7.359375 L 6.828125 -6.1875 C 6.472656 -6.382812 6.113281 -6.53125 5.75 -6.625 C 5.394531 -6.726562 5.035156 -6.78125 4.671875 -6.78125 C 3.859375 -6.78125 3.222656 -6.519531 2.765625 -6 C 2.316406 -5.476562 2.09375 -4.753906 2.09375 -3.828125 C 2.09375 -2.890625 2.316406 -2.160156 2.765625 -1.640625 C 3.222656 -1.128906 3.859375 -0.875 4.671875 -0.875 C 5.035156 -0.875 5.394531 -0.921875 5.75 -1.015625 C 6.113281 -1.109375 6.472656 -1.253906 6.828125 -1.453125 L 6.828125 -0.296875 C 6.472656 -0.128906 6.109375 -0.00390625 5.734375 0.078125 C 5.359375 0.160156 4.960938 0.203125 4.546875 0.203125 C 3.390625 0.203125 2.46875 -0.15625 1.78125 -0.875 C 1.101562 -1.601562 0.765625 -2.585938 0.765625 -3.828125 C 0.765625 -5.066406 1.109375 -6.046875 1.796875 -6.765625 C 2.484375 -7.484375 3.425781 -7.84375 4.625 -7.84375 C 5.007812 -7.84375 5.382812 -7.800781 5.75 -7.71875 C 6.125 -7.644531 6.484375 -7.523438 6.828125 -7.359375 Z M 6.828125 -7.359375 \"/>\n",
       "</symbol>\n",
       "<symbol overflow=\"visible\" id=\"glyph0-5\">\n",
       "<path style=\"stroke:none;\" d=\"M 7.875 -4.140625 L 7.875 -3.53125 L 2.078125 -3.53125 C 2.140625 -2.664062 2.398438 -2.003906 2.859375 -1.546875 C 3.328125 -1.097656 3.976562 -0.875 4.8125 -0.875 C 5.300781 -0.875 5.769531 -0.929688 6.21875 -1.046875 C 6.675781 -1.160156 7.128906 -1.335938 7.578125 -1.578125 L 7.578125 -0.390625 C 7.117188 -0.203125 6.648438 -0.0546875 6.171875 0.046875 C 5.703125 0.148438 5.226562 0.203125 4.75 0.203125 C 3.519531 0.203125 2.546875 -0.148438 1.828125 -0.859375 C 1.117188 -1.578125 0.765625 -2.539062 0.765625 -3.75 C 0.765625 -5.007812 1.101562 -6.003906 1.78125 -6.734375 C 2.457031 -7.472656 3.375 -7.84375 4.53125 -7.84375 C 5.5625 -7.84375 6.375 -7.507812 6.96875 -6.84375 C 7.570312 -6.1875 7.875 -5.285156 7.875 -4.140625 Z M 6.609375 -4.515625 C 6.597656 -5.203125 6.40625 -5.75 6.03125 -6.15625 C 5.65625 -6.570312 5.160156 -6.78125 4.546875 -6.78125 C 3.835938 -6.78125 3.269531 -6.578125 2.84375 -6.171875 C 2.425781 -5.773438 2.1875 -5.21875 2.125 -4.5 Z M 6.609375 -4.515625 \"/>\n",
       "</symbol>\n",
       "<symbol overflow=\"visible\" id=\"glyph0-6\">\n",
       "<path style=\"stroke:none;\" d=\"M 2.75 -4.875 L 2.75 -1.140625 L 4.96875 -1.140625 C 5.707031 -1.140625 6.253906 -1.289062 6.609375 -1.59375 C 6.972656 -1.90625 7.15625 -2.378906 7.15625 -3.015625 C 7.15625 -3.648438 6.972656 -4.117188 6.609375 -4.421875 C 6.253906 -4.722656 5.707031 -4.875 4.96875 -4.875 Z M 2.75 -9.078125 L 2.75 -6 L 4.796875 -6 C 5.472656 -6 5.972656 -6.125 6.296875 -6.375 C 6.628906 -6.625 6.796875 -7.007812 6.796875 -7.53125 C 6.796875 -8.050781 6.628906 -8.4375 6.296875 -8.6875 C 5.972656 -8.945312 5.472656 -9.078125 4.796875 -9.078125 Z M 1.375 -10.203125 L 4.90625 -10.203125 C 5.957031 -10.203125 6.765625 -9.984375 7.328125 -9.546875 C 7.898438 -9.109375 8.1875 -8.488281 8.1875 -7.6875 C 8.1875 -7.0625 8.039062 -6.5625 7.75 -6.1875 C 7.457031 -5.820312 7.03125 -5.59375 6.46875 -5.5 C 7.144531 -5.351562 7.671875 -5.046875 8.046875 -4.578125 C 8.421875 -4.117188 8.609375 -3.546875 8.609375 -2.859375 C 8.609375 -1.941406 8.296875 -1.234375 7.671875 -0.734375 C 7.054688 -0.242188 6.175781 0 5.03125 0 L 1.375 0 Z M 1.375 -10.203125 \"/>\n",
       "</symbol>\n",
       "<symbol overflow=\"visible\" id=\"glyph0-7\">\n",
       "<path style=\"stroke:none;\" d=\"M 4.28125 -6.78125 C 3.613281 -6.78125 3.082031 -6.515625 2.6875 -5.984375 C 2.289062 -5.460938 2.09375 -4.742188 2.09375 -3.828125 C 2.09375 -2.910156 2.285156 -2.1875 2.671875 -1.65625 C 3.066406 -1.132812 3.601562 -0.875 4.28125 -0.875 C 4.957031 -0.875 5.488281 -1.132812 5.875 -1.65625 C 6.269531 -2.1875 6.46875 -2.910156 6.46875 -3.828125 C 6.46875 -4.734375 6.269531 -5.453125 5.875 -5.984375 C 5.488281 -6.515625 4.957031 -6.78125 4.28125 -6.78125 Z M 4.28125 -7.84375 C 5.375 -7.84375 6.234375 -7.484375 6.859375 -6.765625 C 7.484375 -6.054688 7.796875 -5.078125 7.796875 -3.828125 C 7.796875 -2.566406 7.484375 -1.578125 6.859375 -0.859375 C 6.234375 -0.148438 5.375 0.203125 4.28125 0.203125 C 3.1875 0.203125 2.328125 -0.148438 1.703125 -0.859375 C 1.078125 -1.578125 0.765625 -2.566406 0.765625 -3.828125 C 0.765625 -5.078125 1.078125 -6.054688 1.703125 -6.765625 C 2.328125 -7.484375 3.1875 -7.84375 4.28125 -7.84375 Z M 4.28125 -7.84375 \"/>\n",
       "</symbol>\n",
       "<symbol overflow=\"visible\" id=\"glyph0-8\">\n",
       "<path style=\"stroke:none;\" d=\"M 6.8125 -3.828125 C 6.8125 -4.742188 6.617188 -5.460938 6.234375 -5.984375 C 5.859375 -6.515625 5.335938 -6.78125 4.671875 -6.78125 C 4.003906 -6.78125 3.476562 -6.515625 3.09375 -5.984375 C 2.71875 -5.460938 2.53125 -4.742188 2.53125 -3.828125 C 2.53125 -2.898438 2.71875 -2.171875 3.09375 -1.640625 C 3.476562 -1.117188 4.003906 -0.859375 4.671875 -0.859375 C 5.335938 -0.859375 5.859375 -1.117188 6.234375 -1.640625 C 6.617188 -2.171875 6.8125 -2.898438 6.8125 -3.828125 Z M 2.53125 -6.5 C 2.800781 -6.945312 3.132812 -7.28125 3.53125 -7.5 C 3.9375 -7.726562 4.421875 -7.84375 4.984375 -7.84375 C 5.910156 -7.84375 6.664062 -7.472656 7.25 -6.734375 C 7.832031 -5.992188 8.125 -5.023438 8.125 -3.828125 C 8.125 -2.617188 7.832031 -1.644531 7.25 -0.90625 C 6.664062 -0.164062 5.910156 0.203125 4.984375 0.203125 C 4.421875 0.203125 3.9375 0.09375 3.53125 -0.125 C 3.132812 -0.351562 2.800781 -0.695312 2.53125 -1.15625 L 2.53125 0 L 1.265625 0 L 1.265625 -10.640625 L 2.53125 -10.640625 Z M 2.53125 -6.5 \"/>\n",
       "</symbol>\n",
       "<symbol overflow=\"visible\" id=\"glyph0-9\">\n",
       "<path style=\"stroke:none;\" d=\"M 9.015625 -9.421875 L 9.015625 -7.96875 C 8.546875 -8.394531 8.046875 -8.710938 7.515625 -8.921875 C 6.992188 -9.140625 6.441406 -9.25 5.859375 -9.25 C 4.691406 -9.25 3.796875 -8.890625 3.171875 -8.171875 C 2.554688 -7.460938 2.25 -6.4375 2.25 -5.09375 C 2.25 -3.75 2.554688 -2.71875 3.171875 -2 C 3.796875 -1.289062 4.691406 -0.9375 5.859375 -0.9375 C 6.441406 -0.9375 6.992188 -1.039062 7.515625 -1.25 C 8.046875 -1.46875 8.546875 -1.796875 9.015625 -2.234375 L 9.015625 -0.78125 C 8.535156 -0.457031 8.023438 -0.210938 7.484375 -0.046875 C 6.941406 0.117188 6.367188 0.203125 5.765625 0.203125 C 4.222656 0.203125 3.003906 -0.269531 2.109375 -1.21875 C 1.222656 -2.164062 0.78125 -3.457031 0.78125 -5.09375 C 0.78125 -6.726562 1.222656 -8.019531 2.109375 -8.96875 C 3.003906 -9.914062 4.222656 -10.390625 5.765625 -10.390625 C 6.378906 -10.390625 6.957031 -10.304688 7.5 -10.140625 C 8.039062 -9.984375 8.546875 -9.742188 9.015625 -9.421875 Z M 9.015625 -9.421875 \"/>\n",
       "</symbol>\n",
       "<symbol overflow=\"visible\" id=\"glyph0-10\">\n",
       "<path style=\"stroke:none;\" d=\"M 4.796875 -3.84375 C 3.785156 -3.84375 3.082031 -3.726562 2.6875 -3.5 C 2.289062 -3.269531 2.09375 -2.875 2.09375 -2.3125 C 2.09375 -1.863281 2.238281 -1.507812 2.53125 -1.25 C 2.832031 -0.988281 3.234375 -0.859375 3.734375 -0.859375 C 4.429688 -0.859375 4.988281 -1.101562 5.40625 -1.59375 C 5.832031 -2.09375 6.046875 -2.75 6.046875 -3.5625 L 6.046875 -3.84375 Z M 7.3125 -4.375 L 7.3125 0 L 6.046875 0 L 6.046875 -1.15625 C 5.765625 -0.695312 5.40625 -0.351562 4.96875 -0.125 C 4.539062 0.09375 4.019531 0.203125 3.40625 0.203125 C 2.625 0.203125 2 -0.015625 1.53125 -0.453125 C 1.070312 -0.898438 0.84375 -1.492188 0.84375 -2.234375 C 0.84375 -3.085938 1.128906 -3.734375 1.703125 -4.171875 C 2.285156 -4.609375 3.144531 -4.828125 4.28125 -4.828125 L 6.046875 -4.828125 L 6.046875 -4.953125 C 6.046875 -5.535156 5.851562 -5.984375 5.46875 -6.296875 C 5.09375 -6.617188 4.5625 -6.78125 3.875 -6.78125 C 3.4375 -6.78125 3.007812 -6.722656 2.59375 -6.609375 C 2.175781 -6.503906 1.78125 -6.347656 1.40625 -6.140625 L 1.40625 -7.3125 C 1.863281 -7.488281 2.304688 -7.617188 2.734375 -7.703125 C 3.171875 -7.796875 3.59375 -7.84375 4 -7.84375 C 5.113281 -7.84375 5.941406 -7.554688 6.484375 -6.984375 C 7.035156 -6.410156 7.3125 -5.539062 7.3125 -4.375 Z M 7.3125 -4.375 \"/>\n",
       "</symbol>\n",
       "<symbol overflow=\"visible\" id=\"glyph0-11\">\n",
       "<path style=\"stroke:none;\" d=\"M 5.75 -6.484375 C 5.613281 -6.566406 5.460938 -6.625 5.296875 -6.65625 C 5.128906 -6.695312 4.945312 -6.71875 4.75 -6.71875 C 4.03125 -6.71875 3.476562 -6.484375 3.09375 -6.015625 C 2.71875 -5.554688 2.53125 -4.894531 2.53125 -4.03125 L 2.53125 0 L 1.265625 0 L 1.265625 -7.65625 L 2.53125 -7.65625 L 2.53125 -6.46875 C 2.800781 -6.9375 3.144531 -7.28125 3.5625 -7.5 C 3.988281 -7.726562 4.503906 -7.84375 5.109375 -7.84375 C 5.203125 -7.84375 5.300781 -7.835938 5.40625 -7.828125 C 5.507812 -7.816406 5.625 -7.796875 5.75 -7.765625 Z M 5.75 -6.484375 \"/>\n",
       "</symbol>\n",
       "<symbol overflow=\"visible\" id=\"glyph0-12\">\n",
       "<path style=\"stroke:none;\" d=\"M 2.75 -9.078125 L 2.75 -1.140625 L 4.421875 -1.140625 C 5.828125 -1.140625 6.859375 -1.457031 7.515625 -2.09375 C 8.171875 -2.726562 8.5 -3.734375 8.5 -5.109375 C 8.5 -6.484375 8.171875 -7.488281 7.515625 -8.125 C 6.859375 -8.757812 5.828125 -9.078125 4.421875 -9.078125 Z M 1.375 -10.203125 L 4.21875 -10.203125 C 6.1875 -10.203125 7.632812 -9.789062 8.5625 -8.96875 C 9.488281 -8.144531 9.953125 -6.859375 9.953125 -5.109375 C 9.953125 -3.347656 9.488281 -2.054688 8.5625 -1.234375 C 7.632812 -0.410156 6.1875 0 4.21875 0 L 1.375 0 Z M 1.375 -10.203125 \"/>\n",
       "</symbol>\n",
       "<symbol overflow=\"visible\" id=\"glyph0-13\">\n",
       "<path style=\"stroke:none;\" d=\"M 7.6875 -4.625 L 7.6875 0 L 6.421875 0 L 6.421875 -4.578125 C 6.421875 -5.304688 6.28125 -5.847656 6 -6.203125 C 5.71875 -6.566406 5.296875 -6.75 4.734375 -6.75 C 4.054688 -6.75 3.519531 -6.53125 3.125 -6.09375 C 2.726562 -5.664062 2.53125 -5.078125 2.53125 -4.328125 L 2.53125 0 L 1.265625 0 L 1.265625 -7.65625 L 2.53125 -7.65625 L 2.53125 -6.46875 C 2.832031 -6.925781 3.1875 -7.269531 3.59375 -7.5 C 4.007812 -7.726562 4.484375 -7.84375 5.015625 -7.84375 C 5.890625 -7.84375 6.550781 -7.566406 7 -7.015625 C 7.457031 -6.472656 7.6875 -5.675781 7.6875 -4.625 Z M 7.6875 -4.625 \"/>\n",
       "</symbol>\n",
       "<symbol overflow=\"visible\" id=\"glyph0-14\">\n",
       "<path style=\"stroke:none;\" d=\"M 6.203125 -7.4375 L 6.203125 -6.234375 C 5.847656 -6.421875 5.476562 -6.554688 5.09375 -6.640625 C 4.707031 -6.734375 4.3125 -6.78125 3.90625 -6.78125 C 3.28125 -6.78125 2.8125 -6.6875 2.5 -6.5 C 2.1875 -6.3125 2.03125 -6.023438 2.03125 -5.640625 C 2.03125 -5.347656 2.140625 -5.117188 2.359375 -4.953125 C 2.585938 -4.785156 3.039062 -4.628906 3.71875 -4.484375 L 4.140625 -4.375 C 5.035156 -4.1875 5.671875 -3.914062 6.046875 -3.5625 C 6.421875 -3.21875 6.609375 -2.734375 6.609375 -2.109375 C 6.609375 -1.398438 6.328125 -0.835938 5.765625 -0.421875 C 5.203125 -0.00390625 4.429688 0.203125 3.453125 0.203125 C 3.035156 0.203125 2.601562 0.160156 2.15625 0.078125 C 1.71875 -0.00390625 1.253906 -0.125 0.765625 -0.28125 L 0.765625 -1.578125 C 1.222656 -1.335938 1.675781 -1.15625 2.125 -1.03125 C 2.582031 -0.914062 3.03125 -0.859375 3.46875 -0.859375 C 4.0625 -0.859375 4.515625 -0.957031 4.828125 -1.15625 C 5.148438 -1.363281 5.3125 -1.648438 5.3125 -2.015625 C 5.3125 -2.359375 5.195312 -2.617188 4.96875 -2.796875 C 4.738281 -2.984375 4.234375 -3.160156 3.453125 -3.328125 L 3.015625 -3.4375 C 2.242188 -3.59375 1.679688 -3.84375 1.328125 -4.1875 C 0.984375 -4.53125 0.8125 -4.992188 0.8125 -5.578125 C 0.8125 -6.304688 1.066406 -6.863281 1.578125 -7.25 C 2.085938 -7.644531 2.8125 -7.84375 3.75 -7.84375 C 4.21875 -7.84375 4.65625 -7.804688 5.0625 -7.734375 C 5.476562 -7.671875 5.859375 -7.570312 6.203125 -7.4375 Z M 6.203125 -7.4375 \"/>\n",
       "</symbol>\n",
       "<symbol overflow=\"visible\" id=\"glyph0-15\">\n",
       "<path style=\"stroke:none;\" d=\"M 1.375 -10.203125 L 7.828125 -10.203125 L 7.828125 -9.046875 L 2.75 -9.046875 L 2.75 -6.015625 L 7.609375 -6.015625 L 7.609375 -4.859375 L 2.75 -4.859375 L 2.75 -1.15625 L 7.953125 -1.15625 L 7.953125 0 L 1.375 0 Z M 1.375 -10.203125 \"/>\n",
       "</symbol>\n",
       "<symbol overflow=\"visible\" id=\"glyph0-16\">\n",
       "<path style=\"stroke:none;\" d=\"M 2.5625 -9.828125 L 2.5625 -7.65625 L 5.15625 -7.65625 L 5.15625 -6.671875 L 2.5625 -6.671875 L 2.5625 -2.515625 C 2.5625 -1.898438 2.644531 -1.5 2.8125 -1.3125 C 2.988281 -1.132812 3.335938 -1.046875 3.859375 -1.046875 L 5.15625 -1.046875 L 5.15625 0 L 3.859375 0 C 2.890625 0 2.21875 -0.179688 1.84375 -0.546875 C 1.476562 -0.910156 1.296875 -1.566406 1.296875 -2.515625 L 1.296875 -6.671875 L 0.375 -6.671875 L 0.375 -7.65625 L 1.296875 -7.65625 L 1.296875 -9.828125 Z M 2.5625 -9.828125 \"/>\n",
       "</symbol>\n",
       "<symbol overflow=\"visible\" id=\"glyph0-17\">\n",
       "<path style=\"stroke:none;\" d=\"M 7.6875 -4.625 L 7.6875 0 L 6.421875 0 L 6.421875 -4.578125 C 6.421875 -5.304688 6.28125 -5.847656 6 -6.203125 C 5.71875 -6.566406 5.296875 -6.75 4.734375 -6.75 C 4.054688 -6.75 3.519531 -6.53125 3.125 -6.09375 C 2.726562 -5.664062 2.53125 -5.078125 2.53125 -4.328125 L 2.53125 0 L 1.265625 0 L 1.265625 -10.640625 L 2.53125 -10.640625 L 2.53125 -6.46875 C 2.832031 -6.925781 3.1875 -7.269531 3.59375 -7.5 C 4.007812 -7.726562 4.484375 -7.84375 5.015625 -7.84375 C 5.890625 -7.84375 6.550781 -7.566406 7 -7.015625 C 7.457031 -6.472656 7.6875 -5.675781 7.6875 -4.625 Z M 7.6875 -4.625 \"/>\n",
       "</symbol>\n",
       "<symbol overflow=\"visible\" id=\"glyph0-18\">\n",
       "<path style=\"stroke:none;\" d=\"M 1.375 -10.203125 L 7.234375 -10.203125 L 7.234375 -9.046875 L 2.75 -9.046875 L 2.75 -6.03125 L 6.796875 -6.03125 L 6.796875 -4.875 L 2.75 -4.875 L 2.75 0 L 1.375 0 Z M 1.375 -10.203125 \"/>\n",
       "</symbol>\n",
       "<symbol overflow=\"visible\" id=\"glyph0-19\">\n",
       "<path style=\"stroke:none;\" d=\"M 1.265625 -10.640625 L 2.53125 -10.640625 L 2.53125 -4.359375 L 6.296875 -7.65625 L 7.890625 -7.65625 L 3.828125 -4.078125 L 8.0625 0 L 6.421875 0 L 2.53125 -3.734375 L 2.53125 0 L 1.265625 0 Z M 1.265625 -10.640625 \"/>\n",
       "</symbol>\n",
       "<symbol overflow=\"visible\" id=\"glyph0-20\">\n",
       "<path style=\"stroke:none;\" d=\"M 8.328125 -1.453125 L 8.328125 -4.203125 L 6.078125 -4.203125 L 6.078125 -5.328125 L 9.703125 -5.328125 L 9.703125 -0.953125 C 9.171875 -0.578125 8.582031 -0.289062 7.9375 -0.09375 C 7.289062 0.101562 6.601562 0.203125 5.875 0.203125 C 4.28125 0.203125 3.03125 -0.257812 2.125 -1.1875 C 1.226562 -2.125 0.78125 -3.425781 0.78125 -5.09375 C 0.78125 -6.757812 1.226562 -8.054688 2.125 -8.984375 C 3.03125 -9.921875 4.28125 -10.390625 5.875 -10.390625 C 6.539062 -10.390625 7.171875 -10.304688 7.765625 -10.140625 C 8.367188 -9.984375 8.925781 -9.742188 9.4375 -9.421875 L 9.4375 -7.953125 C 8.925781 -8.378906 8.382812 -8.703125 7.8125 -8.921875 C 7.238281 -9.140625 6.632812 -9.25 6 -9.25 C 4.75 -9.25 3.8125 -8.898438 3.1875 -8.203125 C 2.5625 -7.515625 2.25 -6.476562 2.25 -5.09375 C 2.25 -3.71875 2.5625 -2.679688 3.1875 -1.984375 C 3.8125 -1.285156 4.75 -0.9375 6 -0.9375 C 6.488281 -0.9375 6.921875 -0.976562 7.296875 -1.0625 C 7.679688 -1.144531 8.023438 -1.273438 8.328125 -1.453125 Z M 8.328125 -1.453125 \"/>\n",
       "</symbol>\n",
       "<symbol overflow=\"visible\" id=\"glyph0-21\">\n",
       "<path style=\"stroke:none;\" d=\"M 6.359375 -3.921875 C 6.359375 -4.828125 6.171875 -5.53125 5.796875 -6.03125 C 5.421875 -6.53125 4.894531 -6.78125 4.21875 -6.78125 C 3.539062 -6.78125 3.015625 -6.53125 2.640625 -6.03125 C 2.265625 -5.53125 2.078125 -4.828125 2.078125 -3.921875 C 2.078125 -3.015625 2.265625 -2.304688 2.640625 -1.796875 C 3.015625 -1.296875 3.539062 -1.046875 4.21875 -1.046875 C 4.894531 -1.046875 5.421875 -1.296875 5.796875 -1.796875 C 6.171875 -2.304688 6.359375 -3.015625 6.359375 -3.921875 Z M 7.609375 -0.953125 C 7.609375 0.347656 7.316406 1.316406 6.734375 1.953125 C 6.160156 2.585938 5.28125 2.90625 4.09375 2.90625 C 3.644531 2.90625 3.222656 2.875 2.828125 2.8125 C 2.441406 2.75 2.066406 2.648438 1.703125 2.515625 L 1.703125 1.28125 C 2.066406 1.488281 2.425781 1.640625 2.78125 1.734375 C 3.144531 1.828125 3.515625 1.875 3.890625 1.875 C 4.710938 1.875 5.328125 1.65625 5.734375 1.21875 C 6.148438 0.789062 6.359375 0.144531 6.359375 -0.71875 L 6.359375 -1.34375 C 6.097656 -0.894531 5.765625 -0.554688 5.359375 -0.328125 C 4.953125 -0.109375 4.46875 0 3.90625 0 C 2.96875 0 2.207031 -0.351562 1.625 -1.0625 C 1.050781 -1.78125 0.765625 -2.734375 0.765625 -3.921875 C 0.765625 -5.097656 1.050781 -6.046875 1.625 -6.765625 C 2.207031 -7.484375 2.96875 -7.84375 3.90625 -7.84375 C 4.46875 -7.84375 4.953125 -7.726562 5.359375 -7.5 C 5.765625 -7.28125 6.097656 -6.945312 6.359375 -6.5 L 6.359375 -7.65625 L 7.609375 -7.65625 Z M 7.609375 -0.953125 \"/>\n",
       "</symbol>\n",
       "</g>\n",
       "</defs>\n",
       "<g id=\"surface14\">\n",
       "<rect x=\"0\" y=\"0\" width=\"600\" height=\"600\" style=\"fill:rgb(100%,100%,100%);fill-opacity:1;stroke:none;\"/>\n",
       "<path style=\"fill:none;stroke-width:1;stroke-linecap:butt;stroke-linejoin:miter;stroke:rgb(26.666667%,26.666667%,26.666667%);stroke-opacity:1;stroke-miterlimit:10;\" d=\"M 395.0625 215.980469 L 580 127.53125 \"/>\n",
       "<path style=\"fill:none;stroke-width:1;stroke-linecap:butt;stroke-linejoin:miter;stroke:rgb(26.666667%,26.666667%,26.666667%);stroke-opacity:1;stroke-miterlimit:10;\" d=\"M 395.0625 215.980469 L 205.453125 170.53125 \"/>\n",
       "<path style=\"fill:none;stroke-width:1;stroke-linecap:butt;stroke-linejoin:miter;stroke:rgb(26.666667%,26.666667%,26.666667%);stroke-opacity:1;stroke-miterlimit:10;\" d=\"M 205.453125 170.53125 L 20 299.914062 \"/>\n",
       "<path style=\"fill:none;stroke-width:1;stroke-linecap:butt;stroke-linejoin:miter;stroke:rgb(26.666667%,26.666667%,26.666667%);stroke-opacity:1;stroke-miterlimit:10;\" d=\"M 20 299.914062 L 42.050781 20 \"/>\n",
       "<path style=\"fill:none;stroke-width:1;stroke-linecap:butt;stroke-linejoin:miter;stroke:rgb(26.666667%,26.666667%,26.666667%);stroke-opacity:1;stroke-miterlimit:10;\" d=\"M 205.453125 170.53125 L 42.050781 20 \"/>\n",
       "<path style=\"fill:none;stroke-width:1;stroke-linecap:butt;stroke-linejoin:miter;stroke:rgb(26.666667%,26.666667%,26.666667%);stroke-opacity:1;stroke-miterlimit:10;\" d=\"M 205.453125 170.53125 L 287.234375 452.386719 \"/>\n",
       "<path style=\"fill:none;stroke-width:1;stroke-linecap:butt;stroke-linejoin:miter;stroke:rgb(26.666667%,26.666667%,26.666667%);stroke-opacity:1;stroke-miterlimit:10;\" d=\"M 395.0625 215.980469 L 287.234375 452.386719 \"/>\n",
       "<path style=\"fill:none;stroke-width:1;stroke-linecap:butt;stroke-linejoin:miter;stroke:rgb(26.666667%,26.666667%,26.666667%);stroke-opacity:1;stroke-miterlimit:10;\" d=\"M 20 299.914062 L 102.445312 580 \"/>\n",
       "<path style=\"fill:none;stroke-width:1;stroke-linecap:butt;stroke-linejoin:miter;stroke:rgb(26.666667%,26.666667%,26.666667%);stroke-opacity:1;stroke-miterlimit:10;\" d=\"M 287.234375 452.386719 L 102.445312 580 \"/>\n",
       "<path style=\"fill-rule:nonzero;fill:rgb(100%,75.294118%,79.607843%);fill-opacity:1;stroke-width:1;stroke-linecap:butt;stroke-linejoin:miter;stroke:rgb(0%,0%,0%);stroke-opacity:1;stroke-miterlimit:10;\" d=\"M 405.0625 215.980469 C 405.0625 221.503906 400.585938 225.980469 395.0625 225.980469 C 389.539062 225.980469 385.0625 221.503906 385.0625 215.980469 C 385.0625 210.457031 389.539062 205.980469 395.0625 205.980469 C 400.585938 205.980469 405.0625 210.457031 405.0625 215.980469 \"/>\n",
       "<path style=\"fill-rule:nonzero;fill:rgb(0%,0%,100%);fill-opacity:1;stroke-width:1;stroke-linecap:butt;stroke-linejoin:miter;stroke:rgb(0%,0%,0%);stroke-opacity:1;stroke-miterlimit:10;\" d=\"M 590 127.53125 C 590 133.054688 585.523438 137.53125 580 137.53125 C 574.476562 137.53125 570 133.054688 570 127.53125 C 570 122.007812 574.476562 117.53125 580 117.53125 C 585.523438 117.53125 590 122.007812 590 127.53125 \"/>\n",
       "<path style=\"fill-rule:nonzero;fill:rgb(100%,75.294118%,79.607843%);fill-opacity:1;stroke-width:1;stroke-linecap:butt;stroke-linejoin:miter;stroke:rgb(0%,0%,0%);stroke-opacity:1;stroke-miterlimit:10;\" d=\"M 215.453125 170.53125 C 215.453125 176.054688 210.976562 180.53125 205.453125 180.53125 C 199.929688 180.53125 195.453125 176.054688 195.453125 170.53125 C 195.453125 165.007812 199.929688 160.53125 205.453125 160.53125 C 210.976562 160.53125 215.453125 165.007812 215.453125 170.53125 \"/>\n",
       "<path style=\"fill-rule:nonzero;fill:rgb(0%,0%,100%);fill-opacity:1;stroke-width:1;stroke-linecap:butt;stroke-linejoin:miter;stroke:rgb(0%,0%,0%);stroke-opacity:1;stroke-miterlimit:10;\" d=\"M 30 299.914062 C 30 305.433594 25.523438 309.914062 20 309.914062 C 14.476562 309.914062 10 305.433594 10 299.914062 C 10 294.390625 14.476562 289.914062 20 289.914062 C 25.523438 289.914062 30 294.390625 30 299.914062 \"/>\n",
       "<path style=\"fill-rule:nonzero;fill:rgb(100%,75.294118%,79.607843%);fill-opacity:1;stroke-width:1;stroke-linecap:butt;stroke-linejoin:miter;stroke:rgb(0%,0%,0%);stroke-opacity:1;stroke-miterlimit:10;\" d=\"M 52.050781 20 C 52.050781 25.523438 47.574219 30 42.050781 30 C 36.527344 30 32.050781 25.523438 32.050781 20 C 32.050781 14.476562 36.527344 10 42.050781 10 C 47.574219 10 52.050781 14.476562 52.050781 20 \"/>\n",
       "<path style=\"fill-rule:nonzero;fill:rgb(0%,0%,100%);fill-opacity:1;stroke-width:1;stroke-linecap:butt;stroke-linejoin:miter;stroke:rgb(0%,0%,0%);stroke-opacity:1;stroke-miterlimit:10;\" d=\"M 297.234375 452.386719 C 297.234375 457.910156 292.753906 462.386719 287.234375 462.386719 C 281.710938 462.386719 277.234375 457.910156 277.234375 452.386719 C 277.234375 446.863281 281.710938 442.386719 287.234375 442.386719 C 292.753906 442.386719 297.234375 446.863281 297.234375 452.386719 \"/>\n",
       "<path style=\"fill-rule:nonzero;fill:rgb(0%,0%,100%);fill-opacity:1;stroke-width:1;stroke-linecap:butt;stroke-linejoin:miter;stroke:rgb(0%,0%,0%);stroke-opacity:1;stroke-miterlimit:10;\" d=\"M 112.445312 580 C 112.445312 585.523438 107.96875 590 102.445312 590 C 96.921875 590 92.445312 585.523438 92.445312 580 C 92.445312 574.476562 96.921875 570 102.445312 570 C 107.96875 570 112.445312 574.476562 112.445312 580 \"/>\n",
       "<g style=\"fill:rgb(0%,0%,0%);fill-opacity:1;\">\n",
       "  <use xlink:href=\"#glyph0-1\" x=\"378.546875\" y=\"222.949219\"/>\n",
       "  <use xlink:href=\"#glyph0-2\" x=\"388.124023\" y=\"222.949219\"/>\n",
       "  <use xlink:href=\"#glyph0-3\" x=\"392.013672\" y=\"222.949219\"/>\n",
       "  <use xlink:href=\"#glyph0-4\" x=\"395.90332\" y=\"222.949219\"/>\n",
       "  <use xlink:href=\"#glyph0-5\" x=\"403.600586\" y=\"222.949219\"/>\n",
       "</g>\n",
       "<g style=\"fill:rgb(0%,0%,0%);fill-opacity:1;\">\n",
       "  <use xlink:href=\"#glyph0-6\" x=\"566.167969\" y=\"134.5\"/>\n",
       "  <use xlink:href=\"#glyph0-7\" x=\"575.772461\" y=\"134.5\"/>\n",
       "  <use xlink:href=\"#glyph0-8\" x=\"584.337891\" y=\"134.5\"/>\n",
       "</g>\n",
       "<g style=\"fill:rgb(0%,0%,0%);fill-opacity:1;\">\n",
       "  <use xlink:href=\"#glyph0-9\" x=\"185.183594\" y=\"177.5\"/>\n",
       "  <use xlink:href=\"#glyph0-2\" x=\"194.958984\" y=\"177.5\"/>\n",
       "  <use xlink:href=\"#glyph0-10\" x=\"198.848633\" y=\"177.5\"/>\n",
       "  <use xlink:href=\"#glyph0-3\" x=\"207.427734\" y=\"177.5\"/>\n",
       "  <use xlink:href=\"#glyph0-11\" x=\"211.317383\" y=\"177.5\"/>\n",
       "  <use xlink:href=\"#glyph0-5\" x=\"217.073242\" y=\"177.5\"/>\n",
       "</g>\n",
       "<g style=\"fill:rgb(0%,0%,0%);fill-opacity:1;\">\n",
       "  <use xlink:href=\"#glyph0-12\" x=\"-4.507812\" y=\"306.882812\"/>\n",
       "  <use xlink:href=\"#glyph0-5\" x=\"6.272461\" y=\"306.882812\"/>\n",
       "  <use xlink:href=\"#glyph0-13\" x=\"14.885742\" y=\"306.882812\"/>\n",
       "  <use xlink:href=\"#glyph0-13\" x=\"23.758789\" y=\"306.882812\"/>\n",
       "  <use xlink:href=\"#glyph0-3\" x=\"32.631836\" y=\"306.882812\"/>\n",
       "  <use xlink:href=\"#glyph0-14\" x=\"36.521484\" y=\"306.882812\"/>\n",
       "</g>\n",
       "<g style=\"fill:rgb(0%,0%,0%);fill-opacity:1;\">\n",
       "  <use xlink:href=\"#glyph0-15\" x=\"18.929688\" y=\"26.96875\"/>\n",
       "  <use xlink:href=\"#glyph0-14\" x=\"27.775391\" y=\"26.96875\"/>\n",
       "  <use xlink:href=\"#glyph0-16\" x=\"35.069336\" y=\"26.96875\"/>\n",
       "  <use xlink:href=\"#glyph0-17\" x=\"40.558594\" y=\"26.96875\"/>\n",
       "  <use xlink:href=\"#glyph0-5\" x=\"49.431641\" y=\"26.96875\"/>\n",
       "  <use xlink:href=\"#glyph0-11\" x=\"58.044922\" y=\"26.96875\"/>\n",
       "</g>\n",
       "<g style=\"fill:rgb(0%,0%,0%);fill-opacity:1;\">\n",
       "  <use xlink:href=\"#glyph0-18\" x=\"266.882812\" y=\"459.355469\"/>\n",
       "  <use xlink:href=\"#glyph0-11\" x=\"274.935547\" y=\"459.355469\"/>\n",
       "  <use xlink:href=\"#glyph0-10\" x=\"280.691406\" y=\"459.355469\"/>\n",
       "  <use xlink:href=\"#glyph0-13\" x=\"289.270508\" y=\"459.355469\"/>\n",
       "  <use xlink:href=\"#glyph0-19\" x=\"298.143555\" y=\"459.355469\"/>\n",
       "</g>\n",
       "<g style=\"fill:rgb(0%,0%,0%);fill-opacity:1;\">\n",
       "  <use xlink:href=\"#glyph0-20\" x=\"76.785156\" y=\"586.847656\"/>\n",
       "  <use xlink:href=\"#glyph0-5\" x=\"87.633789\" y=\"586.847656\"/>\n",
       "  <use xlink:href=\"#glyph0-7\" x=\"96.24707\" y=\"586.847656\"/>\n",
       "  <use xlink:href=\"#glyph0-11\" x=\"104.8125\" y=\"586.847656\"/>\n",
       "  <use xlink:href=\"#glyph0-21\" x=\"110.568359\" y=\"586.847656\"/>\n",
       "  <use xlink:href=\"#glyph0-5\" x=\"119.455078\" y=\"586.847656\"/>\n",
       "</g>\n",
       "</g>\n",
       "</svg>\n"
      ],
      "text/plain": [
       "<igraph.drawing.Plot at 0x7fa7fd0ba780>"
      ]
     },
     "execution_count": 58,
     "metadata": {
      "image/svg+xml": {
       "isolated": true
      }
     },
     "output_type": "execute_result"
    }
   ],
   "source": [
    "color_dict = {\"m\": \"blue\", \"f\": \"pink\"}\n",
    "plot(g, layout = layout, vertex_color = [color_dict[gender] for gender in g.vs[\"gender\"]])\n"
   ]
  },
  {
   "cell_type": "markdown",
   "metadata": {},
   "source": [
    "This latter approach is preferred if you want to keep the properties of the visual representation of your graph separate from the graph itself. You can simply set up a Python dictionary containing the keyword arguments you would pass to plot() and then use the double asterisk (**) operator to pass your specific styling attributes to plot():"
   ]
  },
  {
   "cell_type": "code",
   "execution_count": 59,
   "metadata": {},
   "outputs": [
    {
     "data": {
      "image/svg+xml": [
       "<?xml version=\"1.0\" encoding=\"UTF-8\"?>\n",
       "<svg xmlns=\"http://www.w3.org/2000/svg\" xmlns:xlink=\"http://www.w3.org/1999/xlink\" width=\"300pt\" height=\"300pt\" viewBox=\"0 0 300 300\" version=\"1.1\">\n",
       "<defs>\n",
       "<g>\n",
       "<symbol overflow=\"visible\" id=\"glyph0-0\">\n",
       "<path style=\"stroke:none;\" d=\"M 0.703125 2.46875 L 0.703125 -9.875 L 7.703125 -9.875 L 7.703125 2.46875 Z M 1.484375 1.703125 L 6.921875 1.703125 L 6.921875 -9.078125 L 1.484375 -9.078125 Z M 1.484375 1.703125 \"/>\n",
       "</symbol>\n",
       "<symbol overflow=\"visible\" id=\"glyph0-1\">\n",
       "<path style=\"stroke:none;\" d=\"M 4.78125 -8.84375 L 2.90625 -3.765625 L 6.671875 -3.765625 Z M 4 -10.203125 L 5.578125 -10.203125 L 9.46875 0 L 8.03125 0 L 7.09375 -2.625 L 2.5 -2.625 L 1.5625 0 L 0.109375 0 Z M 4 -10.203125 \"/>\n",
       "</symbol>\n",
       "<symbol overflow=\"visible\" id=\"glyph0-2\">\n",
       "<path style=\"stroke:none;\" d=\"M 1.3125 -10.640625 L 2.578125 -10.640625 L 2.578125 0 L 1.3125 0 Z M 1.3125 -10.640625 \"/>\n",
       "</symbol>\n",
       "<symbol overflow=\"visible\" id=\"glyph0-3\">\n",
       "<path style=\"stroke:none;\" d=\"M 1.3125 -7.65625 L 2.578125 -7.65625 L 2.578125 0 L 1.3125 0 Z M 1.3125 -10.640625 L 2.578125 -10.640625 L 2.578125 -9.046875 L 1.3125 -9.046875 Z M 1.3125 -10.640625 \"/>\n",
       "</symbol>\n",
       "<symbol overflow=\"visible\" id=\"glyph0-4\">\n",
       "<path style=\"stroke:none;\" d=\"M 6.828125 -7.359375 L 6.828125 -6.1875 C 6.472656 -6.382812 6.113281 -6.53125 5.75 -6.625 C 5.394531 -6.726562 5.035156 -6.78125 4.671875 -6.78125 C 3.859375 -6.78125 3.222656 -6.519531 2.765625 -6 C 2.316406 -5.476562 2.09375 -4.753906 2.09375 -3.828125 C 2.09375 -2.890625 2.316406 -2.160156 2.765625 -1.640625 C 3.222656 -1.128906 3.859375 -0.875 4.671875 -0.875 C 5.035156 -0.875 5.394531 -0.921875 5.75 -1.015625 C 6.113281 -1.109375 6.472656 -1.253906 6.828125 -1.453125 L 6.828125 -0.296875 C 6.472656 -0.128906 6.109375 -0.00390625 5.734375 0.078125 C 5.359375 0.160156 4.960938 0.203125 4.546875 0.203125 C 3.390625 0.203125 2.46875 -0.15625 1.78125 -0.875 C 1.101562 -1.601562 0.765625 -2.585938 0.765625 -3.828125 C 0.765625 -5.066406 1.109375 -6.046875 1.796875 -6.765625 C 2.484375 -7.484375 3.425781 -7.84375 4.625 -7.84375 C 5.007812 -7.84375 5.382812 -7.800781 5.75 -7.71875 C 6.125 -7.644531 6.484375 -7.523438 6.828125 -7.359375 Z M 6.828125 -7.359375 \"/>\n",
       "</symbol>\n",
       "<symbol overflow=\"visible\" id=\"glyph0-5\">\n",
       "<path style=\"stroke:none;\" d=\"M 7.875 -4.140625 L 7.875 -3.53125 L 2.078125 -3.53125 C 2.140625 -2.664062 2.398438 -2.003906 2.859375 -1.546875 C 3.328125 -1.097656 3.976562 -0.875 4.8125 -0.875 C 5.300781 -0.875 5.769531 -0.929688 6.21875 -1.046875 C 6.675781 -1.160156 7.128906 -1.335938 7.578125 -1.578125 L 7.578125 -0.390625 C 7.117188 -0.203125 6.648438 -0.0546875 6.171875 0.046875 C 5.703125 0.148438 5.226562 0.203125 4.75 0.203125 C 3.519531 0.203125 2.546875 -0.148438 1.828125 -0.859375 C 1.117188 -1.578125 0.765625 -2.539062 0.765625 -3.75 C 0.765625 -5.007812 1.101562 -6.003906 1.78125 -6.734375 C 2.457031 -7.472656 3.375 -7.84375 4.53125 -7.84375 C 5.5625 -7.84375 6.375 -7.507812 6.96875 -6.84375 C 7.570312 -6.1875 7.875 -5.285156 7.875 -4.140625 Z M 6.609375 -4.515625 C 6.597656 -5.203125 6.40625 -5.75 6.03125 -6.15625 C 5.65625 -6.570312 5.160156 -6.78125 4.546875 -6.78125 C 3.835938 -6.78125 3.269531 -6.578125 2.84375 -6.171875 C 2.425781 -5.773438 2.1875 -5.21875 2.125 -4.5 Z M 6.609375 -4.515625 \"/>\n",
       "</symbol>\n",
       "<symbol overflow=\"visible\" id=\"glyph0-6\">\n",
       "<path style=\"stroke:none;\" d=\"M 2.75 -4.875 L 2.75 -1.140625 L 4.96875 -1.140625 C 5.707031 -1.140625 6.253906 -1.289062 6.609375 -1.59375 C 6.972656 -1.90625 7.15625 -2.378906 7.15625 -3.015625 C 7.15625 -3.648438 6.972656 -4.117188 6.609375 -4.421875 C 6.253906 -4.722656 5.707031 -4.875 4.96875 -4.875 Z M 2.75 -9.078125 L 2.75 -6 L 4.796875 -6 C 5.472656 -6 5.972656 -6.125 6.296875 -6.375 C 6.628906 -6.625 6.796875 -7.007812 6.796875 -7.53125 C 6.796875 -8.050781 6.628906 -8.4375 6.296875 -8.6875 C 5.972656 -8.945312 5.472656 -9.078125 4.796875 -9.078125 Z M 1.375 -10.203125 L 4.90625 -10.203125 C 5.957031 -10.203125 6.765625 -9.984375 7.328125 -9.546875 C 7.898438 -9.109375 8.1875 -8.488281 8.1875 -7.6875 C 8.1875 -7.0625 8.039062 -6.5625 7.75 -6.1875 C 7.457031 -5.820312 7.03125 -5.59375 6.46875 -5.5 C 7.144531 -5.351562 7.671875 -5.046875 8.046875 -4.578125 C 8.421875 -4.117188 8.609375 -3.546875 8.609375 -2.859375 C 8.609375 -1.941406 8.296875 -1.234375 7.671875 -0.734375 C 7.054688 -0.242188 6.175781 0 5.03125 0 L 1.375 0 Z M 1.375 -10.203125 \"/>\n",
       "</symbol>\n",
       "<symbol overflow=\"visible\" id=\"glyph0-7\">\n",
       "<path style=\"stroke:none;\" d=\"M 4.28125 -6.78125 C 3.613281 -6.78125 3.082031 -6.515625 2.6875 -5.984375 C 2.289062 -5.460938 2.09375 -4.742188 2.09375 -3.828125 C 2.09375 -2.910156 2.285156 -2.1875 2.671875 -1.65625 C 3.066406 -1.132812 3.601562 -0.875 4.28125 -0.875 C 4.957031 -0.875 5.488281 -1.132812 5.875 -1.65625 C 6.269531 -2.1875 6.46875 -2.910156 6.46875 -3.828125 C 6.46875 -4.734375 6.269531 -5.453125 5.875 -5.984375 C 5.488281 -6.515625 4.957031 -6.78125 4.28125 -6.78125 Z M 4.28125 -7.84375 C 5.375 -7.84375 6.234375 -7.484375 6.859375 -6.765625 C 7.484375 -6.054688 7.796875 -5.078125 7.796875 -3.828125 C 7.796875 -2.566406 7.484375 -1.578125 6.859375 -0.859375 C 6.234375 -0.148438 5.375 0.203125 4.28125 0.203125 C 3.1875 0.203125 2.328125 -0.148438 1.703125 -0.859375 C 1.078125 -1.578125 0.765625 -2.566406 0.765625 -3.828125 C 0.765625 -5.078125 1.078125 -6.054688 1.703125 -6.765625 C 2.328125 -7.484375 3.1875 -7.84375 4.28125 -7.84375 Z M 4.28125 -7.84375 \"/>\n",
       "</symbol>\n",
       "<symbol overflow=\"visible\" id=\"glyph0-8\">\n",
       "<path style=\"stroke:none;\" d=\"M 6.8125 -3.828125 C 6.8125 -4.742188 6.617188 -5.460938 6.234375 -5.984375 C 5.859375 -6.515625 5.335938 -6.78125 4.671875 -6.78125 C 4.003906 -6.78125 3.476562 -6.515625 3.09375 -5.984375 C 2.71875 -5.460938 2.53125 -4.742188 2.53125 -3.828125 C 2.53125 -2.898438 2.71875 -2.171875 3.09375 -1.640625 C 3.476562 -1.117188 4.003906 -0.859375 4.671875 -0.859375 C 5.335938 -0.859375 5.859375 -1.117188 6.234375 -1.640625 C 6.617188 -2.171875 6.8125 -2.898438 6.8125 -3.828125 Z M 2.53125 -6.5 C 2.800781 -6.945312 3.132812 -7.28125 3.53125 -7.5 C 3.9375 -7.726562 4.421875 -7.84375 4.984375 -7.84375 C 5.910156 -7.84375 6.664062 -7.472656 7.25 -6.734375 C 7.832031 -5.992188 8.125 -5.023438 8.125 -3.828125 C 8.125 -2.617188 7.832031 -1.644531 7.25 -0.90625 C 6.664062 -0.164062 5.910156 0.203125 4.984375 0.203125 C 4.421875 0.203125 3.9375 0.09375 3.53125 -0.125 C 3.132812 -0.351562 2.800781 -0.695312 2.53125 -1.15625 L 2.53125 0 L 1.265625 0 L 1.265625 -10.640625 L 2.53125 -10.640625 Z M 2.53125 -6.5 \"/>\n",
       "</symbol>\n",
       "<symbol overflow=\"visible\" id=\"glyph0-9\">\n",
       "<path style=\"stroke:none;\" d=\"M 9.015625 -9.421875 L 9.015625 -7.96875 C 8.546875 -8.394531 8.046875 -8.710938 7.515625 -8.921875 C 6.992188 -9.140625 6.441406 -9.25 5.859375 -9.25 C 4.691406 -9.25 3.796875 -8.890625 3.171875 -8.171875 C 2.554688 -7.460938 2.25 -6.4375 2.25 -5.09375 C 2.25 -3.75 2.554688 -2.71875 3.171875 -2 C 3.796875 -1.289062 4.691406 -0.9375 5.859375 -0.9375 C 6.441406 -0.9375 6.992188 -1.039062 7.515625 -1.25 C 8.046875 -1.46875 8.546875 -1.796875 9.015625 -2.234375 L 9.015625 -0.78125 C 8.535156 -0.457031 8.023438 -0.210938 7.484375 -0.046875 C 6.941406 0.117188 6.367188 0.203125 5.765625 0.203125 C 4.222656 0.203125 3.003906 -0.269531 2.109375 -1.21875 C 1.222656 -2.164062 0.78125 -3.457031 0.78125 -5.09375 C 0.78125 -6.726562 1.222656 -8.019531 2.109375 -8.96875 C 3.003906 -9.914062 4.222656 -10.390625 5.765625 -10.390625 C 6.378906 -10.390625 6.957031 -10.304688 7.5 -10.140625 C 8.039062 -9.984375 8.546875 -9.742188 9.015625 -9.421875 Z M 9.015625 -9.421875 \"/>\n",
       "</symbol>\n",
       "<symbol overflow=\"visible\" id=\"glyph0-10\">\n",
       "<path style=\"stroke:none;\" d=\"M 4.796875 -3.84375 C 3.785156 -3.84375 3.082031 -3.726562 2.6875 -3.5 C 2.289062 -3.269531 2.09375 -2.875 2.09375 -2.3125 C 2.09375 -1.863281 2.238281 -1.507812 2.53125 -1.25 C 2.832031 -0.988281 3.234375 -0.859375 3.734375 -0.859375 C 4.429688 -0.859375 4.988281 -1.101562 5.40625 -1.59375 C 5.832031 -2.09375 6.046875 -2.75 6.046875 -3.5625 L 6.046875 -3.84375 Z M 7.3125 -4.375 L 7.3125 0 L 6.046875 0 L 6.046875 -1.15625 C 5.765625 -0.695312 5.40625 -0.351562 4.96875 -0.125 C 4.539062 0.09375 4.019531 0.203125 3.40625 0.203125 C 2.625 0.203125 2 -0.015625 1.53125 -0.453125 C 1.070312 -0.898438 0.84375 -1.492188 0.84375 -2.234375 C 0.84375 -3.085938 1.128906 -3.734375 1.703125 -4.171875 C 2.285156 -4.609375 3.144531 -4.828125 4.28125 -4.828125 L 6.046875 -4.828125 L 6.046875 -4.953125 C 6.046875 -5.535156 5.851562 -5.984375 5.46875 -6.296875 C 5.09375 -6.617188 4.5625 -6.78125 3.875 -6.78125 C 3.4375 -6.78125 3.007812 -6.722656 2.59375 -6.609375 C 2.175781 -6.503906 1.78125 -6.347656 1.40625 -6.140625 L 1.40625 -7.3125 C 1.863281 -7.488281 2.304688 -7.617188 2.734375 -7.703125 C 3.171875 -7.796875 3.59375 -7.84375 4 -7.84375 C 5.113281 -7.84375 5.941406 -7.554688 6.484375 -6.984375 C 7.035156 -6.410156 7.3125 -5.539062 7.3125 -4.375 Z M 7.3125 -4.375 \"/>\n",
       "</symbol>\n",
       "<symbol overflow=\"visible\" id=\"glyph0-11\">\n",
       "<path style=\"stroke:none;\" d=\"M 5.75 -6.484375 C 5.613281 -6.566406 5.460938 -6.625 5.296875 -6.65625 C 5.128906 -6.695312 4.945312 -6.71875 4.75 -6.71875 C 4.03125 -6.71875 3.476562 -6.484375 3.09375 -6.015625 C 2.71875 -5.554688 2.53125 -4.894531 2.53125 -4.03125 L 2.53125 0 L 1.265625 0 L 1.265625 -7.65625 L 2.53125 -7.65625 L 2.53125 -6.46875 C 2.800781 -6.9375 3.144531 -7.28125 3.5625 -7.5 C 3.988281 -7.726562 4.503906 -7.84375 5.109375 -7.84375 C 5.203125 -7.84375 5.300781 -7.835938 5.40625 -7.828125 C 5.507812 -7.816406 5.625 -7.796875 5.75 -7.765625 Z M 5.75 -6.484375 \"/>\n",
       "</symbol>\n",
       "<symbol overflow=\"visible\" id=\"glyph0-12\">\n",
       "<path style=\"stroke:none;\" d=\"M 2.75 -9.078125 L 2.75 -1.140625 L 4.421875 -1.140625 C 5.828125 -1.140625 6.859375 -1.457031 7.515625 -2.09375 C 8.171875 -2.726562 8.5 -3.734375 8.5 -5.109375 C 8.5 -6.484375 8.171875 -7.488281 7.515625 -8.125 C 6.859375 -8.757812 5.828125 -9.078125 4.421875 -9.078125 Z M 1.375 -10.203125 L 4.21875 -10.203125 C 6.1875 -10.203125 7.632812 -9.789062 8.5625 -8.96875 C 9.488281 -8.144531 9.953125 -6.859375 9.953125 -5.109375 C 9.953125 -3.347656 9.488281 -2.054688 8.5625 -1.234375 C 7.632812 -0.410156 6.1875 0 4.21875 0 L 1.375 0 Z M 1.375 -10.203125 \"/>\n",
       "</symbol>\n",
       "<symbol overflow=\"visible\" id=\"glyph0-13\">\n",
       "<path style=\"stroke:none;\" d=\"M 7.6875 -4.625 L 7.6875 0 L 6.421875 0 L 6.421875 -4.578125 C 6.421875 -5.304688 6.28125 -5.847656 6 -6.203125 C 5.71875 -6.566406 5.296875 -6.75 4.734375 -6.75 C 4.054688 -6.75 3.519531 -6.53125 3.125 -6.09375 C 2.726562 -5.664062 2.53125 -5.078125 2.53125 -4.328125 L 2.53125 0 L 1.265625 0 L 1.265625 -7.65625 L 2.53125 -7.65625 L 2.53125 -6.46875 C 2.832031 -6.925781 3.1875 -7.269531 3.59375 -7.5 C 4.007812 -7.726562 4.484375 -7.84375 5.015625 -7.84375 C 5.890625 -7.84375 6.550781 -7.566406 7 -7.015625 C 7.457031 -6.472656 7.6875 -5.675781 7.6875 -4.625 Z M 7.6875 -4.625 \"/>\n",
       "</symbol>\n",
       "<symbol overflow=\"visible\" id=\"glyph0-14\">\n",
       "<path style=\"stroke:none;\" d=\"M 6.203125 -7.4375 L 6.203125 -6.234375 C 5.847656 -6.421875 5.476562 -6.554688 5.09375 -6.640625 C 4.707031 -6.734375 4.3125 -6.78125 3.90625 -6.78125 C 3.28125 -6.78125 2.8125 -6.6875 2.5 -6.5 C 2.1875 -6.3125 2.03125 -6.023438 2.03125 -5.640625 C 2.03125 -5.347656 2.140625 -5.117188 2.359375 -4.953125 C 2.585938 -4.785156 3.039062 -4.628906 3.71875 -4.484375 L 4.140625 -4.375 C 5.035156 -4.1875 5.671875 -3.914062 6.046875 -3.5625 C 6.421875 -3.21875 6.609375 -2.734375 6.609375 -2.109375 C 6.609375 -1.398438 6.328125 -0.835938 5.765625 -0.421875 C 5.203125 -0.00390625 4.429688 0.203125 3.453125 0.203125 C 3.035156 0.203125 2.601562 0.160156 2.15625 0.078125 C 1.71875 -0.00390625 1.253906 -0.125 0.765625 -0.28125 L 0.765625 -1.578125 C 1.222656 -1.335938 1.675781 -1.15625 2.125 -1.03125 C 2.582031 -0.914062 3.03125 -0.859375 3.46875 -0.859375 C 4.0625 -0.859375 4.515625 -0.957031 4.828125 -1.15625 C 5.148438 -1.363281 5.3125 -1.648438 5.3125 -2.015625 C 5.3125 -2.359375 5.195312 -2.617188 4.96875 -2.796875 C 4.738281 -2.984375 4.234375 -3.160156 3.453125 -3.328125 L 3.015625 -3.4375 C 2.242188 -3.59375 1.679688 -3.84375 1.328125 -4.1875 C 0.984375 -4.53125 0.8125 -4.992188 0.8125 -5.578125 C 0.8125 -6.304688 1.066406 -6.863281 1.578125 -7.25 C 2.085938 -7.644531 2.8125 -7.84375 3.75 -7.84375 C 4.21875 -7.84375 4.65625 -7.804688 5.0625 -7.734375 C 5.476562 -7.671875 5.859375 -7.570312 6.203125 -7.4375 Z M 6.203125 -7.4375 \"/>\n",
       "</symbol>\n",
       "<symbol overflow=\"visible\" id=\"glyph0-15\">\n",
       "<path style=\"stroke:none;\" d=\"M 1.375 -10.203125 L 7.828125 -10.203125 L 7.828125 -9.046875 L 2.75 -9.046875 L 2.75 -6.015625 L 7.609375 -6.015625 L 7.609375 -4.859375 L 2.75 -4.859375 L 2.75 -1.15625 L 7.953125 -1.15625 L 7.953125 0 L 1.375 0 Z M 1.375 -10.203125 \"/>\n",
       "</symbol>\n",
       "<symbol overflow=\"visible\" id=\"glyph0-16\">\n",
       "<path style=\"stroke:none;\" d=\"M 2.5625 -9.828125 L 2.5625 -7.65625 L 5.15625 -7.65625 L 5.15625 -6.671875 L 2.5625 -6.671875 L 2.5625 -2.515625 C 2.5625 -1.898438 2.644531 -1.5 2.8125 -1.3125 C 2.988281 -1.132812 3.335938 -1.046875 3.859375 -1.046875 L 5.15625 -1.046875 L 5.15625 0 L 3.859375 0 C 2.890625 0 2.21875 -0.179688 1.84375 -0.546875 C 1.476562 -0.910156 1.296875 -1.566406 1.296875 -2.515625 L 1.296875 -6.671875 L 0.375 -6.671875 L 0.375 -7.65625 L 1.296875 -7.65625 L 1.296875 -9.828125 Z M 2.5625 -9.828125 \"/>\n",
       "</symbol>\n",
       "<symbol overflow=\"visible\" id=\"glyph0-17\">\n",
       "<path style=\"stroke:none;\" d=\"M 7.6875 -4.625 L 7.6875 0 L 6.421875 0 L 6.421875 -4.578125 C 6.421875 -5.304688 6.28125 -5.847656 6 -6.203125 C 5.71875 -6.566406 5.296875 -6.75 4.734375 -6.75 C 4.054688 -6.75 3.519531 -6.53125 3.125 -6.09375 C 2.726562 -5.664062 2.53125 -5.078125 2.53125 -4.328125 L 2.53125 0 L 1.265625 0 L 1.265625 -10.640625 L 2.53125 -10.640625 L 2.53125 -6.46875 C 2.832031 -6.925781 3.1875 -7.269531 3.59375 -7.5 C 4.007812 -7.726562 4.484375 -7.84375 5.015625 -7.84375 C 5.890625 -7.84375 6.550781 -7.566406 7 -7.015625 C 7.457031 -6.472656 7.6875 -5.675781 7.6875 -4.625 Z M 7.6875 -4.625 \"/>\n",
       "</symbol>\n",
       "<symbol overflow=\"visible\" id=\"glyph0-18\">\n",
       "<path style=\"stroke:none;\" d=\"M 1.375 -10.203125 L 7.234375 -10.203125 L 7.234375 -9.046875 L 2.75 -9.046875 L 2.75 -6.03125 L 6.796875 -6.03125 L 6.796875 -4.875 L 2.75 -4.875 L 2.75 0 L 1.375 0 Z M 1.375 -10.203125 \"/>\n",
       "</symbol>\n",
       "<symbol overflow=\"visible\" id=\"glyph0-19\">\n",
       "<path style=\"stroke:none;\" d=\"M 1.265625 -10.640625 L 2.53125 -10.640625 L 2.53125 -4.359375 L 6.296875 -7.65625 L 7.890625 -7.65625 L 3.828125 -4.078125 L 8.0625 0 L 6.421875 0 L 2.53125 -3.734375 L 2.53125 0 L 1.265625 0 Z M 1.265625 -10.640625 \"/>\n",
       "</symbol>\n",
       "<symbol overflow=\"visible\" id=\"glyph0-20\">\n",
       "<path style=\"stroke:none;\" d=\"M 8.328125 -1.453125 L 8.328125 -4.203125 L 6.078125 -4.203125 L 6.078125 -5.328125 L 9.703125 -5.328125 L 9.703125 -0.953125 C 9.171875 -0.578125 8.582031 -0.289062 7.9375 -0.09375 C 7.289062 0.101562 6.601562 0.203125 5.875 0.203125 C 4.28125 0.203125 3.03125 -0.257812 2.125 -1.1875 C 1.226562 -2.125 0.78125 -3.425781 0.78125 -5.09375 C 0.78125 -6.757812 1.226562 -8.054688 2.125 -8.984375 C 3.03125 -9.921875 4.28125 -10.390625 5.875 -10.390625 C 6.539062 -10.390625 7.171875 -10.304688 7.765625 -10.140625 C 8.367188 -9.984375 8.925781 -9.742188 9.4375 -9.421875 L 9.4375 -7.953125 C 8.925781 -8.378906 8.382812 -8.703125 7.8125 -8.921875 C 7.238281 -9.140625 6.632812 -9.25 6 -9.25 C 4.75 -9.25 3.8125 -8.898438 3.1875 -8.203125 C 2.5625 -7.515625 2.25 -6.476562 2.25 -5.09375 C 2.25 -3.71875 2.5625 -2.679688 3.1875 -1.984375 C 3.8125 -1.285156 4.75 -0.9375 6 -0.9375 C 6.488281 -0.9375 6.921875 -0.976562 7.296875 -1.0625 C 7.679688 -1.144531 8.023438 -1.273438 8.328125 -1.453125 Z M 8.328125 -1.453125 \"/>\n",
       "</symbol>\n",
       "<symbol overflow=\"visible\" id=\"glyph0-21\">\n",
       "<path style=\"stroke:none;\" d=\"M 6.359375 -3.921875 C 6.359375 -4.828125 6.171875 -5.53125 5.796875 -6.03125 C 5.421875 -6.53125 4.894531 -6.78125 4.21875 -6.78125 C 3.539062 -6.78125 3.015625 -6.53125 2.640625 -6.03125 C 2.265625 -5.53125 2.078125 -4.828125 2.078125 -3.921875 C 2.078125 -3.015625 2.265625 -2.304688 2.640625 -1.796875 C 3.015625 -1.296875 3.539062 -1.046875 4.21875 -1.046875 C 4.894531 -1.046875 5.421875 -1.296875 5.796875 -1.796875 C 6.171875 -2.304688 6.359375 -3.015625 6.359375 -3.921875 Z M 7.609375 -0.953125 C 7.609375 0.347656 7.316406 1.316406 6.734375 1.953125 C 6.160156 2.585938 5.28125 2.90625 4.09375 2.90625 C 3.644531 2.90625 3.222656 2.875 2.828125 2.8125 C 2.441406 2.75 2.066406 2.648438 1.703125 2.515625 L 1.703125 1.28125 C 2.066406 1.488281 2.425781 1.640625 2.78125 1.734375 C 3.144531 1.828125 3.515625 1.875 3.890625 1.875 C 4.710938 1.875 5.328125 1.65625 5.734375 1.21875 C 6.148438 0.789062 6.359375 0.144531 6.359375 -0.71875 L 6.359375 -1.34375 C 6.097656 -0.894531 5.765625 -0.554688 5.359375 -0.328125 C 4.953125 -0.109375 4.46875 0 3.90625 0 C 2.96875 0 2.207031 -0.351562 1.625 -1.0625 C 1.050781 -1.78125 0.765625 -2.734375 0.765625 -3.921875 C 0.765625 -5.097656 1.050781 -6.046875 1.625 -6.765625 C 2.207031 -7.484375 2.96875 -7.84375 3.90625 -7.84375 C 4.46875 -7.84375 4.953125 -7.726562 5.359375 -7.5 C 5.765625 -7.28125 6.097656 -6.945312 6.359375 -6.5 L 6.359375 -7.65625 L 7.609375 -7.65625 Z M 7.609375 -0.953125 \"/>\n",
       "</symbol>\n",
       "</g>\n",
       "</defs>\n",
       "<g id=\"surface20\">\n",
       "<rect x=\"0\" y=\"0\" width=\"300\" height=\"300\" style=\"fill:rgb(100%,100%,100%);fill-opacity:1;stroke:none;\"/>\n",
       "<path style=\"fill:none;stroke-width:3;stroke-linecap:butt;stroke-linejoin:miter;stroke:rgb(26.666667%,26.666667%,26.666667%);stroke-opacity:1;stroke-miterlimit:10;\" d=\"M 194.136719 110.992188 L 280 69.925781 \"/>\n",
       "<path style=\"fill:none;stroke-width:1;stroke-linecap:butt;stroke-linejoin:miter;stroke:rgb(26.666667%,26.666667%,26.666667%);stroke-opacity:1;stroke-miterlimit:10;\" d=\"M 194.136719 110.992188 L 106.101562 89.890625 \"/>\n",
       "<path style=\"fill:none;stroke-width:3;stroke-linecap:butt;stroke-linejoin:miter;stroke:rgb(26.666667%,26.666667%,26.666667%);stroke-opacity:1;stroke-miterlimit:10;\" d=\"M 106.101562 89.890625 L 20 149.960938 \"/>\n",
       "<path style=\"fill:none;stroke-width:3;stroke-linecap:butt;stroke-linejoin:miter;stroke:rgb(26.666667%,26.666667%,26.666667%);stroke-opacity:1;stroke-miterlimit:10;\" d=\"M 20 149.960938 L 30.238281 20 \"/>\n",
       "<path style=\"fill:none;stroke-width:3;stroke-linecap:butt;stroke-linejoin:miter;stroke:rgb(26.666667%,26.666667%,26.666667%);stroke-opacity:1;stroke-miterlimit:10;\" d=\"M 106.101562 89.890625 L 30.238281 20 \"/>\n",
       "<path style=\"fill:none;stroke-width:1;stroke-linecap:butt;stroke-linejoin:miter;stroke:rgb(26.666667%,26.666667%,26.666667%);stroke-opacity:1;stroke-miterlimit:10;\" d=\"M 106.101562 89.890625 L 144.074219 220.75 \"/>\n",
       "<path style=\"fill:none;stroke-width:3;stroke-linecap:butt;stroke-linejoin:miter;stroke:rgb(26.666667%,26.666667%,26.666667%);stroke-opacity:1;stroke-miterlimit:10;\" d=\"M 194.136719 110.992188 L 144.074219 220.75 \"/>\n",
       "<path style=\"fill:none;stroke-width:1;stroke-linecap:butt;stroke-linejoin:miter;stroke:rgb(26.666667%,26.666667%,26.666667%);stroke-opacity:1;stroke-miterlimit:10;\" d=\"M 20 149.960938 L 58.277344 280 \"/>\n",
       "<path style=\"fill:none;stroke-width:1;stroke-linecap:butt;stroke-linejoin:miter;stroke:rgb(26.666667%,26.666667%,26.666667%);stroke-opacity:1;stroke-miterlimit:10;\" d=\"M 144.074219 220.75 L 58.277344 280 \"/>\n",
       "<path style=\"fill-rule:nonzero;fill:rgb(100%,75.294118%,79.607843%);fill-opacity:1;stroke-width:1;stroke-linecap:butt;stroke-linejoin:miter;stroke:rgb(0%,0%,0%);stroke-opacity:1;stroke-miterlimit:10;\" d=\"M 204.136719 110.992188 C 204.136719 116.511719 199.660156 120.992188 194.136719 120.992188 C 188.613281 120.992188 184.136719 116.511719 184.136719 110.992188 C 184.136719 105.46875 188.613281 100.992188 194.136719 100.992188 C 199.660156 100.992188 204.136719 105.46875 204.136719 110.992188 \"/>\n",
       "<path style=\"fill-rule:nonzero;fill:rgb(0%,0%,100%);fill-opacity:1;stroke-width:1;stroke-linecap:butt;stroke-linejoin:miter;stroke:rgb(0%,0%,0%);stroke-opacity:1;stroke-miterlimit:10;\" d=\"M 290 69.925781 C 290 75.449219 285.523438 79.925781 280 79.925781 C 274.476562 79.925781 270 75.449219 270 69.925781 C 270 64.402344 274.476562 59.925781 280 59.925781 C 285.523438 59.925781 290 64.402344 290 69.925781 \"/>\n",
       "<path style=\"fill-rule:nonzero;fill:rgb(100%,75.294118%,79.607843%);fill-opacity:1;stroke-width:1;stroke-linecap:butt;stroke-linejoin:miter;stroke:rgb(0%,0%,0%);stroke-opacity:1;stroke-miterlimit:10;\" d=\"M 116.101562 89.890625 C 116.101562 95.414062 111.625 99.890625 106.101562 99.890625 C 100.582031 99.890625 96.101562 95.414062 96.101562 89.890625 C 96.101562 84.367188 100.582031 79.890625 106.101562 79.890625 C 111.625 79.890625 116.101562 84.367188 116.101562 89.890625 \"/>\n",
       "<path style=\"fill-rule:nonzero;fill:rgb(0%,0%,100%);fill-opacity:1;stroke-width:1;stroke-linecap:butt;stroke-linejoin:miter;stroke:rgb(0%,0%,0%);stroke-opacity:1;stroke-miterlimit:10;\" d=\"M 30 149.960938 C 30 155.480469 25.523438 159.960938 20 159.960938 C 14.476562 159.960938 10 155.480469 10 149.960938 C 10 144.4375 14.476562 139.960938 20 139.960938 C 25.523438 139.960938 30 144.4375 30 149.960938 \"/>\n",
       "<path style=\"fill-rule:nonzero;fill:rgb(100%,75.294118%,79.607843%);fill-opacity:1;stroke-width:1;stroke-linecap:butt;stroke-linejoin:miter;stroke:rgb(0%,0%,0%);stroke-opacity:1;stroke-miterlimit:10;\" d=\"M 40.238281 20 C 40.238281 25.523438 35.761719 30 30.238281 30 C 24.714844 30 20.238281 25.523438 20.238281 20 C 20.238281 14.476562 24.714844 10 30.238281 10 C 35.761719 10 40.238281 14.476562 40.238281 20 \"/>\n",
       "<path style=\"fill-rule:nonzero;fill:rgb(0%,0%,100%);fill-opacity:1;stroke-width:1;stroke-linecap:butt;stroke-linejoin:miter;stroke:rgb(0%,0%,0%);stroke-opacity:1;stroke-miterlimit:10;\" d=\"M 154.074219 220.75 C 154.074219 226.273438 149.59375 230.75 144.074219 230.75 C 138.550781 230.75 134.074219 226.273438 134.074219 220.75 C 134.074219 215.226562 138.550781 210.75 144.074219 210.75 C 149.59375 210.75 154.074219 215.226562 154.074219 220.75 \"/>\n",
       "<path style=\"fill-rule:nonzero;fill:rgb(0%,0%,100%);fill-opacity:1;stroke-width:1;stroke-linecap:butt;stroke-linejoin:miter;stroke:rgb(0%,0%,0%);stroke-opacity:1;stroke-miterlimit:10;\" d=\"M 68.277344 280 C 68.277344 285.523438 63.800781 290 58.277344 290 C 52.753906 290 48.277344 285.523438 48.277344 280 C 48.277344 274.476562 52.753906 270 58.277344 270 C 63.800781 270 68.277344 274.476562 68.277344 280 \"/>\n",
       "<g style=\"fill:rgb(0%,0%,0%);fill-opacity:1;\">\n",
       "  <use xlink:href=\"#glyph0-1\" x=\"177.621094\" y=\"117.960938\"/>\n",
       "  <use xlink:href=\"#glyph0-2\" x=\"187.198242\" y=\"117.960938\"/>\n",
       "  <use xlink:href=\"#glyph0-3\" x=\"191.087891\" y=\"117.960938\"/>\n",
       "  <use xlink:href=\"#glyph0-4\" x=\"194.977539\" y=\"117.960938\"/>\n",
       "  <use xlink:href=\"#glyph0-5\" x=\"202.674805\" y=\"117.960938\"/>\n",
       "</g>\n",
       "<g style=\"fill:rgb(0%,0%,0%);fill-opacity:1;\">\n",
       "  <use xlink:href=\"#glyph0-6\" x=\"266.167969\" y=\"76.894531\"/>\n",
       "  <use xlink:href=\"#glyph0-7\" x=\"275.772461\" y=\"76.894531\"/>\n",
       "  <use xlink:href=\"#glyph0-8\" x=\"284.337891\" y=\"76.894531\"/>\n",
       "</g>\n",
       "<g style=\"fill:rgb(0%,0%,0%);fill-opacity:1;\">\n",
       "  <use xlink:href=\"#glyph0-9\" x=\"85.832031\" y=\"96.859375\"/>\n",
       "  <use xlink:href=\"#glyph0-2\" x=\"95.607422\" y=\"96.859375\"/>\n",
       "  <use xlink:href=\"#glyph0-10\" x=\"99.49707\" y=\"96.859375\"/>\n",
       "  <use xlink:href=\"#glyph0-3\" x=\"108.076172\" y=\"96.859375\"/>\n",
       "  <use xlink:href=\"#glyph0-11\" x=\"111.96582\" y=\"96.859375\"/>\n",
       "  <use xlink:href=\"#glyph0-5\" x=\"117.72168\" y=\"96.859375\"/>\n",
       "</g>\n",
       "<g style=\"fill:rgb(0%,0%,0%);fill-opacity:1;\">\n",
       "  <use xlink:href=\"#glyph0-12\" x=\"-4.507812\" y=\"156.929688\"/>\n",
       "  <use xlink:href=\"#glyph0-5\" x=\"6.272461\" y=\"156.929688\"/>\n",
       "  <use xlink:href=\"#glyph0-13\" x=\"14.885742\" y=\"156.929688\"/>\n",
       "  <use xlink:href=\"#glyph0-13\" x=\"23.758789\" y=\"156.929688\"/>\n",
       "  <use xlink:href=\"#glyph0-3\" x=\"32.631836\" y=\"156.929688\"/>\n",
       "  <use xlink:href=\"#glyph0-14\" x=\"36.521484\" y=\"156.929688\"/>\n",
       "</g>\n",
       "<g style=\"fill:rgb(0%,0%,0%);fill-opacity:1;\">\n",
       "  <use xlink:href=\"#glyph0-15\" x=\"7.113281\" y=\"26.96875\"/>\n",
       "  <use xlink:href=\"#glyph0-14\" x=\"15.958984\" y=\"26.96875\"/>\n",
       "  <use xlink:href=\"#glyph0-16\" x=\"23.25293\" y=\"26.96875\"/>\n",
       "  <use xlink:href=\"#glyph0-17\" x=\"28.742188\" y=\"26.96875\"/>\n",
       "  <use xlink:href=\"#glyph0-5\" x=\"37.615234\" y=\"26.96875\"/>\n",
       "  <use xlink:href=\"#glyph0-11\" x=\"46.228516\" y=\"26.96875\"/>\n",
       "</g>\n",
       "<g style=\"fill:rgb(0%,0%,0%);fill-opacity:1;\">\n",
       "  <use xlink:href=\"#glyph0-18\" x=\"123.722656\" y=\"227.71875\"/>\n",
       "  <use xlink:href=\"#glyph0-11\" x=\"131.775391\" y=\"227.71875\"/>\n",
       "  <use xlink:href=\"#glyph0-10\" x=\"137.53125\" y=\"227.71875\"/>\n",
       "  <use xlink:href=\"#glyph0-13\" x=\"146.110352\" y=\"227.71875\"/>\n",
       "  <use xlink:href=\"#glyph0-19\" x=\"154.983398\" y=\"227.71875\"/>\n",
       "</g>\n",
       "<g style=\"fill:rgb(0%,0%,0%);fill-opacity:1;\">\n",
       "  <use xlink:href=\"#glyph0-20\" x=\"32.617188\" y=\"286.847656\"/>\n",
       "  <use xlink:href=\"#glyph0-5\" x=\"43.46582\" y=\"286.847656\"/>\n",
       "  <use xlink:href=\"#glyph0-7\" x=\"52.079102\" y=\"286.847656\"/>\n",
       "  <use xlink:href=\"#glyph0-11\" x=\"60.644531\" y=\"286.847656\"/>\n",
       "  <use xlink:href=\"#glyph0-21\" x=\"66.400391\" y=\"286.847656\"/>\n",
       "  <use xlink:href=\"#glyph0-5\" x=\"75.287109\" y=\"286.847656\"/>\n",
       "</g>\n",
       "</g>\n",
       "</svg>\n"
      ],
      "text/plain": [
       "<igraph.drawing.Plot at 0x7fa7fced4978>"
      ]
     },
     "execution_count": 59,
     "metadata": {
      "image/svg+xml": {
       "isolated": true
      }
     },
     "output_type": "execute_result"
    }
   ],
   "source": [
    "visual_style = {}\n",
    "visual_style[\"vertex_size\"] = 20\n",
    "visual_style[\"vertex_color\"] = [color_dict[gender] for gender in g.vs[\"gender\"]]\n",
    "visual_style[\"vertex_label\"] = g.vs[\"name\"]\n",
    "visual_style[\"edge_width\"] = [1 + 2 * int(is_formal) for is_formal in g.es[\"is_formal\"]]\n",
    "visual_style[\"layout\"] = layout\n",
    "visual_style[\"bbox\"] = (300, 300)\n",
    "visual_style[\"margin\"] = 20\n",
    "plot(g, **visual_style)"
   ]
  },
  {
   "cell_type": "markdown",
   "metadata": {},
   "source": [
    "### Saving plots"
   ]
  },
  {
   "cell_type": "code",
   "execution_count": 62,
   "metadata": {},
   "outputs": [
    {
     "data": {
      "image/svg+xml": [
       "<?xml version=\"1.0\" encoding=\"UTF-8\"?>\n",
       "<svg xmlns=\"http://www.w3.org/2000/svg\" xmlns:xlink=\"http://www.w3.org/1999/xlink\" width=\"300pt\" height=\"300pt\" viewBox=\"0 0 300 300\" version=\"1.1\">\n",
       "<defs>\n",
       "<g>\n",
       "<symbol overflow=\"visible\" id=\"glyph0-0\">\n",
       "<path style=\"stroke:none;\" d=\"M 0.703125 2.46875 L 0.703125 -9.875 L 7.703125 -9.875 L 7.703125 2.46875 Z M 1.484375 1.703125 L 6.921875 1.703125 L 6.921875 -9.078125 L 1.484375 -9.078125 Z M 1.484375 1.703125 \"/>\n",
       "</symbol>\n",
       "<symbol overflow=\"visible\" id=\"glyph0-1\">\n",
       "<path style=\"stroke:none;\" d=\"M 4.78125 -8.84375 L 2.90625 -3.765625 L 6.671875 -3.765625 Z M 4 -10.203125 L 5.578125 -10.203125 L 9.46875 0 L 8.03125 0 L 7.09375 -2.625 L 2.5 -2.625 L 1.5625 0 L 0.109375 0 Z M 4 -10.203125 \"/>\n",
       "</symbol>\n",
       "<symbol overflow=\"visible\" id=\"glyph0-2\">\n",
       "<path style=\"stroke:none;\" d=\"M 1.3125 -10.640625 L 2.578125 -10.640625 L 2.578125 0 L 1.3125 0 Z M 1.3125 -10.640625 \"/>\n",
       "</symbol>\n",
       "<symbol overflow=\"visible\" id=\"glyph0-3\">\n",
       "<path style=\"stroke:none;\" d=\"M 1.3125 -7.65625 L 2.578125 -7.65625 L 2.578125 0 L 1.3125 0 Z M 1.3125 -10.640625 L 2.578125 -10.640625 L 2.578125 -9.046875 L 1.3125 -9.046875 Z M 1.3125 -10.640625 \"/>\n",
       "</symbol>\n",
       "<symbol overflow=\"visible\" id=\"glyph0-4\">\n",
       "<path style=\"stroke:none;\" d=\"M 6.828125 -7.359375 L 6.828125 -6.1875 C 6.472656 -6.382812 6.113281 -6.53125 5.75 -6.625 C 5.394531 -6.726562 5.035156 -6.78125 4.671875 -6.78125 C 3.859375 -6.78125 3.222656 -6.519531 2.765625 -6 C 2.316406 -5.476562 2.09375 -4.753906 2.09375 -3.828125 C 2.09375 -2.890625 2.316406 -2.160156 2.765625 -1.640625 C 3.222656 -1.128906 3.859375 -0.875 4.671875 -0.875 C 5.035156 -0.875 5.394531 -0.921875 5.75 -1.015625 C 6.113281 -1.109375 6.472656 -1.253906 6.828125 -1.453125 L 6.828125 -0.296875 C 6.472656 -0.128906 6.109375 -0.00390625 5.734375 0.078125 C 5.359375 0.160156 4.960938 0.203125 4.546875 0.203125 C 3.390625 0.203125 2.46875 -0.15625 1.78125 -0.875 C 1.101562 -1.601562 0.765625 -2.585938 0.765625 -3.828125 C 0.765625 -5.066406 1.109375 -6.046875 1.796875 -6.765625 C 2.484375 -7.484375 3.425781 -7.84375 4.625 -7.84375 C 5.007812 -7.84375 5.382812 -7.800781 5.75 -7.71875 C 6.125 -7.644531 6.484375 -7.523438 6.828125 -7.359375 Z M 6.828125 -7.359375 \"/>\n",
       "</symbol>\n",
       "<symbol overflow=\"visible\" id=\"glyph0-5\">\n",
       "<path style=\"stroke:none;\" d=\"M 7.875 -4.140625 L 7.875 -3.53125 L 2.078125 -3.53125 C 2.140625 -2.664062 2.398438 -2.003906 2.859375 -1.546875 C 3.328125 -1.097656 3.976562 -0.875 4.8125 -0.875 C 5.300781 -0.875 5.769531 -0.929688 6.21875 -1.046875 C 6.675781 -1.160156 7.128906 -1.335938 7.578125 -1.578125 L 7.578125 -0.390625 C 7.117188 -0.203125 6.648438 -0.0546875 6.171875 0.046875 C 5.703125 0.148438 5.226562 0.203125 4.75 0.203125 C 3.519531 0.203125 2.546875 -0.148438 1.828125 -0.859375 C 1.117188 -1.578125 0.765625 -2.539062 0.765625 -3.75 C 0.765625 -5.007812 1.101562 -6.003906 1.78125 -6.734375 C 2.457031 -7.472656 3.375 -7.84375 4.53125 -7.84375 C 5.5625 -7.84375 6.375 -7.507812 6.96875 -6.84375 C 7.570312 -6.1875 7.875 -5.285156 7.875 -4.140625 Z M 6.609375 -4.515625 C 6.597656 -5.203125 6.40625 -5.75 6.03125 -6.15625 C 5.65625 -6.570312 5.160156 -6.78125 4.546875 -6.78125 C 3.835938 -6.78125 3.269531 -6.578125 2.84375 -6.171875 C 2.425781 -5.773438 2.1875 -5.21875 2.125 -4.5 Z M 6.609375 -4.515625 \"/>\n",
       "</symbol>\n",
       "<symbol overflow=\"visible\" id=\"glyph0-6\">\n",
       "<path style=\"stroke:none;\" d=\"M 2.75 -4.875 L 2.75 -1.140625 L 4.96875 -1.140625 C 5.707031 -1.140625 6.253906 -1.289062 6.609375 -1.59375 C 6.972656 -1.90625 7.15625 -2.378906 7.15625 -3.015625 C 7.15625 -3.648438 6.972656 -4.117188 6.609375 -4.421875 C 6.253906 -4.722656 5.707031 -4.875 4.96875 -4.875 Z M 2.75 -9.078125 L 2.75 -6 L 4.796875 -6 C 5.472656 -6 5.972656 -6.125 6.296875 -6.375 C 6.628906 -6.625 6.796875 -7.007812 6.796875 -7.53125 C 6.796875 -8.050781 6.628906 -8.4375 6.296875 -8.6875 C 5.972656 -8.945312 5.472656 -9.078125 4.796875 -9.078125 Z M 1.375 -10.203125 L 4.90625 -10.203125 C 5.957031 -10.203125 6.765625 -9.984375 7.328125 -9.546875 C 7.898438 -9.109375 8.1875 -8.488281 8.1875 -7.6875 C 8.1875 -7.0625 8.039062 -6.5625 7.75 -6.1875 C 7.457031 -5.820312 7.03125 -5.59375 6.46875 -5.5 C 7.144531 -5.351562 7.671875 -5.046875 8.046875 -4.578125 C 8.421875 -4.117188 8.609375 -3.546875 8.609375 -2.859375 C 8.609375 -1.941406 8.296875 -1.234375 7.671875 -0.734375 C 7.054688 -0.242188 6.175781 0 5.03125 0 L 1.375 0 Z M 1.375 -10.203125 \"/>\n",
       "</symbol>\n",
       "<symbol overflow=\"visible\" id=\"glyph0-7\">\n",
       "<path style=\"stroke:none;\" d=\"M 4.28125 -6.78125 C 3.613281 -6.78125 3.082031 -6.515625 2.6875 -5.984375 C 2.289062 -5.460938 2.09375 -4.742188 2.09375 -3.828125 C 2.09375 -2.910156 2.285156 -2.1875 2.671875 -1.65625 C 3.066406 -1.132812 3.601562 -0.875 4.28125 -0.875 C 4.957031 -0.875 5.488281 -1.132812 5.875 -1.65625 C 6.269531 -2.1875 6.46875 -2.910156 6.46875 -3.828125 C 6.46875 -4.734375 6.269531 -5.453125 5.875 -5.984375 C 5.488281 -6.515625 4.957031 -6.78125 4.28125 -6.78125 Z M 4.28125 -7.84375 C 5.375 -7.84375 6.234375 -7.484375 6.859375 -6.765625 C 7.484375 -6.054688 7.796875 -5.078125 7.796875 -3.828125 C 7.796875 -2.566406 7.484375 -1.578125 6.859375 -0.859375 C 6.234375 -0.148438 5.375 0.203125 4.28125 0.203125 C 3.1875 0.203125 2.328125 -0.148438 1.703125 -0.859375 C 1.078125 -1.578125 0.765625 -2.566406 0.765625 -3.828125 C 0.765625 -5.078125 1.078125 -6.054688 1.703125 -6.765625 C 2.328125 -7.484375 3.1875 -7.84375 4.28125 -7.84375 Z M 4.28125 -7.84375 \"/>\n",
       "</symbol>\n",
       "<symbol overflow=\"visible\" id=\"glyph0-8\">\n",
       "<path style=\"stroke:none;\" d=\"M 6.8125 -3.828125 C 6.8125 -4.742188 6.617188 -5.460938 6.234375 -5.984375 C 5.859375 -6.515625 5.335938 -6.78125 4.671875 -6.78125 C 4.003906 -6.78125 3.476562 -6.515625 3.09375 -5.984375 C 2.71875 -5.460938 2.53125 -4.742188 2.53125 -3.828125 C 2.53125 -2.898438 2.71875 -2.171875 3.09375 -1.640625 C 3.476562 -1.117188 4.003906 -0.859375 4.671875 -0.859375 C 5.335938 -0.859375 5.859375 -1.117188 6.234375 -1.640625 C 6.617188 -2.171875 6.8125 -2.898438 6.8125 -3.828125 Z M 2.53125 -6.5 C 2.800781 -6.945312 3.132812 -7.28125 3.53125 -7.5 C 3.9375 -7.726562 4.421875 -7.84375 4.984375 -7.84375 C 5.910156 -7.84375 6.664062 -7.472656 7.25 -6.734375 C 7.832031 -5.992188 8.125 -5.023438 8.125 -3.828125 C 8.125 -2.617188 7.832031 -1.644531 7.25 -0.90625 C 6.664062 -0.164062 5.910156 0.203125 4.984375 0.203125 C 4.421875 0.203125 3.9375 0.09375 3.53125 -0.125 C 3.132812 -0.351562 2.800781 -0.695312 2.53125 -1.15625 L 2.53125 0 L 1.265625 0 L 1.265625 -10.640625 L 2.53125 -10.640625 Z M 2.53125 -6.5 \"/>\n",
       "</symbol>\n",
       "<symbol overflow=\"visible\" id=\"glyph0-9\">\n",
       "<path style=\"stroke:none;\" d=\"M 9.015625 -9.421875 L 9.015625 -7.96875 C 8.546875 -8.394531 8.046875 -8.710938 7.515625 -8.921875 C 6.992188 -9.140625 6.441406 -9.25 5.859375 -9.25 C 4.691406 -9.25 3.796875 -8.890625 3.171875 -8.171875 C 2.554688 -7.460938 2.25 -6.4375 2.25 -5.09375 C 2.25 -3.75 2.554688 -2.71875 3.171875 -2 C 3.796875 -1.289062 4.691406 -0.9375 5.859375 -0.9375 C 6.441406 -0.9375 6.992188 -1.039062 7.515625 -1.25 C 8.046875 -1.46875 8.546875 -1.796875 9.015625 -2.234375 L 9.015625 -0.78125 C 8.535156 -0.457031 8.023438 -0.210938 7.484375 -0.046875 C 6.941406 0.117188 6.367188 0.203125 5.765625 0.203125 C 4.222656 0.203125 3.003906 -0.269531 2.109375 -1.21875 C 1.222656 -2.164062 0.78125 -3.457031 0.78125 -5.09375 C 0.78125 -6.726562 1.222656 -8.019531 2.109375 -8.96875 C 3.003906 -9.914062 4.222656 -10.390625 5.765625 -10.390625 C 6.378906 -10.390625 6.957031 -10.304688 7.5 -10.140625 C 8.039062 -9.984375 8.546875 -9.742188 9.015625 -9.421875 Z M 9.015625 -9.421875 \"/>\n",
       "</symbol>\n",
       "<symbol overflow=\"visible\" id=\"glyph0-10\">\n",
       "<path style=\"stroke:none;\" d=\"M 4.796875 -3.84375 C 3.785156 -3.84375 3.082031 -3.726562 2.6875 -3.5 C 2.289062 -3.269531 2.09375 -2.875 2.09375 -2.3125 C 2.09375 -1.863281 2.238281 -1.507812 2.53125 -1.25 C 2.832031 -0.988281 3.234375 -0.859375 3.734375 -0.859375 C 4.429688 -0.859375 4.988281 -1.101562 5.40625 -1.59375 C 5.832031 -2.09375 6.046875 -2.75 6.046875 -3.5625 L 6.046875 -3.84375 Z M 7.3125 -4.375 L 7.3125 0 L 6.046875 0 L 6.046875 -1.15625 C 5.765625 -0.695312 5.40625 -0.351562 4.96875 -0.125 C 4.539062 0.09375 4.019531 0.203125 3.40625 0.203125 C 2.625 0.203125 2 -0.015625 1.53125 -0.453125 C 1.070312 -0.898438 0.84375 -1.492188 0.84375 -2.234375 C 0.84375 -3.085938 1.128906 -3.734375 1.703125 -4.171875 C 2.285156 -4.609375 3.144531 -4.828125 4.28125 -4.828125 L 6.046875 -4.828125 L 6.046875 -4.953125 C 6.046875 -5.535156 5.851562 -5.984375 5.46875 -6.296875 C 5.09375 -6.617188 4.5625 -6.78125 3.875 -6.78125 C 3.4375 -6.78125 3.007812 -6.722656 2.59375 -6.609375 C 2.175781 -6.503906 1.78125 -6.347656 1.40625 -6.140625 L 1.40625 -7.3125 C 1.863281 -7.488281 2.304688 -7.617188 2.734375 -7.703125 C 3.171875 -7.796875 3.59375 -7.84375 4 -7.84375 C 5.113281 -7.84375 5.941406 -7.554688 6.484375 -6.984375 C 7.035156 -6.410156 7.3125 -5.539062 7.3125 -4.375 Z M 7.3125 -4.375 \"/>\n",
       "</symbol>\n",
       "<symbol overflow=\"visible\" id=\"glyph0-11\">\n",
       "<path style=\"stroke:none;\" d=\"M 5.75 -6.484375 C 5.613281 -6.566406 5.460938 -6.625 5.296875 -6.65625 C 5.128906 -6.695312 4.945312 -6.71875 4.75 -6.71875 C 4.03125 -6.71875 3.476562 -6.484375 3.09375 -6.015625 C 2.71875 -5.554688 2.53125 -4.894531 2.53125 -4.03125 L 2.53125 0 L 1.265625 0 L 1.265625 -7.65625 L 2.53125 -7.65625 L 2.53125 -6.46875 C 2.800781 -6.9375 3.144531 -7.28125 3.5625 -7.5 C 3.988281 -7.726562 4.503906 -7.84375 5.109375 -7.84375 C 5.203125 -7.84375 5.300781 -7.835938 5.40625 -7.828125 C 5.507812 -7.816406 5.625 -7.796875 5.75 -7.765625 Z M 5.75 -6.484375 \"/>\n",
       "</symbol>\n",
       "<symbol overflow=\"visible\" id=\"glyph0-12\">\n",
       "<path style=\"stroke:none;\" d=\"M 2.75 -9.078125 L 2.75 -1.140625 L 4.421875 -1.140625 C 5.828125 -1.140625 6.859375 -1.457031 7.515625 -2.09375 C 8.171875 -2.726562 8.5 -3.734375 8.5 -5.109375 C 8.5 -6.484375 8.171875 -7.488281 7.515625 -8.125 C 6.859375 -8.757812 5.828125 -9.078125 4.421875 -9.078125 Z M 1.375 -10.203125 L 4.21875 -10.203125 C 6.1875 -10.203125 7.632812 -9.789062 8.5625 -8.96875 C 9.488281 -8.144531 9.953125 -6.859375 9.953125 -5.109375 C 9.953125 -3.347656 9.488281 -2.054688 8.5625 -1.234375 C 7.632812 -0.410156 6.1875 0 4.21875 0 L 1.375 0 Z M 1.375 -10.203125 \"/>\n",
       "</symbol>\n",
       "<symbol overflow=\"visible\" id=\"glyph0-13\">\n",
       "<path style=\"stroke:none;\" d=\"M 7.6875 -4.625 L 7.6875 0 L 6.421875 0 L 6.421875 -4.578125 C 6.421875 -5.304688 6.28125 -5.847656 6 -6.203125 C 5.71875 -6.566406 5.296875 -6.75 4.734375 -6.75 C 4.054688 -6.75 3.519531 -6.53125 3.125 -6.09375 C 2.726562 -5.664062 2.53125 -5.078125 2.53125 -4.328125 L 2.53125 0 L 1.265625 0 L 1.265625 -7.65625 L 2.53125 -7.65625 L 2.53125 -6.46875 C 2.832031 -6.925781 3.1875 -7.269531 3.59375 -7.5 C 4.007812 -7.726562 4.484375 -7.84375 5.015625 -7.84375 C 5.890625 -7.84375 6.550781 -7.566406 7 -7.015625 C 7.457031 -6.472656 7.6875 -5.675781 7.6875 -4.625 Z M 7.6875 -4.625 \"/>\n",
       "</symbol>\n",
       "<symbol overflow=\"visible\" id=\"glyph0-14\">\n",
       "<path style=\"stroke:none;\" d=\"M 6.203125 -7.4375 L 6.203125 -6.234375 C 5.847656 -6.421875 5.476562 -6.554688 5.09375 -6.640625 C 4.707031 -6.734375 4.3125 -6.78125 3.90625 -6.78125 C 3.28125 -6.78125 2.8125 -6.6875 2.5 -6.5 C 2.1875 -6.3125 2.03125 -6.023438 2.03125 -5.640625 C 2.03125 -5.347656 2.140625 -5.117188 2.359375 -4.953125 C 2.585938 -4.785156 3.039062 -4.628906 3.71875 -4.484375 L 4.140625 -4.375 C 5.035156 -4.1875 5.671875 -3.914062 6.046875 -3.5625 C 6.421875 -3.21875 6.609375 -2.734375 6.609375 -2.109375 C 6.609375 -1.398438 6.328125 -0.835938 5.765625 -0.421875 C 5.203125 -0.00390625 4.429688 0.203125 3.453125 0.203125 C 3.035156 0.203125 2.601562 0.160156 2.15625 0.078125 C 1.71875 -0.00390625 1.253906 -0.125 0.765625 -0.28125 L 0.765625 -1.578125 C 1.222656 -1.335938 1.675781 -1.15625 2.125 -1.03125 C 2.582031 -0.914062 3.03125 -0.859375 3.46875 -0.859375 C 4.0625 -0.859375 4.515625 -0.957031 4.828125 -1.15625 C 5.148438 -1.363281 5.3125 -1.648438 5.3125 -2.015625 C 5.3125 -2.359375 5.195312 -2.617188 4.96875 -2.796875 C 4.738281 -2.984375 4.234375 -3.160156 3.453125 -3.328125 L 3.015625 -3.4375 C 2.242188 -3.59375 1.679688 -3.84375 1.328125 -4.1875 C 0.984375 -4.53125 0.8125 -4.992188 0.8125 -5.578125 C 0.8125 -6.304688 1.066406 -6.863281 1.578125 -7.25 C 2.085938 -7.644531 2.8125 -7.84375 3.75 -7.84375 C 4.21875 -7.84375 4.65625 -7.804688 5.0625 -7.734375 C 5.476562 -7.671875 5.859375 -7.570312 6.203125 -7.4375 Z M 6.203125 -7.4375 \"/>\n",
       "</symbol>\n",
       "<symbol overflow=\"visible\" id=\"glyph0-15\">\n",
       "<path style=\"stroke:none;\" d=\"M 1.375 -10.203125 L 7.828125 -10.203125 L 7.828125 -9.046875 L 2.75 -9.046875 L 2.75 -6.015625 L 7.609375 -6.015625 L 7.609375 -4.859375 L 2.75 -4.859375 L 2.75 -1.15625 L 7.953125 -1.15625 L 7.953125 0 L 1.375 0 Z M 1.375 -10.203125 \"/>\n",
       "</symbol>\n",
       "<symbol overflow=\"visible\" id=\"glyph0-16\">\n",
       "<path style=\"stroke:none;\" d=\"M 2.5625 -9.828125 L 2.5625 -7.65625 L 5.15625 -7.65625 L 5.15625 -6.671875 L 2.5625 -6.671875 L 2.5625 -2.515625 C 2.5625 -1.898438 2.644531 -1.5 2.8125 -1.3125 C 2.988281 -1.132812 3.335938 -1.046875 3.859375 -1.046875 L 5.15625 -1.046875 L 5.15625 0 L 3.859375 0 C 2.890625 0 2.21875 -0.179688 1.84375 -0.546875 C 1.476562 -0.910156 1.296875 -1.566406 1.296875 -2.515625 L 1.296875 -6.671875 L 0.375 -6.671875 L 0.375 -7.65625 L 1.296875 -7.65625 L 1.296875 -9.828125 Z M 2.5625 -9.828125 \"/>\n",
       "</symbol>\n",
       "<symbol overflow=\"visible\" id=\"glyph0-17\">\n",
       "<path style=\"stroke:none;\" d=\"M 7.6875 -4.625 L 7.6875 0 L 6.421875 0 L 6.421875 -4.578125 C 6.421875 -5.304688 6.28125 -5.847656 6 -6.203125 C 5.71875 -6.566406 5.296875 -6.75 4.734375 -6.75 C 4.054688 -6.75 3.519531 -6.53125 3.125 -6.09375 C 2.726562 -5.664062 2.53125 -5.078125 2.53125 -4.328125 L 2.53125 0 L 1.265625 0 L 1.265625 -10.640625 L 2.53125 -10.640625 L 2.53125 -6.46875 C 2.832031 -6.925781 3.1875 -7.269531 3.59375 -7.5 C 4.007812 -7.726562 4.484375 -7.84375 5.015625 -7.84375 C 5.890625 -7.84375 6.550781 -7.566406 7 -7.015625 C 7.457031 -6.472656 7.6875 -5.675781 7.6875 -4.625 Z M 7.6875 -4.625 \"/>\n",
       "</symbol>\n",
       "<symbol overflow=\"visible\" id=\"glyph0-18\">\n",
       "<path style=\"stroke:none;\" d=\"M 1.375 -10.203125 L 7.234375 -10.203125 L 7.234375 -9.046875 L 2.75 -9.046875 L 2.75 -6.03125 L 6.796875 -6.03125 L 6.796875 -4.875 L 2.75 -4.875 L 2.75 0 L 1.375 0 Z M 1.375 -10.203125 \"/>\n",
       "</symbol>\n",
       "<symbol overflow=\"visible\" id=\"glyph0-19\">\n",
       "<path style=\"stroke:none;\" d=\"M 1.265625 -10.640625 L 2.53125 -10.640625 L 2.53125 -4.359375 L 6.296875 -7.65625 L 7.890625 -7.65625 L 3.828125 -4.078125 L 8.0625 0 L 6.421875 0 L 2.53125 -3.734375 L 2.53125 0 L 1.265625 0 Z M 1.265625 -10.640625 \"/>\n",
       "</symbol>\n",
       "<symbol overflow=\"visible\" id=\"glyph0-20\">\n",
       "<path style=\"stroke:none;\" d=\"M 8.328125 -1.453125 L 8.328125 -4.203125 L 6.078125 -4.203125 L 6.078125 -5.328125 L 9.703125 -5.328125 L 9.703125 -0.953125 C 9.171875 -0.578125 8.582031 -0.289062 7.9375 -0.09375 C 7.289062 0.101562 6.601562 0.203125 5.875 0.203125 C 4.28125 0.203125 3.03125 -0.257812 2.125 -1.1875 C 1.226562 -2.125 0.78125 -3.425781 0.78125 -5.09375 C 0.78125 -6.757812 1.226562 -8.054688 2.125 -8.984375 C 3.03125 -9.921875 4.28125 -10.390625 5.875 -10.390625 C 6.539062 -10.390625 7.171875 -10.304688 7.765625 -10.140625 C 8.367188 -9.984375 8.925781 -9.742188 9.4375 -9.421875 L 9.4375 -7.953125 C 8.925781 -8.378906 8.382812 -8.703125 7.8125 -8.921875 C 7.238281 -9.140625 6.632812 -9.25 6 -9.25 C 4.75 -9.25 3.8125 -8.898438 3.1875 -8.203125 C 2.5625 -7.515625 2.25 -6.476562 2.25 -5.09375 C 2.25 -3.71875 2.5625 -2.679688 3.1875 -1.984375 C 3.8125 -1.285156 4.75 -0.9375 6 -0.9375 C 6.488281 -0.9375 6.921875 -0.976562 7.296875 -1.0625 C 7.679688 -1.144531 8.023438 -1.273438 8.328125 -1.453125 Z M 8.328125 -1.453125 \"/>\n",
       "</symbol>\n",
       "<symbol overflow=\"visible\" id=\"glyph0-21\">\n",
       "<path style=\"stroke:none;\" d=\"M 6.359375 -3.921875 C 6.359375 -4.828125 6.171875 -5.53125 5.796875 -6.03125 C 5.421875 -6.53125 4.894531 -6.78125 4.21875 -6.78125 C 3.539062 -6.78125 3.015625 -6.53125 2.640625 -6.03125 C 2.265625 -5.53125 2.078125 -4.828125 2.078125 -3.921875 C 2.078125 -3.015625 2.265625 -2.304688 2.640625 -1.796875 C 3.015625 -1.296875 3.539062 -1.046875 4.21875 -1.046875 C 4.894531 -1.046875 5.421875 -1.296875 5.796875 -1.796875 C 6.171875 -2.304688 6.359375 -3.015625 6.359375 -3.921875 Z M 7.609375 -0.953125 C 7.609375 0.347656 7.316406 1.316406 6.734375 1.953125 C 6.160156 2.585938 5.28125 2.90625 4.09375 2.90625 C 3.644531 2.90625 3.222656 2.875 2.828125 2.8125 C 2.441406 2.75 2.066406 2.648438 1.703125 2.515625 L 1.703125 1.28125 C 2.066406 1.488281 2.425781 1.640625 2.78125 1.734375 C 3.144531 1.828125 3.515625 1.875 3.890625 1.875 C 4.710938 1.875 5.328125 1.65625 5.734375 1.21875 C 6.148438 0.789062 6.359375 0.144531 6.359375 -0.71875 L 6.359375 -1.34375 C 6.097656 -0.894531 5.765625 -0.554688 5.359375 -0.328125 C 4.953125 -0.109375 4.46875 0 3.90625 0 C 2.96875 0 2.207031 -0.351562 1.625 -1.0625 C 1.050781 -1.78125 0.765625 -2.734375 0.765625 -3.921875 C 0.765625 -5.097656 1.050781 -6.046875 1.625 -6.765625 C 2.207031 -7.484375 2.96875 -7.84375 3.90625 -7.84375 C 4.46875 -7.84375 4.953125 -7.726562 5.359375 -7.5 C 5.765625 -7.28125 6.097656 -6.945312 6.359375 -6.5 L 6.359375 -7.65625 L 7.609375 -7.65625 Z M 7.609375 -0.953125 \"/>\n",
       "</symbol>\n",
       "</g>\n",
       "</defs>\n",
       "<g id=\"surface64\">\n",
       "<rect x=\"0\" y=\"0\" width=\"300\" height=\"300\" style=\"fill:rgb(100%,100%,100%);fill-opacity:1;stroke:none;\"/>\n",
       "<path style=\"fill:none;stroke-width:3;stroke-linecap:butt;stroke-linejoin:miter;stroke:rgb(26.666667%,26.666667%,26.666667%);stroke-opacity:1;stroke-miterlimit:10;\" d=\"M 194.136719 110.992188 L 280 69.925781 \"/>\n",
       "<path style=\"fill:none;stroke-width:1;stroke-linecap:butt;stroke-linejoin:miter;stroke:rgb(26.666667%,26.666667%,26.666667%);stroke-opacity:1;stroke-miterlimit:10;\" d=\"M 194.136719 110.992188 L 106.101562 89.890625 \"/>\n",
       "<path style=\"fill:none;stroke-width:3;stroke-linecap:butt;stroke-linejoin:miter;stroke:rgb(26.666667%,26.666667%,26.666667%);stroke-opacity:1;stroke-miterlimit:10;\" d=\"M 106.101562 89.890625 L 20 149.960938 \"/>\n",
       "<path style=\"fill:none;stroke-width:3;stroke-linecap:butt;stroke-linejoin:miter;stroke:rgb(26.666667%,26.666667%,26.666667%);stroke-opacity:1;stroke-miterlimit:10;\" d=\"M 20 149.960938 L 30.238281 20 \"/>\n",
       "<path style=\"fill:none;stroke-width:3;stroke-linecap:butt;stroke-linejoin:miter;stroke:rgb(26.666667%,26.666667%,26.666667%);stroke-opacity:1;stroke-miterlimit:10;\" d=\"M 106.101562 89.890625 L 30.238281 20 \"/>\n",
       "<path style=\"fill:none;stroke-width:1;stroke-linecap:butt;stroke-linejoin:miter;stroke:rgb(26.666667%,26.666667%,26.666667%);stroke-opacity:1;stroke-miterlimit:10;\" d=\"M 106.101562 89.890625 L 144.074219 220.75 \"/>\n",
       "<path style=\"fill:none;stroke-width:3;stroke-linecap:butt;stroke-linejoin:miter;stroke:rgb(26.666667%,26.666667%,26.666667%);stroke-opacity:1;stroke-miterlimit:10;\" d=\"M 194.136719 110.992188 L 144.074219 220.75 \"/>\n",
       "<path style=\"fill:none;stroke-width:1;stroke-linecap:butt;stroke-linejoin:miter;stroke:rgb(26.666667%,26.666667%,26.666667%);stroke-opacity:1;stroke-miterlimit:10;\" d=\"M 20 149.960938 L 58.277344 280 \"/>\n",
       "<path style=\"fill:none;stroke-width:1;stroke-linecap:butt;stroke-linejoin:miter;stroke:rgb(26.666667%,26.666667%,26.666667%);stroke-opacity:1;stroke-miterlimit:10;\" d=\"M 144.074219 220.75 L 58.277344 280 \"/>\n",
       "<path style=\"fill-rule:nonzero;fill:rgb(100%,75.294118%,79.607843%);fill-opacity:1;stroke-width:1;stroke-linecap:butt;stroke-linejoin:miter;stroke:rgb(0%,0%,0%);stroke-opacity:1;stroke-miterlimit:10;\" d=\"M 204.136719 110.992188 C 204.136719 116.511719 199.660156 120.992188 194.136719 120.992188 C 188.613281 120.992188 184.136719 116.511719 184.136719 110.992188 C 184.136719 105.46875 188.613281 100.992188 194.136719 100.992188 C 199.660156 100.992188 204.136719 105.46875 204.136719 110.992188 \"/>\n",
       "<path style=\"fill-rule:nonzero;fill:rgb(0%,0%,100%);fill-opacity:1;stroke-width:1;stroke-linecap:butt;stroke-linejoin:miter;stroke:rgb(0%,0%,0%);stroke-opacity:1;stroke-miterlimit:10;\" d=\"M 290 69.925781 C 290 75.449219 285.523438 79.925781 280 79.925781 C 274.476562 79.925781 270 75.449219 270 69.925781 C 270 64.402344 274.476562 59.925781 280 59.925781 C 285.523438 59.925781 290 64.402344 290 69.925781 \"/>\n",
       "<path style=\"fill-rule:nonzero;fill:rgb(100%,75.294118%,79.607843%);fill-opacity:1;stroke-width:1;stroke-linecap:butt;stroke-linejoin:miter;stroke:rgb(0%,0%,0%);stroke-opacity:1;stroke-miterlimit:10;\" d=\"M 116.101562 89.890625 C 116.101562 95.414062 111.625 99.890625 106.101562 99.890625 C 100.582031 99.890625 96.101562 95.414062 96.101562 89.890625 C 96.101562 84.367188 100.582031 79.890625 106.101562 79.890625 C 111.625 79.890625 116.101562 84.367188 116.101562 89.890625 \"/>\n",
       "<path style=\"fill-rule:nonzero;fill:rgb(0%,0%,100%);fill-opacity:1;stroke-width:1;stroke-linecap:butt;stroke-linejoin:miter;stroke:rgb(0%,0%,0%);stroke-opacity:1;stroke-miterlimit:10;\" d=\"M 30 149.960938 C 30 155.480469 25.523438 159.960938 20 159.960938 C 14.476562 159.960938 10 155.480469 10 149.960938 C 10 144.4375 14.476562 139.960938 20 139.960938 C 25.523438 139.960938 30 144.4375 30 149.960938 \"/>\n",
       "<path style=\"fill-rule:nonzero;fill:rgb(100%,75.294118%,79.607843%);fill-opacity:1;stroke-width:1;stroke-linecap:butt;stroke-linejoin:miter;stroke:rgb(0%,0%,0%);stroke-opacity:1;stroke-miterlimit:10;\" d=\"M 40.238281 20 C 40.238281 25.523438 35.761719 30 30.238281 30 C 24.714844 30 20.238281 25.523438 20.238281 20 C 20.238281 14.476562 24.714844 10 30.238281 10 C 35.761719 10 40.238281 14.476562 40.238281 20 \"/>\n",
       "<path style=\"fill-rule:nonzero;fill:rgb(0%,0%,100%);fill-opacity:1;stroke-width:1;stroke-linecap:butt;stroke-linejoin:miter;stroke:rgb(0%,0%,0%);stroke-opacity:1;stroke-miterlimit:10;\" d=\"M 154.074219 220.75 C 154.074219 226.273438 149.59375 230.75 144.074219 230.75 C 138.550781 230.75 134.074219 226.273438 134.074219 220.75 C 134.074219 215.226562 138.550781 210.75 144.074219 210.75 C 149.59375 210.75 154.074219 215.226562 154.074219 220.75 \"/>\n",
       "<path style=\"fill-rule:nonzero;fill:rgb(0%,0%,100%);fill-opacity:1;stroke-width:1;stroke-linecap:butt;stroke-linejoin:miter;stroke:rgb(0%,0%,0%);stroke-opacity:1;stroke-miterlimit:10;\" d=\"M 68.277344 280 C 68.277344 285.523438 63.800781 290 58.277344 290 C 52.753906 290 48.277344 285.523438 48.277344 280 C 48.277344 274.476562 52.753906 270 58.277344 270 C 63.800781 270 68.277344 274.476562 68.277344 280 \"/>\n",
       "<g style=\"fill:rgb(0%,0%,0%);fill-opacity:1;\">\n",
       "  <use xlink:href=\"#glyph0-1\" x=\"177.621094\" y=\"117.960938\"/>\n",
       "  <use xlink:href=\"#glyph0-2\" x=\"187.198242\" y=\"117.960938\"/>\n",
       "  <use xlink:href=\"#glyph0-3\" x=\"191.087891\" y=\"117.960938\"/>\n",
       "  <use xlink:href=\"#glyph0-4\" x=\"194.977539\" y=\"117.960938\"/>\n",
       "  <use xlink:href=\"#glyph0-5\" x=\"202.674805\" y=\"117.960938\"/>\n",
       "</g>\n",
       "<g style=\"fill:rgb(0%,0%,0%);fill-opacity:1;\">\n",
       "  <use xlink:href=\"#glyph0-6\" x=\"266.167969\" y=\"76.894531\"/>\n",
       "  <use xlink:href=\"#glyph0-7\" x=\"275.772461\" y=\"76.894531\"/>\n",
       "  <use xlink:href=\"#glyph0-8\" x=\"284.337891\" y=\"76.894531\"/>\n",
       "</g>\n",
       "<g style=\"fill:rgb(0%,0%,0%);fill-opacity:1;\">\n",
       "  <use xlink:href=\"#glyph0-9\" x=\"85.832031\" y=\"96.859375\"/>\n",
       "  <use xlink:href=\"#glyph0-2\" x=\"95.607422\" y=\"96.859375\"/>\n",
       "  <use xlink:href=\"#glyph0-10\" x=\"99.49707\" y=\"96.859375\"/>\n",
       "  <use xlink:href=\"#glyph0-3\" x=\"108.076172\" y=\"96.859375\"/>\n",
       "  <use xlink:href=\"#glyph0-11\" x=\"111.96582\" y=\"96.859375\"/>\n",
       "  <use xlink:href=\"#glyph0-5\" x=\"117.72168\" y=\"96.859375\"/>\n",
       "</g>\n",
       "<g style=\"fill:rgb(0%,0%,0%);fill-opacity:1;\">\n",
       "  <use xlink:href=\"#glyph0-12\" x=\"-4.507812\" y=\"156.929688\"/>\n",
       "  <use xlink:href=\"#glyph0-5\" x=\"6.272461\" y=\"156.929688\"/>\n",
       "  <use xlink:href=\"#glyph0-13\" x=\"14.885742\" y=\"156.929688\"/>\n",
       "  <use xlink:href=\"#glyph0-13\" x=\"23.758789\" y=\"156.929688\"/>\n",
       "  <use xlink:href=\"#glyph0-3\" x=\"32.631836\" y=\"156.929688\"/>\n",
       "  <use xlink:href=\"#glyph0-14\" x=\"36.521484\" y=\"156.929688\"/>\n",
       "</g>\n",
       "<g style=\"fill:rgb(0%,0%,0%);fill-opacity:1;\">\n",
       "  <use xlink:href=\"#glyph0-15\" x=\"7.113281\" y=\"26.96875\"/>\n",
       "  <use xlink:href=\"#glyph0-14\" x=\"15.958984\" y=\"26.96875\"/>\n",
       "  <use xlink:href=\"#glyph0-16\" x=\"23.25293\" y=\"26.96875\"/>\n",
       "  <use xlink:href=\"#glyph0-17\" x=\"28.742188\" y=\"26.96875\"/>\n",
       "  <use xlink:href=\"#glyph0-5\" x=\"37.615234\" y=\"26.96875\"/>\n",
       "  <use xlink:href=\"#glyph0-11\" x=\"46.228516\" y=\"26.96875\"/>\n",
       "</g>\n",
       "<g style=\"fill:rgb(0%,0%,0%);fill-opacity:1;\">\n",
       "  <use xlink:href=\"#glyph0-18\" x=\"123.722656\" y=\"227.71875\"/>\n",
       "  <use xlink:href=\"#glyph0-11\" x=\"131.775391\" y=\"227.71875\"/>\n",
       "  <use xlink:href=\"#glyph0-10\" x=\"137.53125\" y=\"227.71875\"/>\n",
       "  <use xlink:href=\"#glyph0-13\" x=\"146.110352\" y=\"227.71875\"/>\n",
       "  <use xlink:href=\"#glyph0-19\" x=\"154.983398\" y=\"227.71875\"/>\n",
       "</g>\n",
       "<g style=\"fill:rgb(0%,0%,0%);fill-opacity:1;\">\n",
       "  <use xlink:href=\"#glyph0-20\" x=\"32.617188\" y=\"286.847656\"/>\n",
       "  <use xlink:href=\"#glyph0-5\" x=\"43.46582\" y=\"286.847656\"/>\n",
       "  <use xlink:href=\"#glyph0-7\" x=\"52.079102\" y=\"286.847656\"/>\n",
       "  <use xlink:href=\"#glyph0-11\" x=\"60.644531\" y=\"286.847656\"/>\n",
       "  <use xlink:href=\"#glyph0-21\" x=\"66.400391\" y=\"286.847656\"/>\n",
       "  <use xlink:href=\"#glyph0-5\" x=\"75.287109\" y=\"286.847656\"/>\n",
       "</g>\n",
       "</g>\n",
       "</svg>\n"
      ],
      "text/plain": [
       "<igraph.drawing.Plot at 0x7fa7fd0ba898>"
      ]
     },
     "execution_count": 62,
     "metadata": {
      "image/svg+xml": {
       "isolated": true
      }
     },
     "output_type": "execute_result"
    }
   ],
   "source": [
    "plot(g, \"social_network.png\", **visual_style)"
   ]
  },
  {
   "cell_type": "markdown",
   "metadata": {},
   "source": [
    "## Read csv file"
   ]
  },
  {
   "cell_type": "code",
   "execution_count": 1,
   "metadata": {},
   "outputs": [],
   "source": [
    "import csv, igraph\n",
    "from igraph import *\n",
    "reader = csv.reader(open(\"log10.csv\"))\n",
    "graph = igraph.Graph.TupleList(reader)"
   ]
  },
  {
   "cell_type": "code",
   "execution_count": 2,
   "metadata": {},
   "outputs": [
    {
     "data": {
      "text/plain": [
       "<igraph.Graph at 0x7f3428148c78>"
      ]
     },
     "execution_count": 2,
     "metadata": {},
     "output_type": "execute_result"
    }
   ],
   "source": [
    "graph"
   ]
  },
  {
   "cell_type": "code",
   "execution_count": null,
   "metadata": {},
   "outputs": [],
   "source": []
  }
 ],
 "metadata": {
  "kernelspec": {
   "display_name": "Python 3",
   "language": "python",
   "name": "python3"
  },
  "language_info": {
   "codemirror_mode": {
    "name": "ipython",
    "version": 3
   },
   "file_extension": ".py",
   "mimetype": "text/x-python",
   "name": "python",
   "nbconvert_exporter": "python",
   "pygments_lexer": "ipython3",
   "version": "3.6.9"
  }
 },
 "nbformat": 4,
 "nbformat_minor": 4
}
