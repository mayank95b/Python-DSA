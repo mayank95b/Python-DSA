{
 "cells": [
  {
   "cell_type": "markdown",
   "metadata": {},
   "source": [
    "# 1. Introduction of Graphs"
   ]
  },
  {
   "cell_type": "markdown",
   "metadata": {},
   "source": [
    "A Graph is a non-linear data structure consisting of **nodes** and **edges**. The nodes are sometimes also referred to as **vertices** and the edges are lines or arcs that connect any two nodes in the graph. \n",
    "More formally a Graph can be defined as,\n",
    "\n",
    "  *A Graph consists of a finite set of vertices(or nodes) and set of Edges which connect a pair of nodes.*\n",
    "\n",
    "Graphs are a more general structure than trees.Graphs can be used to represent many real world things such as systems of roads, airline flights from city to cty, how the internet is connected, etc."
   ]
  },
  {
   "cell_type": "markdown",
   "metadata": {},
   "source": [
    "## Example Graph\n",
    "\n",
    "<img src=\"Images/graph.gif\">"
   ]
  },
  {
   "cell_type": "markdown",
   "metadata": {},
   "source": [
    "### Vertex (Nodes)\n",
    "\n",
    "- A vertex (also called a \"**node**\") is a fundamental part of a graph.\n",
    "- It can have a name, which can be called as \"key\".\n",
    "- A vertex may also have additional information called as  the “payload.\n",
    "\n",
    "### Edge\n",
    "\n",
    "- An edge connects two vertices to show that there is a relationship between them. \n",
    "- Edges may be one-way or two-way. \n",
    "- If the edges in a graph are all one-way, we say that the graph is a **directed graph,** or **a digraph**. \n"
   ]
  },
  {
   "cell_type": "markdown",
   "metadata": {},
   "source": [
    "<img src=\"Images/undirectedgraph.png\">"
   ]
  },
  {
   "cell_type": "markdown",
   "metadata": {},
   "source": [
    "### Weight\n",
    "\n",
    "- Edges may be weighted to show that there is a cost to go from one vertex to another. \n",
    "- For example in a graph of roads that connect one city to another, the weight on the edge might represent the distance between the two cities."
   ]
  },
  {
   "cell_type": "markdown",
   "metadata": {},
   "source": [
    "## Formal definition of a Graph\n",
    "\n",
    "- A graph can be represented by **G** where **G=(V,E)**\n",
    "- For the graph **G, V** is a set of vertices and **E** is a set of edges. \n",
    "- Each edge is a tuple **(v,w)** where **w,v∈V**\n",
    "- We can add a third component to the edge tuple to represent a weight. \n",
    "- A subgraph **s** is a set of edges **e** and vertices **v** such that **e⊂E** and **v⊂V**"
   ]
  },
  {
   "cell_type": "markdown",
   "metadata": {},
   "source": [
    "### Example\n",
    "<img src=\"Images/weight.png\" align ='right' width='30%'>\n",
    "\n",
    "- **V={V0,V1,V2,V3,V4,V5}**\n",
    "\n",
    "- **E={(v0,v1,5),(v1,v2,4),(v2,v3,9),**\n",
    "  \n",
    "  **(v3,v4,7),(v4,v0,1),(v0,v5,2),**\n",
    "  \n",
    "  **(v5,v4,8),(v3,v5,3),(v5,v2,1)}**"
   ]
  },
  {
   "cell_type": "markdown",
   "metadata": {},
   "source": [
    "## Path \n",
    "\n",
    "- A path in a graph is a sequence of vertices that are connected by edges. \n",
    "- Formally we would define a path as **w1,w2,...,wn**  such that **(wi,wi+1)∈E** for all **1≤i≤n−1** \n",
    "- The unweighted path length is the number of edges in the path, specifically **n−1**. \n",
    "- The weighted path length is the sum of the weights of all the edges in the path.\n",
    "\n",
    "### Example :\n",
    "<img src = \"Images/path.png\" width=\"50%\">"
   ]
  },
  {
   "cell_type": "markdown",
   "metadata": {},
   "source": [
    "## Cycle\n",
    "\n",
    "- A cycle in a directed graph is a path that starts and ends at the same vertex. \n",
    "- A graph with no cycles is called an **acyclic graph**. \n",
    "- A directed graph with no cycles is called a **directed acyclic graph** or a **DAG**. \n",
    "\n",
    "### Example:\n",
    "<img src = \"Images/cycle.png\" width=\"50%\">"
   ]
  },
  {
   "cell_type": "markdown",
   "metadata": {},
   "source": [
    "## Adjacency Matrix\n",
    "\n",
    "- One of the easiest ways to implement a graph is to use a two-dimensional matrix. \n",
    "- In this matrix implementation, each of the rows and columns represent a vertex in the graph.\n",
    "- The value that is stored in the cell at the intersection of row **v** and column **w** indicates if there is an edge from vertex **v** to vertex **w**. \n",
    "- When two vertices are connected by an edge, we say that they are **adjacent**. \n",
    "\n",
    "<img src = \"Images/matrix.png\" width=\"30%\">\n",
    "\n",
    "- The advantage of the adjacency matrix is that it is simple, and for small graphs it is easy to see which nodes are connected to other nodes. \n",
    "- However, notice that most of the cells in the matrix are empty. \n",
    "- Because most of the cells are empty we say that this matrix is “**sparse**.” \n",
    "- A matrix is not a very efficient way to store sparse data\n",
    "- The adjacency matrix is a good implementation for a graph when the number of edges is large. \n",
    "- Since there is one row and one column for every vertex in the graph, the number of edges required to fill the matrix is |V|2. \n",
    "- A matrix is full when every vertex is connected to every other vertex. "
   ]
  },
  {
   "cell_type": "markdown",
   "metadata": {},
   "source": [
    "## Adjacency List\n",
    "\n",
    "- A more space-efficient way to implement a sparsely connected graph is to use an adjacency list. \n",
    "- In an adjacency list implementation we keep a master list of all the vertices in the Graph object and then each vertex object in the graph maintains a list of the other vertices that it is connected to. \n",
    " \n",
    "<img src=\"Images/list.png\" width=\"30%\">\n",
    "\n",
    "- The advantage of the adjacency list implementation is that it allows us to compactly represent a sparse graph.\n",
    "- The adjacency list also allows us to easily find all the links that are directly connected to a particular vertex"
   ]
  },
  {
   "cell_type": "markdown",
   "metadata": {},
   "source": [
    "# 2. Implementation of a Graph as an Adjacency List"
   ]
  },
  {
   "cell_type": "markdown",
   "metadata": {},
   "source": [
    "Using dictionaries, it is easy to implement the adjacency list in python. In our implementation of the graph abstract data type we will create two classes: **Graph**, which holds the master list of vertices, and **Vertex**, which will represent each vertex in the graph.\n",
    "\n",
    "Each Vertex uses dictionary to keep track of the vertices to which it is connected, and the weight of each edge.This dictionary is called **connectedTo**. The constructor simply initializes the id, which typically be a string, and the **connectedTo** dictionary. The **addNeighbor** method is used to add a connection from this vertex to another. The **getConnections** method returns all of the vertices in the adjacency list, as represented by the connectedTo instance variable. The **getWeight** method returns the weight of the edge from this vertex to the vertex passed as a parameter."
   ]
  },
  {
   "cell_type": "code",
   "execution_count": 11,
   "metadata": {},
   "outputs": [],
   "source": [
    "class Vertex:\n",
    "    def __init__(self,key):\n",
    "        self.id = key\n",
    "        self.connectedTo = {}\n",
    "\n",
    "    def addNeighbor(self,nbr,weight=0):\n",
    "        self.connectedTo[nbr] = weight\n",
    "\n",
    "    def __str__(self):\n",
    "        return str(self.id) + ' connectedTo: ' + str([x.id for x in self.connectedTo])\n",
    "\n",
    "    def getConnections(self):\n",
    "        return self.connectedTo.keys()\n",
    "\n",
    "    def getId(self):\n",
    "        return self.id\n",
    "\n",
    "    def getWeight(self,nbr):\n",
    "        return self.connectedTo[nbr]\n",
    "\n"
   ]
  },
  {
   "cell_type": "markdown",
   "metadata": {},
   "source": [
    "\n",
    "\n",
    "In order to implement a Graph as an Adjacency List what we need to do is define the methods our Adjacency List object will have:\n",
    "\n",
    "- **Graph()** creates a new, empty graph.\n",
    "- **addVertex(vert)** adds an instance of Vertex to the graph.\n",
    "- **addEdge(fromVert, toVert)** Adds a new, directed edge to the graph that connects two vertices.\n",
    "- **addEdge(fromVert, toVert, weight)** Adds a new, weighted, directed edge to the graph that connects two vertices.\n",
    "- **getVertex(vertKey)** finds the vertex in the graph named vertKey.\n",
    "- **getVertices()** returns the list of all vertices in the graph.\n",
    "- **in** returns True for a statement of the form vertex in graph, if the given vertex is in the graph, False otherwise.\n",
    "\n",
    "\n"
   ]
  },
  {
   "cell_type": "code",
   "execution_count": 12,
   "metadata": {},
   "outputs": [],
   "source": [
    "class Graph:\n",
    "    def __init__(self):\n",
    "        self.vertList = {}\n",
    "        self.numVertices = 0\n",
    "\n",
    "    def addVertex(self,key):\n",
    "        self.numVertices = self.numVertices + 1\n",
    "        newVertex = Vertex(key)\n",
    "        self.vertList[key] = newVertex\n",
    "        return newVertex\n",
    "\n",
    "    def getVertex(self,n):\n",
    "        if n in self.vertList:\n",
    "            return self.vertList[n]\n",
    "        else:\n",
    "            return None\n",
    "    \n",
    "    def __contains__(self,n):\n",
    "        return n in self.vertList\n",
    "\n",
    "    def addEdge(self,f,t,cost=0):\n",
    "        if f not in self.vertList:\n",
    "            nv = self.addVertex(f)\n",
    "        if t not in self.vertList:\n",
    "            nv = self.addVertex(t)\n",
    "        self.vertList[f].addNeighbor(self.vertList[t], cost)\n",
    "\n",
    "    def getVertices(self):\n",
    "        return self.vertList.keys()\n",
    "\n",
    "    def __iter__(self):\n",
    "        return iter(self.vertList.values())"
   ]
  },
  {
   "cell_type": "code",
   "execution_count": 13,
   "metadata": {},
   "outputs": [],
   "source": [
    "g = Graph()"
   ]
  },
  {
   "cell_type": "code",
   "execution_count": 14,
   "metadata": {},
   "outputs": [],
   "source": [
    "for i in range(6):\n",
    "    g.addVertex(i)"
   ]
  },
  {
   "cell_type": "code",
   "execution_count": 15,
   "metadata": {},
   "outputs": [
    {
     "data": {
      "text/plain": [
       "{0: <__main__.Vertex at 0x7f73841e9518>,\n",
       " 1: <__main__.Vertex at 0x7f73841e9550>,\n",
       " 2: <__main__.Vertex at 0x7f73841e9128>,\n",
       " 3: <__main__.Vertex at 0x7f73841e97b8>,\n",
       " 4: <__main__.Vertex at 0x7f73841e96d8>,\n",
       " 5: <__main__.Vertex at 0x7f73841e9748>}"
      ]
     },
     "execution_count": 15,
     "metadata": {},
     "output_type": "execute_result"
    }
   ],
   "source": [
    "g.vertList"
   ]
  },
  {
   "cell_type": "code",
   "execution_count": 21,
   "metadata": {},
   "outputs": [],
   "source": [
    "g.addEdge(0,1)\n",
    "g.addEdge(1,2)\n",
    "g.addEdge(2,3)\n",
    "g.addEdge(3,4)\n",
    "g.addEdge(4,5)\n",
    "g.addEdge(5,0)"
   ]
  },
  {
   "cell_type": "code",
   "execution_count": 22,
   "metadata": {},
   "outputs": [
    {
     "name": "stdout",
     "output_type": "stream",
     "text": [
      "0 connectedTo: [1]\n",
      "dict_keys([<__main__.Vertex object at 0x7f73841e9550>])\n",
      "1 connectedTo: [3, 2]\n",
      "dict_keys([<__main__.Vertex object at 0x7f73841e97b8>, <__main__.Vertex object at 0x7f73841e9128>])\n",
      "2 connectedTo: [3]\n",
      "dict_keys([<__main__.Vertex object at 0x7f73841e97b8>])\n",
      "3 connectedTo: [4]\n",
      "dict_keys([<__main__.Vertex object at 0x7f73841e96d8>])\n",
      "4 connectedTo: [0, 5]\n",
      "dict_keys([<__main__.Vertex object at 0x7f73841e9518>, <__main__.Vertex object at 0x7f73841e9748>])\n",
      "5 connectedTo: [0]\n",
      "dict_keys([<__main__.Vertex object at 0x7f73841e9518>])\n"
     ]
    }
   ],
   "source": [
    "for vertex in g:\n",
    "    print(vertex)\n",
    "    print(vertex.getConnections())"
   ]
  },
  {
   "cell_type": "markdown",
   "metadata": {},
   "source": [
    "# 3. Breadth First Search (with FOOL SAGE Problem)\n",
    "- Breadth first search (BFS) is one of the easiest algorithms for searching a graph. \n",
    "- It also serves as a prototype for several other important graph algorithms.\n",
    "- Given a graph **G** and a starting vertex **s**, a BFS proceeds by exploring edges in the graph to find all the vertices in **G** for which there is a path from **s**. \n",
    "- The remarkable thing about a breadth first search is that it finds all the vertices that are a distance **k** from **s** before it finds any vertices that are a distance **k+1**.\n",
    "\n",
    "<img src=\"Images/level1.png\" width=\"30%\">\n",
    "\n",
    "- One good way to visualize what the breadth first search algorithm does is to imagine that it is building a tree, one level of the tree at a time. \n",
    "- A breadth first search adds all children of the starting vertex before it begins to discover any of the grandchildren.\n",
    "- To keep track of its progress, BFS colors each of the vertices white, gray, or black.\n",
    "- All the vertices are initialized to white when they are constructed.\n",
    "- A white vertex is an undiscovered vertex.\n",
    "\n",
    "<img src=\"Images/level2.png\" width=\"30%\">\n",
    "\n",
    "- When a vertex is initially discovered it is colored gray, and when BFS has completely explored a vertex it is colored black. \n",
    "- This means that once a vertex is colored black, it has no white vertices adjacent to it. \n",
    "- A gray node, on the other hand, may have some white vertices adjacent to it, indicating that there are still additional vertices to explore\n",
    "- BFS begins at the starting vertex s and colors start gray to show that it is currently being explored. \n",
    "- Two other values, the distance and the predecessor, are initialized to 0 and None respectively for the starting vertex. \n",
    "- Finally, start is placed on a Queue.\n",
    "- The next step is to begin to systematically explore vertices at the front of the queue\n",
    "- If it is white, the vertex is unexplored, and four things happen:\n",
    "    - The new, unexplored vertex **nbr**, is colored gray.\n",
    "    - The predecessor of nbr is set to the current node **currentVert**\n",
    "    - The distance to **nbr** is set to the distance to **currentVert + 1**\n",
    "    - **nbr** is added to the end of a queue. Adding **nbr** to the end of the queue effectively schedules this node for further exploration,       but not until all the other vertices on the adjacency list of **currentVert** have been explored\n",
    "    \n",
    "<img src=\"Images/level3.png\" width=\"30%\">\n",
    "\n",
    "- The amazing thing about the breadth first search solution is that we have not only solved the FOOL–SAGE problem we started out with, but we have solved many other problems along the way.\n",
    "- We can start at any vertex in the breadth first search tree and follow the predecessor arrows back to the root to find the shortest word ladder from any word back to fool."
   ]
  },
  {
   "cell_type": "code",
   "execution_count": null,
   "metadata": {},
   "outputs": [],
   "source": []
  }
 ],
 "metadata": {
  "kernelspec": {
   "display_name": "Python 3",
   "language": "python",
   "name": "python3"
  },
  "language_info": {
   "codemirror_mode": {
    "name": "ipython",
    "version": 3
   },
   "file_extension": ".py",
   "mimetype": "text/x-python",
   "name": "python",
   "nbconvert_exporter": "python",
   "pygments_lexer": "ipython3",
   "version": "3.6.9"
  }
 },
 "nbformat": 4,
 "nbformat_minor": 4
}
