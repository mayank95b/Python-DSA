{
 "cells": [
  {
   "cell_type": "markdown",
   "metadata": {},
   "source": [
    "### Performance (Execution Time) of NumPy Array versus List\n",
    "\n",
    "#### Addition of two vectors"
   ]
  },
  {
   "cell_type": "code",
   "execution_count": 10,
   "metadata": {},
   "outputs": [
    {
     "name": "stdout",
     "output_type": "stream",
     "text": [
      "Execution Time of List  : 0.4366734027862549 msec\n",
      "Execution Time of NPArr : 0.015622615814208984 msec\n",
      "Numpy is in this example 27.951362817812775 times faster!\n"
     ]
    }
   ],
   "source": [
    "import time\n",
    "import numpy as np\n",
    "\n",
    "n = 1000000 # 1 Lakh\n",
    "\n",
    "def python_list_version():\n",
    "    tlist = time.time() \n",
    "    X, Y = range(n), range(n)\n",
    "    Z = [X[i] + Y[i] for i in range(len(X))]\n",
    "    return time.time() - tlist\n",
    "\n",
    "def numpy_version():\n",
    "    tnparr = time.time() # converting sec to millisec\n",
    "    X = np.arange(n)\n",
    "    Y = np.arange(n)\n",
    "    Z = X + Y\n",
    "    return time.time() - tnparr\n",
    "\n",
    "\n",
    "t1 = python_list_version()\n",
    "t2 = numpy_version()\n",
    "\n",
    "print(\"Execution Time of List  :\", t1, \"msec\")\n",
    "print(\"Execution Time of NPArr :\", t2, \"msec\") \n",
    "\n",
    "print(\"Numpy is in this example \" + str(t1/t2) + \" times faster!\")"
   ]
  },
  {
   "cell_type": "code",
   "execution_count": null,
   "metadata": {
    "collapsed": true
   },
   "outputs": [],
   "source": [
    "time.time"
   ]
  }
 ],
 "metadata": {
  "anaconda-cloud": {},
  "kernelspec": {
   "display_name": "Python [default]",
   "language": "python",
   "name": "python3"
  },
  "language_info": {
   "codemirror_mode": {
    "name": "ipython",
    "version": 3
   },
   "file_extension": ".py",
   "mimetype": "text/x-python",
   "name": "python",
   "nbconvert_exporter": "python",
   "pygments_lexer": "ipython3",
   "version": "3.5.6"
  }
 },
 "nbformat": 4,
 "nbformat_minor": 2
}
