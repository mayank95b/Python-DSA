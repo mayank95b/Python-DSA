{
 "cells": [
  {
   "cell_type": "markdown",
   "metadata": {},
   "source": [
    "### Case Study - Statistics of wind Data of India from 2001 to 2017\n",
    "**-----------------------------------------------------------------**"
   ]
  },
  {
   "cell_type": "markdown",
   "metadata": {},
   "source": [
    "** The data in 'wind.data' has the following format::**\n",
    "\n",
    "2017  1  1 15.04 14.96 13.17  9.29 13.96  9.87 13.67 10.25 10.83 12.58 18.50 15.04\n",
    "2017  1  2 14.71 16.88 10.83  6.50 12.62  7.67 11.50 10.04  9.79  9.67 17.54 13.83\n",
    "2017  1  3 18.50 16.88 12.33 10.13 11.17  6.17 11.25  8.04  8.50  7.67 12.75 12.71\n",
    "\n",
    "- The first three columns are year, month and day.  \n",
    "- The remaining 12 columns are average windspeeds in knots at 12 locations in India on that day.\n",
    "\n",
    "Note - Use the 'loadtxt' function from numpy to read the data into an array."
   ]
  },
  {
   "cell_type": "markdown",
   "metadata": {},
   "source": [
    "#### Peroform the following operations\n",
    "1. Load data using loadtxt method and verify\n",
    "\n",
    "2. Calculate the min, max and mean windspeeds and standard deviation of the windspeeds over all the locations and all the times (a single set of numbers for the entire dataset).\n",
    "\n",
    "3. Calculate the min, max and mean windspeeds and standard deviations of the windspeeds at each location over all the days (a different set of numbers for each location)\n",
    "\n",
    "4. Calculate the min, max and mean windspeed and standard deviations of the windspeeds across all the locations at each day (a different set of numbers for each day)\n",
    "\n",
    "5. Find the location which has the greatest windspeed on each day (an integer column number for each day).\n",
    "\n",
    "6. Find the year, month and day on which the greatest windspeed was recorded.\n",
    "\n",
    "7. Find the average windspeed in January for each location.\n",
    "\n",
    "8. Calculate the mean windspeed for each month in the dataset.  Treat\n",
    "   January 2017 and January 2016 as *different* months.\n",
    "\n",
    "9. Calculate the min, max and mean windspeeds and standard deviations of the windspeeds across all locations for each week.\n",
    "\n",
    "10. Calculate the mean windspeed for each month without using a for loop. (Hint: look at `searchsorted` and `add.reduceat`.)\n",
    "\n",
    "\n",
    "**Note: You should be able to perform all of these operations without using a for loop or other looping construct.**"
   ]
  },
  {
   "cell_type": "code",
   "execution_count": 1,
   "metadata": {
    "collapsed": true
   },
   "outputs": [],
   "source": [
    "from numpy import (loadtxt, arange, searchsorted, add, zeros, unravel_index,\n",
    "                   where)"
   ]
  },
  {
   "cell_type": "markdown",
   "metadata": {},
   "source": [
    "#### 1. Load data"
   ]
  },
  {
   "cell_type": "code",
   "execution_count": 2,
   "metadata": {},
   "outputs": [
    {
     "data": {
      "text/plain": [
       "(6574, 15)"
      ]
     },
     "execution_count": 2,
     "metadata": {},
     "output_type": "execute_result"
    }
   ],
   "source": [
    "wind_data = loadtxt('wind.data')\n",
    "\n",
    "# Print the shape\n",
    "wind_data.shape"
   ]
  },
  {
   "cell_type": "code",
   "execution_count": 3,
   "metadata": {},
   "outputs": [
    {
     "name": "stdout",
     "output_type": "stream",
     "text": [
      "[  2.01700000e+03   1.00000000e+00   2.00000000e+00   1.47100000e+01\n",
      "   1.68800000e+01   1.08300000e+01   6.50000000e+00   1.26200000e+01\n",
      "   7.67000000e+00   1.15000000e+01   1.00400000e+01   9.79000000e+00\n",
      "   9.67000000e+00   1.75400000e+01   1.38300000e+01]\n"
     ]
    }
   ],
   "source": [
    "# First row - year, month, day, wind speed at 12 locations - 15 cols\n",
    "print(wind_data[1,:]) # Converted everything to float"
   ]
  },
  {
   "cell_type": "markdown",
   "metadata": {},
   "source": [
    "#### 2. Calculate the min, max and mean windspeeds and standard deviation of the windspeeds over all the locations and all the times (a single set of numbers for the entire dataset)."
   ]
  },
  {
   "cell_type": "code",
   "execution_count": 4,
   "metadata": {},
   "outputs": [
    {
     "name": "stdout",
     "output_type": "stream",
     "text": [
      "2. Statistics over all values\n",
      "  min: 0.0\n",
      "  max: 42.54\n",
      "  mean: 10.2283737704\n",
      "  standard deviation: 5.6038401811\n",
      "\n"
     ]
    }
   ],
   "source": [
    "# We should ignore first 3 cols - year, month, day\n",
    "\n",
    "# Get only wind data\n",
    "data = wind_data[:, 3:]\n",
    "\n",
    "print('2. Statistics over all values')\n",
    "print('  min:', data.min())\n",
    "print('  max:', data.max())\n",
    "print('  mean:', data.mean())\n",
    "print('  standard deviation:', data.std())\n",
    "print()"
   ]
  },
  {
   "cell_type": "markdown",
   "metadata": {},
   "source": [
    "#### 3. Calculate the min, max and mean windspeeds and standard deviations of the  windspeeds at each location over all the days (a different set of numbers for each location)"
   ]
  },
  {
   "cell_type": "code",
   "execution_count": 5,
   "metadata": {},
   "outputs": [
    {
     "name": "stdout",
     "output_type": "stream",
     "text": [
      "3. Statistics over all days at each location\n",
      "  min: [ 0.67  0.21  1.5   0.    0.13  0.    0.    0.    0.    0.04  0.13  0.67]\n",
      "  max: [ 35.8   33.37  33.84  28.46  37.54  26.16  30.37  31.08  25.88  28.21\n",
      "  42.38  42.54]\n",
      "  mean: [ 12.36371463  10.64644813  11.66010344   6.30627472  10.45688013\n",
      "   7.09225434   9.7968345    8.49442044   8.49581838   8.70726803\n",
      "  13.121007    15.59946152]\n",
      "  standard deviation: [ 5.61918301  5.26820081  5.00738377  3.60513309  4.93536333  3.96838126\n",
      "  4.97689374  4.49865783  4.16746101  4.50327222  5.83459319  6.69734719]\n",
      "\n"
     ]
    }
   ],
   "source": [
    "# Each column belongs to one location, access data column wise\n",
    "# and perform min, max..\n",
    "\n",
    "# axis = 0 --> columns\n",
    "\n",
    "# 12 locations - 12mins, 12maxs, 12 means, 12 std vals\n",
    "\n",
    "data = wind_data[:, 3:]\n",
    "\n",
    "print('3. Statistics over all days at each location')\n",
    "print('  min:', data.min(axis=0))\n",
    "print('  max:', data.max(axis=0))\n",
    "print('  mean:', data.mean(axis=0))\n",
    "print('  standard deviation:', data.std(axis=0))\n",
    "print()"
   ]
  },
  {
   "cell_type": "markdown",
   "metadata": {},
   "source": [
    "#### 4. Calculate the min, max and mean windspeed and standard deviations of the windspeeds across all the locations at each day (a different set of numbers for each day)"
   ]
  },
  {
   "cell_type": "code",
   "execution_count": 6,
   "metadata": {},
   "outputs": [
    {
     "name": "stdout",
     "output_type": "stream",
     "text": [
      "4. Statistics over all locations for each day\n",
      "  min: [ 9.29  6.5   6.17 ...,  8.71  9.13  9.59]\n",
      "  max: [ 18.5   17.54  18.5  ...,  29.58  28.79  27.29]\n",
      "  mean: [ 13.09666667  11.79833333  11.34166667 ...,  14.89        15.3675      15.4025    ]\n",
      "  standard deviation: [ 2.5773188   3.28972854  3.50543348 ...,  5.51175108  5.30456427\n",
      "  5.45971172]\n",
      "\n"
     ]
    },
    {
     "data": {
      "text/plain": [
       "(6574,)"
      ]
     },
     "execution_count": 6,
     "metadata": {},
     "output_type": "execute_result"
    }
   ],
   "source": [
    "# each day -- a day is a row for 12 locations \n",
    "# Use axis = 1 for row\n",
    "\n",
    "# i.e minimum wind speed of all 12 locations on every day\n",
    "# so, we get 6574 min values\n",
    "\n",
    "print('4. Statistics over all locations for each day')\n",
    "print('  min:', data.min(axis=1))\n",
    "print('  max:', data.max(axis=1))\n",
    "print('  mean:', data.mean(axis=1))\n",
    "print('  standard deviation:', data.std(axis=1))\n",
    "print()\n",
    "\n",
    "# Check the dimension of min array\n",
    "data.min(axis=1).shape"
   ]
  },
  {
   "cell_type": "markdown",
   "metadata": {},
   "source": [
    "#### 5. Find the location which has the greatest windspeed on each day (an integer column number for each day)."
   ]
  },
  {
   "cell_type": "code",
   "execution_count": 8,
   "metadata": {},
   "outputs": [
    {
     "name": "stdout",
     "output_type": "stream",
     "text": [
      "5. Location of daily maximum\n",
      "  daily max location: [10 10  0 ..., 11 11  2]\n",
      "\n"
     ]
    }
   ],
   "source": [
    "print('5. Location of daily maximum')\n",
    "print('  daily max location:', data.argmax(axis=1))  #Return index of column with max wind\n",
    "print()"
   ]
  },
  {
   "cell_type": "code",
   "execution_count": 9,
   "metadata": {},
   "outputs": [],
   "source": [
    "# Print all the locations with max wind speed for each day\n",
    "\n",
    "#for loc in data.argmax(axis=1):\n",
    "#    print(loc)"
   ]
  },
  {
   "cell_type": "markdown",
   "metadata": {},
   "source": [
    "#### 6. Find the year, month and day on which the greatest windspeed was recorded."
   ]
  },
  {
   "cell_type": "code",
   "execution_count": 10,
   "metadata": {},
   "outputs": [
    {
     "name": "stdout",
     "output_type": "stream",
     "text": [
      "[2161] [11]\n",
      "\n",
      "6. Day of maximum reading\n",
      "  Year: 2013\n",
      "  Month: 12\n",
      "  Day: 2\n",
      "\n"
     ]
    }
   ],
   "source": [
    "# Take all the columns and rows - wind_data\n",
    "\n",
    "# Get row and col where wind speed is max\n",
    "\n",
    "max_row, max_col = where(data == data.max())\n",
    "\n",
    "# max-row --> row number where max wind speed is present\n",
    "# max_col --> col number where maximum wind spaed is present\n",
    "\n",
    "print(max_row, max_col)\n",
    "\n",
    "print()\n",
    "print('6. Day of maximum reading')\n",
    "print('  Year:', int(wind_data[max_row, 0])) # col0 - year\n",
    "print('  Month:', int(wind_data[max_row, 1])) # col1 - month\n",
    "print('  Day:', int(wind_data[max_row, 2]))  # col2 - day\n",
    "print()\n",
    "\n",
    "january_indices = wind_data[:, 1] == 1\n",
    "january_data = data[january_indices]\n",
    "\n"
   ]
  },
  {
   "cell_type": "markdown",
   "metadata": {},
   "source": [
    "#### 7. Find the average windspeed in January for each location."
   ]
  },
  {
   "cell_type": "code",
   "execution_count": 11,
   "metadata": {},
   "outputs": [
    {
     "name": "stdout",
     "output_type": "stream",
     "text": [
      "  mean: [ 14.86955197  12.92166667  13.29962366   7.19949821  11.67571685\n",
      "   8.05483871  11.81935484   9.5094086    9.54320789  10.05356631\n",
      "  14.55051971  18.02876344]\n"
     ]
    }
   ],
   "source": [
    "print('  mean:', january_data.mean(axis=0))"
   ]
  },
  {
   "cell_type": "markdown",
   "metadata": {},
   "source": [
    "### Exercise 1\n",
    "#### 8. Calculate the mean windspeed for each month in the dataset. Treat January 2017 and January 2016 as different months."
   ]
  },
  {
   "cell_type": "code",
   "execution_count": 12,
   "metadata": {},
   "outputs": [],
   "source": [
    "# compute the month number for each day in the dataset\n"
   ]
  },
  {
   "cell_type": "code",
   "execution_count": 13,
   "metadata": {},
   "outputs": [
    {
     "ename": "IndentationError",
     "evalue": "expected an indented block (<ipython-input-13-74a445f95d79>, line 24)",
     "output_type": "error",
     "traceback": [
      "\u001b[0;36m  File \u001b[0;32m\"<ipython-input-13-74a445f95d79>\"\u001b[0;36m, line \u001b[0;32m24\u001b[0m\n\u001b[0;31m    print(\"  mean:\", monthly_means)\u001b[0m\n\u001b[0m        ^\u001b[0m\n\u001b[0;31mIndentationError\u001b[0m\u001b[0;31m:\u001b[0m expected an indented block\n"
     ]
    }
   ],
   "source": [
    "# we're going to use the month values as indices, so we need\n",
    "# them to be integers\n",
    "months = months.astype(int)\n",
    "\n",
    "# get set of unique months\n",
    "month_values = set(months)\n",
    "\n",
    "# initialize an array to hold the result\n",
    "monthly_means = zeros(len(month_values))\n",
    "\n",
    "for month in month_values:\n",
    "    # find the rows that correspond to the current month\n",
    "    \n",
    "\n",
    "    # extract the data for the current month using fancy indexing\n",
    "    \n",
    "\n",
    "    # find the mean\n",
    "    \n",
    "    \n",
    "# In fact the whole for loop could reduce to the following one-liner\n",
    "# monthly_means = array([data[months==month].mean() for month in month_values])\n",
    "\n",
    "print(\" mean:\", monthly_means)\n",
    "print()"
   ]
  },
  {
   "cell_type": "markdown",
   "metadata": {},
   "source": [
    "#### 9.  Calculate the min, max and mean windspeeds and standard deviations of the windspeeds across all locations for each week."
   ]
  },
  {
   "cell_type": "code",
   "execution_count": 45,
   "metadata": {},
   "outputs": [
    {
     "name": "stdout",
     "output_type": "stream",
     "text": [
      "  Weekly statistics over all locations\n",
      "  min: [ 1.79  0.5   1.04  2.17  3.63  8.08  3.42  2.21  5.66  1.71  2.75  2.58\n",
      "  1.46  3.21  1.54  0.83  1.38  3.83  1.04  3.33  1.63  3.29  3.21  1.58\n",
      "  2.88  4.42  3.54  2.67  1.46  2.17  2.25  2.5   6.83  3.96  1.13  1.25\n",
      "  4.17  1.46  3.21  1.04  2.96  3.75  2.21  1.71  1.33  0.63  2.88  1.92\n",
      "  3.13  5.46  0.58  0.42]\n",
      "  max: [ 18.5   20.71  20.79  27.63  27.71  26.38  28.62  29.63  25.8   22.71\n",
      "  22.95  21.54  22.5   18.29  16.17  21.09  17.5   28.08  26.63  15.96\n",
      "  20.96  17.96  19.83  25.25  24.71  21.87  21.29  22.5   21.42  25.37\n",
      "  20.25  14.58  24.3   22.29  24.71  20.25  33.09  20.96  23.21  19.62\n",
      "  21.04  33.45  30.88  23.58  20.41  32.71  22.58  23.75  29.33  25.62\n",
      "  24.41  29.33]\n",
      "  mean: [ 10.30154762   8.895        9.29952381  14.92047619  12.7902381\n",
      "  16.03654762  13.69488095  11.7597619   13.05642857  10.07535714\n",
      "  12.7502381    9.80142857  11.27690476   8.75619048   7.65988095\n",
      "   9.45642857   7.72511905  11.66607143   9.49797619   7.80666667\n",
      "   7.18857143   9.00452381   8.875        9.0952381   10.33083333\n",
      "  10.00547619  10.6002381   11.00452381   6.49833333   8.98964286\n",
      "   9.41059524   7.79928571  12.4302381   11.87083333   9.44535714\n",
      "   8.19107143  14.2775       7.46892857  11.56797619   7.62214286\n",
      "  10.17690476  14.2122619   14.60130952  10.64011905   7.72940476\n",
      "   8.01428571   8.87488095   9.48154762  11.85857143  14.06452381\n",
      "   8.65619048  10.34535714]\n",
      "  standard deviation: [ 3.59683343  4.6321592   4.79571607  5.47394258  5.65514325  4.11000594\n",
      "  4.54837111  4.94462261  4.6677826   4.02365667  4.46287223  3.9157436\n",
      "  4.26987174  3.57409826  3.32839139  4.88978932  3.65416119  4.56799868\n",
      "  6.1608199   3.08495594  3.76150367  3.03276332  3.13056039  4.43310449\n",
      "  4.23035437  3.52044721  3.96014399  4.53741415  3.32806709  4.99611526\n",
      "  3.95783772  2.79584674  3.49525698  4.37060588  5.8672575   4.11062271\n",
      "  6.10904947  3.3877883   4.52344048  4.24576374  4.1320066   6.6091067\n",
      "  6.12878742  4.81716388  3.93763506  5.65747468  3.97790909  5.02698989\n",
      "  4.93450054  4.53654116  5.08608744  5.42755655]\n",
      "\n"
     ]
    }
   ],
   "source": [
    "# Extract the data for the first 52 weeks. Then reshape the array to put\n",
    "# on the same line 7 days worth of data for all locations. Let Numpy\n",
    "# figure out the number of lines needed to do so\n",
    "weekly_data = data[:52 * 7].reshape(-1, 7 * 12)\n",
    "\n",
    "print('  Weekly statistics over all locations')\n",
    "print('  min:', weekly_data.min(axis=1))\n",
    "print('  max:', weekly_data.max(axis=1))\n",
    "print('  mean:', weekly_data.mean(axis=1))\n",
    "print('  standard deviation:', weekly_data.std(axis=1))\n",
    "print()"
   ]
  },
  {
   "cell_type": "markdown",
   "metadata": {},
   "source": [
    "### Exercise 2\n",
    "#### 10. Calculate the mean windspeed for each month without using a for loop. (Hint: look at searchsorted and add.reduceat.)"
   ]
  },
  {
   "cell_type": "code",
   "execution_count": null,
   "metadata": {
    "collapsed": true
   },
   "outputs": [],
   "source": []
  }
 ],
 "metadata": {
  "anaconda-cloud": {},
  "kernelspec": {
   "display_name": "Python [default]",
   "language": "python",
   "name": "python3"
  },
  "language_info": {
   "codemirror_mode": {
    "name": "ipython",
    "version": 3
   },
   "file_extension": ".py",
   "mimetype": "text/x-python",
   "name": "python",
   "nbconvert_exporter": "python",
   "pygments_lexer": "ipython3",
   "version": "3.5.6"
  }
 },
 "nbformat": 4,
 "nbformat_minor": 2
}
