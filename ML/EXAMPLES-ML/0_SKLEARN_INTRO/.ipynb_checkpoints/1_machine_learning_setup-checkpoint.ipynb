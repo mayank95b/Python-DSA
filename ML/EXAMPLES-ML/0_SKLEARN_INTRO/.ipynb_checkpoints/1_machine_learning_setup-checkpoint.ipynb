{
 "cells": [
  {
   "cell_type": "markdown",
   "metadata": {},
   "source": [
    "# Setting up Python for machine learning:\n",
    "# scikit-learn and Jupyter Notebook "
   ]
  },
  {
   "cell_type": "markdown",
   "metadata": {},
   "source": [
    "## Outline\n",
    "\n",
    "- What are the benefits and drawbacks of scikit-learn?\n",
    "- How do I install scikit-learn?\n",
    "- How do I use the Jupyter Notebook?\n",
    "- What are some good resources for learning Python?"
   ]
  },
  {
   "cell_type": "markdown",
   "metadata": {},
   "source": [
    "![scikit-learn algorithm map](sklearn_algos_map.png)"
   ]
  },
  {
   "cell_type": "markdown",
   "metadata": {},
   "source": [
    "## 1. Benefits and drawbacks of scikit-learn\n",
    "\n",
    "### Benefits:\n",
    "\n",
    "- **Consistent interface** to machine learning models\n",
    "- Provides many **tuning parameters** but with **sensible defaults**\n",
    "- Exceptional **documentation**\n",
    "- Rich set of functionality for **companion tasks**\n",
    "- **Active community** for development and support\n",
    "\n",
    "### Potential drawbacks:\n",
    "\n",
    "- Harder (than R) to **get started with machine learning**\n",
    "- Less emphasis (than R) on **model interpretability**\n",
    "\n",
    "### Further reading:\n",
    "\n",
    "- Ben Lorica: [Six reasons why I recommend scikit-learn](http://radar.oreilly.com/2013/12/six-reasons-why-i-recommend-scikit-learn.html)\n",
    "- scikit-learn authors: [API design for machine learning software](http://arxiv.org/pdf/1309.0238v1.pdf)\n",
    "- Data School: [Should you teach Python or R for data science?](http://www.dataschool.io/python-or-r-for-data-science/)"
   ]
  },
  {
   "cell_type": "markdown",
   "metadata": {},
   "source": [
    "## 2. Installing scikit-learn\n",
    "\n",
    "**Option 1:** [Install scikit-learn library](http://scikit-learn.org/stable/install.html) and dependencies (NumPy and SciPy)\n",
    "\n",
    "**Option 2:** [Install Anaconda distribution](https://www.anaconda.com/download/) of Python, which includes:\n",
    "\n",
    "- Hundreds of useful packages (including scikit-learn)\n",
    "- IPython and Jupyter Notebook\n",
    "- conda package manager\n",
    "- Spyder IDE"
   ]
  },
  {
   "cell_type": "markdown",
   "metadata": {},
   "source": [
    "## 3. Using the Jupyter Notebook\n",
    "\n",
    "### Components:\n",
    "\n",
    "- **IPython interpreter:** enhanced version of the standard Python interpreter\n",
    "- **Browser-based notebook interface:** weave together code, formatted text, and plots\n",
    "\n",
    "### Installation:\n",
    "\n",
    "- **Option 1:** [Install the Jupyter notebook](https://jupyter.readthedocs.io/en/latest/install.html) (includes IPython)\n",
    "- **Option 2:** Included with the Anaconda distribution\n",
    "\n",
    "### Launching the Notebook:\n",
    "\n",
    "- Type **jupyter notebook** at the command line to open the dashboard\n",
    "- Don't close the command line window while the Notebook is running\n",
    "\n",
    "### Keyboard shortcuts:\n",
    "\n",
    "**Command mode** (gray border)\n",
    "\n",
    "- Create new cells above (**a**) or below (**b**) the current cell\n",
    "- Navigate using the **up arrow** and **down arrow**\n",
    "- Convert the cell type to Markdown (**m**) or code (**y**)\n",
    "- See keyboard shortcuts using **h**\n",
    "- Switch to Edit mode using **Enter**\n",
    "\n",
    "**Edit mode** (green border)\n",
    "\n",
    "- **Ctrl+Enter** to run a cell\n",
    "- Switch to Command mode using **Esc**\n",
    "\n",
    "### IPython, Jupyter, and Markdown resources:\n",
    "\n",
    "- [nbviewer](http://nbviewer.jupyter.org/): view notebooks online as static documents\n",
    "- [IPython documentation](http://ipython.readthedocs.io/en/stable/)\n",
    "- [Jupyter Notebook quickstart](http://jupyter.readthedocs.io/en/latest/content-quickstart.html)\n",
    "- [GitHub's Mastering Markdown](https://guides.github.com/features/mastering-markdown/): short guide with lots of examples"
   ]
  }
 ],
 "metadata": {
  "kernelspec": {
   "display_name": "Python 3",
   "language": "python",
   "name": "python3"
  },
  "language_info": {
   "codemirror_mode": {
    "name": "ipython",
    "version": 3
   },
   "file_extension": ".py",
   "mimetype": "text/x-python",
   "name": "python",
   "nbconvert_exporter": "python",
   "pygments_lexer": "ipython3",
   "version": "3.6.8"
  }
 },
 "nbformat": 4,
 "nbformat_minor": 1
}
